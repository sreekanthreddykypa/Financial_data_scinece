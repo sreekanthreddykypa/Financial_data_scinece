{
  "cells": [
    {
      "cell_type": "markdown",
      "source": [
        "## Due Data: Dec. 1st"
      ],
      "metadata": {
        "id": "gBSzim-KoLDB"
      },
      "id": "gBSzim-KoLDB"
    },
    {
      "cell_type": "markdown",
      "source": [
        "# Assignment 5"
      ],
      "metadata": {
        "id": "kMBKGRAJoLLV"
      },
      "id": "kMBKGRAJoLLV"
    },
    {
      "cell_type": "markdown",
      "source": [
        "In this assignment, you are required to pick 2 machine learning models of your choice and then apply it to model the credit risk using `German Credit Risk`data. Do not forget to explain/interpret the steps you follow."
      ],
      "metadata": {
        "id": "UYOMa2X8oLRJ"
      },
      "id": "UYOMa2X8oLRJ"
    },
    {
      "cell_type": "code",
      "execution_count": 1,
      "id": "502a7845",
      "metadata": {
        "colab": {
          "base_uri": "https://localhost:8080/",
          "height": 206
        },
        "id": "502a7845",
        "outputId": "61478ff0-ef0c-47b1-bea2-b56126627dd0"
      },
      "outputs": [
        {
          "output_type": "execute_result",
          "data": {
            "text/plain": [
              "   Unnamed: 0  Age     Sex  Job Housing Saving accounts Checking account  \\\n",
              "0           0   67    male    2     own             NaN           little   \n",
              "1           1   22  female    2     own          little         moderate   \n",
              "2           2   49    male    1     own          little              NaN   \n",
              "3           3   45    male    2    free          little           little   \n",
              "4           4   53    male    2    free          little           little   \n",
              "\n",
              "   Credit amount  Duration              Purpose  Risk  \n",
              "0           1169         6             radio/TV  good  \n",
              "1           5951        48             radio/TV   bad  \n",
              "2           2096        12            education  good  \n",
              "3           7882        42  furniture/equipment  good  \n",
              "4           4870        24                  car   bad  "
            ],
            "text/html": [
              "\n",
              "  <div id=\"df-cefc015d-6ba5-47f6-9bda-867d328659d6\">\n",
              "    <div class=\"colab-df-container\">\n",
              "      <div>\n",
              "<style scoped>\n",
              "    .dataframe tbody tr th:only-of-type {\n",
              "        vertical-align: middle;\n",
              "    }\n",
              "\n",
              "    .dataframe tbody tr th {\n",
              "        vertical-align: top;\n",
              "    }\n",
              "\n",
              "    .dataframe thead th {\n",
              "        text-align: right;\n",
              "    }\n",
              "</style>\n",
              "<table border=\"1\" class=\"dataframe\">\n",
              "  <thead>\n",
              "    <tr style=\"text-align: right;\">\n",
              "      <th></th>\n",
              "      <th>Unnamed: 0</th>\n",
              "      <th>Age</th>\n",
              "      <th>Sex</th>\n",
              "      <th>Job</th>\n",
              "      <th>Housing</th>\n",
              "      <th>Saving accounts</th>\n",
              "      <th>Checking account</th>\n",
              "      <th>Credit amount</th>\n",
              "      <th>Duration</th>\n",
              "      <th>Purpose</th>\n",
              "      <th>Risk</th>\n",
              "    </tr>\n",
              "  </thead>\n",
              "  <tbody>\n",
              "    <tr>\n",
              "      <th>0</th>\n",
              "      <td>0</td>\n",
              "      <td>67</td>\n",
              "      <td>male</td>\n",
              "      <td>2</td>\n",
              "      <td>own</td>\n",
              "      <td>NaN</td>\n",
              "      <td>little</td>\n",
              "      <td>1169</td>\n",
              "      <td>6</td>\n",
              "      <td>radio/TV</td>\n",
              "      <td>good</td>\n",
              "    </tr>\n",
              "    <tr>\n",
              "      <th>1</th>\n",
              "      <td>1</td>\n",
              "      <td>22</td>\n",
              "      <td>female</td>\n",
              "      <td>2</td>\n",
              "      <td>own</td>\n",
              "      <td>little</td>\n",
              "      <td>moderate</td>\n",
              "      <td>5951</td>\n",
              "      <td>48</td>\n",
              "      <td>radio/TV</td>\n",
              "      <td>bad</td>\n",
              "    </tr>\n",
              "    <tr>\n",
              "      <th>2</th>\n",
              "      <td>2</td>\n",
              "      <td>49</td>\n",
              "      <td>male</td>\n",
              "      <td>1</td>\n",
              "      <td>own</td>\n",
              "      <td>little</td>\n",
              "      <td>NaN</td>\n",
              "      <td>2096</td>\n",
              "      <td>12</td>\n",
              "      <td>education</td>\n",
              "      <td>good</td>\n",
              "    </tr>\n",
              "    <tr>\n",
              "      <th>3</th>\n",
              "      <td>3</td>\n",
              "      <td>45</td>\n",
              "      <td>male</td>\n",
              "      <td>2</td>\n",
              "      <td>free</td>\n",
              "      <td>little</td>\n",
              "      <td>little</td>\n",
              "      <td>7882</td>\n",
              "      <td>42</td>\n",
              "      <td>furniture/equipment</td>\n",
              "      <td>good</td>\n",
              "    </tr>\n",
              "    <tr>\n",
              "      <th>4</th>\n",
              "      <td>4</td>\n",
              "      <td>53</td>\n",
              "      <td>male</td>\n",
              "      <td>2</td>\n",
              "      <td>free</td>\n",
              "      <td>little</td>\n",
              "      <td>little</td>\n",
              "      <td>4870</td>\n",
              "      <td>24</td>\n",
              "      <td>car</td>\n",
              "      <td>bad</td>\n",
              "    </tr>\n",
              "  </tbody>\n",
              "</table>\n",
              "</div>\n",
              "      <button class=\"colab-df-convert\" onclick=\"convertToInteractive('df-cefc015d-6ba5-47f6-9bda-867d328659d6')\"\n",
              "              title=\"Convert this dataframe to an interactive table.\"\n",
              "              style=\"display:none;\">\n",
              "        \n",
              "  <svg xmlns=\"http://www.w3.org/2000/svg\" height=\"24px\"viewBox=\"0 0 24 24\"\n",
              "       width=\"24px\">\n",
              "    <path d=\"M0 0h24v24H0V0z\" fill=\"none\"/>\n",
              "    <path d=\"M18.56 5.44l.94 2.06.94-2.06 2.06-.94-2.06-.94-.94-2.06-.94 2.06-2.06.94zm-11 1L8.5 8.5l.94-2.06 2.06-.94-2.06-.94L8.5 2.5l-.94 2.06-2.06.94zm10 10l.94 2.06.94-2.06 2.06-.94-2.06-.94-.94-2.06-.94 2.06-2.06.94z\"/><path d=\"M17.41 7.96l-1.37-1.37c-.4-.4-.92-.59-1.43-.59-.52 0-1.04.2-1.43.59L10.3 9.45l-7.72 7.72c-.78.78-.78 2.05 0 2.83L4 21.41c.39.39.9.59 1.41.59.51 0 1.02-.2 1.41-.59l7.78-7.78 2.81-2.81c.8-.78.8-2.07 0-2.86zM5.41 20L4 18.59l7.72-7.72 1.47 1.35L5.41 20z\"/>\n",
              "  </svg>\n",
              "      </button>\n",
              "      \n",
              "  <style>\n",
              "    .colab-df-container {\n",
              "      display:flex;\n",
              "      flex-wrap:wrap;\n",
              "      gap: 12px;\n",
              "    }\n",
              "\n",
              "    .colab-df-convert {\n",
              "      background-color: #E8F0FE;\n",
              "      border: none;\n",
              "      border-radius: 50%;\n",
              "      cursor: pointer;\n",
              "      display: none;\n",
              "      fill: #1967D2;\n",
              "      height: 32px;\n",
              "      padding: 0 0 0 0;\n",
              "      width: 32px;\n",
              "    }\n",
              "\n",
              "    .colab-df-convert:hover {\n",
              "      background-color: #E2EBFA;\n",
              "      box-shadow: 0px 1px 2px rgba(60, 64, 67, 0.3), 0px 1px 3px 1px rgba(60, 64, 67, 0.15);\n",
              "      fill: #174EA6;\n",
              "    }\n",
              "\n",
              "    [theme=dark] .colab-df-convert {\n",
              "      background-color: #3B4455;\n",
              "      fill: #D2E3FC;\n",
              "    }\n",
              "\n",
              "    [theme=dark] .colab-df-convert:hover {\n",
              "      background-color: #434B5C;\n",
              "      box-shadow: 0px 1px 3px 1px rgba(0, 0, 0, 0.15);\n",
              "      filter: drop-shadow(0px 1px 2px rgba(0, 0, 0, 0.3));\n",
              "      fill: #FFFFFF;\n",
              "    }\n",
              "  </style>\n",
              "\n",
              "      <script>\n",
              "        const buttonEl =\n",
              "          document.querySelector('#df-cefc015d-6ba5-47f6-9bda-867d328659d6 button.colab-df-convert');\n",
              "        buttonEl.style.display =\n",
              "          google.colab.kernel.accessAllowed ? 'block' : 'none';\n",
              "\n",
              "        async function convertToInteractive(key) {\n",
              "          const element = document.querySelector('#df-cefc015d-6ba5-47f6-9bda-867d328659d6');\n",
              "          const dataTable =\n",
              "            await google.colab.kernel.invokeFunction('convertToInteractive',\n",
              "                                                     [key], {});\n",
              "          if (!dataTable) return;\n",
              "\n",
              "          const docLinkHtml = 'Like what you see? Visit the ' +\n",
              "            '<a target=\"_blank\" href=https://colab.research.google.com/notebooks/data_table.ipynb>data table notebook</a>'\n",
              "            + ' to learn more about interactive tables.';\n",
              "          element.innerHTML = '';\n",
              "          dataTable['output_type'] = 'display_data';\n",
              "          await google.colab.output.renderOutput(dataTable, element);\n",
              "          const docLink = document.createElement('div');\n",
              "          docLink.innerHTML = docLinkHtml;\n",
              "          element.appendChild(docLink);\n",
              "        }\n",
              "      </script>\n",
              "    </div>\n",
              "  </div>\n",
              "  "
            ]
          },
          "metadata": {},
          "execution_count": 1
        }
      ],
      "source": [
        "import pandas as pd\n",
        "credit = pd.read_csv('/content/credit_data_risk.csv')\n",
        "credit.head()"
      ]
    },
    {
      "cell_type": "code",
      "execution_count": 2,
      "id": "ee1bd809",
      "metadata": {
        "colab": {
          "base_uri": "https://localhost:8080/"
        },
        "id": "ee1bd809",
        "outputId": "32e8f191-9c12-4f82-fee6-a25be77bf935"
      },
      "outputs": [
        {
          "output_type": "execute_result",
          "data": {
            "text/plain": [
              "good    700\n",
              "bad     300\n",
              "Name: Risk, dtype: int64"
            ]
          },
          "metadata": {},
          "execution_count": 2
        }
      ],
      "source": [
        "credit['Risk'].value_counts()"
      ]
    },
    {
      "cell_type": "code",
      "execution_count": 3,
      "id": "9394876f",
      "metadata": {
        "id": "9394876f"
      },
      "outputs": [],
      "source": [
        "del credit['Unnamed: 0']"
      ]
    },
    {
      "cell_type": "code",
      "execution_count": 4,
      "id": "d1563f56",
      "metadata": {
        "colab": {
          "base_uri": "https://localhost:8080/",
          "height": 300
        },
        "id": "d1563f56",
        "outputId": "8d8fbd64-775d-4641-d943-f661452c133c"
      },
      "outputs": [
        {
          "output_type": "execute_result",
          "data": {
            "text/plain": [
              "               Age          Job  Credit amount     Duration\n",
              "count  1000.000000  1000.000000    1000.000000  1000.000000\n",
              "mean     35.546000     1.904000    3271.258000    20.903000\n",
              "std      11.375469     0.653614    2822.736876    12.058814\n",
              "min      19.000000     0.000000     250.000000     4.000000\n",
              "25%      27.000000     2.000000    1365.500000    12.000000\n",
              "50%      33.000000     2.000000    2319.500000    18.000000\n",
              "75%      42.000000     2.000000    3972.250000    24.000000\n",
              "max      75.000000     3.000000   18424.000000    72.000000"
            ],
            "text/html": [
              "\n",
              "  <div id=\"df-1a54d423-14e0-4637-ad09-0656073a81e6\">\n",
              "    <div class=\"colab-df-container\">\n",
              "      <div>\n",
              "<style scoped>\n",
              "    .dataframe tbody tr th:only-of-type {\n",
              "        vertical-align: middle;\n",
              "    }\n",
              "\n",
              "    .dataframe tbody tr th {\n",
              "        vertical-align: top;\n",
              "    }\n",
              "\n",
              "    .dataframe thead th {\n",
              "        text-align: right;\n",
              "    }\n",
              "</style>\n",
              "<table border=\"1\" class=\"dataframe\">\n",
              "  <thead>\n",
              "    <tr style=\"text-align: right;\">\n",
              "      <th></th>\n",
              "      <th>Age</th>\n",
              "      <th>Job</th>\n",
              "      <th>Credit amount</th>\n",
              "      <th>Duration</th>\n",
              "    </tr>\n",
              "  </thead>\n",
              "  <tbody>\n",
              "    <tr>\n",
              "      <th>count</th>\n",
              "      <td>1000.000000</td>\n",
              "      <td>1000.000000</td>\n",
              "      <td>1000.000000</td>\n",
              "      <td>1000.000000</td>\n",
              "    </tr>\n",
              "    <tr>\n",
              "      <th>mean</th>\n",
              "      <td>35.546000</td>\n",
              "      <td>1.904000</td>\n",
              "      <td>3271.258000</td>\n",
              "      <td>20.903000</td>\n",
              "    </tr>\n",
              "    <tr>\n",
              "      <th>std</th>\n",
              "      <td>11.375469</td>\n",
              "      <td>0.653614</td>\n",
              "      <td>2822.736876</td>\n",
              "      <td>12.058814</td>\n",
              "    </tr>\n",
              "    <tr>\n",
              "      <th>min</th>\n",
              "      <td>19.000000</td>\n",
              "      <td>0.000000</td>\n",
              "      <td>250.000000</td>\n",
              "      <td>4.000000</td>\n",
              "    </tr>\n",
              "    <tr>\n",
              "      <th>25%</th>\n",
              "      <td>27.000000</td>\n",
              "      <td>2.000000</td>\n",
              "      <td>1365.500000</td>\n",
              "      <td>12.000000</td>\n",
              "    </tr>\n",
              "    <tr>\n",
              "      <th>50%</th>\n",
              "      <td>33.000000</td>\n",
              "      <td>2.000000</td>\n",
              "      <td>2319.500000</td>\n",
              "      <td>18.000000</td>\n",
              "    </tr>\n",
              "    <tr>\n",
              "      <th>75%</th>\n",
              "      <td>42.000000</td>\n",
              "      <td>2.000000</td>\n",
              "      <td>3972.250000</td>\n",
              "      <td>24.000000</td>\n",
              "    </tr>\n",
              "    <tr>\n",
              "      <th>max</th>\n",
              "      <td>75.000000</td>\n",
              "      <td>3.000000</td>\n",
              "      <td>18424.000000</td>\n",
              "      <td>72.000000</td>\n",
              "    </tr>\n",
              "  </tbody>\n",
              "</table>\n",
              "</div>\n",
              "      <button class=\"colab-df-convert\" onclick=\"convertToInteractive('df-1a54d423-14e0-4637-ad09-0656073a81e6')\"\n",
              "              title=\"Convert this dataframe to an interactive table.\"\n",
              "              style=\"display:none;\">\n",
              "        \n",
              "  <svg xmlns=\"http://www.w3.org/2000/svg\" height=\"24px\"viewBox=\"0 0 24 24\"\n",
              "       width=\"24px\">\n",
              "    <path d=\"M0 0h24v24H0V0z\" fill=\"none\"/>\n",
              "    <path d=\"M18.56 5.44l.94 2.06.94-2.06 2.06-.94-2.06-.94-.94-2.06-.94 2.06-2.06.94zm-11 1L8.5 8.5l.94-2.06 2.06-.94-2.06-.94L8.5 2.5l-.94 2.06-2.06.94zm10 10l.94 2.06.94-2.06 2.06-.94-2.06-.94-.94-2.06-.94 2.06-2.06.94z\"/><path d=\"M17.41 7.96l-1.37-1.37c-.4-.4-.92-.59-1.43-.59-.52 0-1.04.2-1.43.59L10.3 9.45l-7.72 7.72c-.78.78-.78 2.05 0 2.83L4 21.41c.39.39.9.59 1.41.59.51 0 1.02-.2 1.41-.59l7.78-7.78 2.81-2.81c.8-.78.8-2.07 0-2.86zM5.41 20L4 18.59l7.72-7.72 1.47 1.35L5.41 20z\"/>\n",
              "  </svg>\n",
              "      </button>\n",
              "      \n",
              "  <style>\n",
              "    .colab-df-container {\n",
              "      display:flex;\n",
              "      flex-wrap:wrap;\n",
              "      gap: 12px;\n",
              "    }\n",
              "\n",
              "    .colab-df-convert {\n",
              "      background-color: #E8F0FE;\n",
              "      border: none;\n",
              "      border-radius: 50%;\n",
              "      cursor: pointer;\n",
              "      display: none;\n",
              "      fill: #1967D2;\n",
              "      height: 32px;\n",
              "      padding: 0 0 0 0;\n",
              "      width: 32px;\n",
              "    }\n",
              "\n",
              "    .colab-df-convert:hover {\n",
              "      background-color: #E2EBFA;\n",
              "      box-shadow: 0px 1px 2px rgba(60, 64, 67, 0.3), 0px 1px 3px 1px rgba(60, 64, 67, 0.15);\n",
              "      fill: #174EA6;\n",
              "    }\n",
              "\n",
              "    [theme=dark] .colab-df-convert {\n",
              "      background-color: #3B4455;\n",
              "      fill: #D2E3FC;\n",
              "    }\n",
              "\n",
              "    [theme=dark] .colab-df-convert:hover {\n",
              "      background-color: #434B5C;\n",
              "      box-shadow: 0px 1px 3px 1px rgba(0, 0, 0, 0.15);\n",
              "      filter: drop-shadow(0px 1px 2px rgba(0, 0, 0, 0.3));\n",
              "      fill: #FFFFFF;\n",
              "    }\n",
              "  </style>\n",
              "\n",
              "      <script>\n",
              "        const buttonEl =\n",
              "          document.querySelector('#df-1a54d423-14e0-4637-ad09-0656073a81e6 button.colab-df-convert');\n",
              "        buttonEl.style.display =\n",
              "          google.colab.kernel.accessAllowed ? 'block' : 'none';\n",
              "\n",
              "        async function convertToInteractive(key) {\n",
              "          const element = document.querySelector('#df-1a54d423-14e0-4637-ad09-0656073a81e6');\n",
              "          const dataTable =\n",
              "            await google.colab.kernel.invokeFunction('convertToInteractive',\n",
              "                                                     [key], {});\n",
              "          if (!dataTable) return;\n",
              "\n",
              "          const docLinkHtml = 'Like what you see? Visit the ' +\n",
              "            '<a target=\"_blank\" href=https://colab.research.google.com/notebooks/data_table.ipynb>data table notebook</a>'\n",
              "            + ' to learn more about interactive tables.';\n",
              "          element.innerHTML = '';\n",
              "          dataTable['output_type'] = 'display_data';\n",
              "          await google.colab.output.renderOutput(dataTable, element);\n",
              "          const docLink = document.createElement('div');\n",
              "          docLink.innerHTML = docLinkHtml;\n",
              "          element.appendChild(docLink);\n",
              "        }\n",
              "      </script>\n",
              "    </div>\n",
              "  </div>\n",
              "  "
            ]
          },
          "metadata": {},
          "execution_count": 4
        }
      ],
      "source": [
        "credit.describe()"
      ]
    },
    {
      "cell_type": "code",
      "execution_count": 5,
      "id": "63c915ee",
      "metadata": {
        "id": "63c915ee"
      },
      "outputs": [],
      "source": [
        "import matplotlib.pyplot as plt\n",
        "numerical_credit = credit.select_dtypes(exclude='O')"
      ]
    },
    {
      "cell_type": "code",
      "execution_count": 6,
      "id": "305cbe88",
      "metadata": {
        "colab": {
          "base_uri": "https://localhost:8080/",
          "height": 423
        },
        "id": "305cbe88",
        "outputId": "8eb69a79-5384-4f15-882c-fe78d2d05a4e"
      },
      "outputs": [
        {
          "output_type": "execute_result",
          "data": {
            "text/plain": [
              "     Age  Job  Credit amount  Duration\n",
              "0     67    2           1169         6\n",
              "1     22    2           5951        48\n",
              "2     49    1           2096        12\n",
              "3     45    2           7882        42\n",
              "4     53    2           4870        24\n",
              "..   ...  ...            ...       ...\n",
              "995   31    1           1736        12\n",
              "996   40    3           3857        30\n",
              "997   38    2            804        12\n",
              "998   23    2           1845        45\n",
              "999   27    2           4576        45\n",
              "\n",
              "[1000 rows x 4 columns]"
            ],
            "text/html": [
              "\n",
              "  <div id=\"df-3fb8a1bb-0acf-4f30-b2b0-9a44d2e9ba41\">\n",
              "    <div class=\"colab-df-container\">\n",
              "      <div>\n",
              "<style scoped>\n",
              "    .dataframe tbody tr th:only-of-type {\n",
              "        vertical-align: middle;\n",
              "    }\n",
              "\n",
              "    .dataframe tbody tr th {\n",
              "        vertical-align: top;\n",
              "    }\n",
              "\n",
              "    .dataframe thead th {\n",
              "        text-align: right;\n",
              "    }\n",
              "</style>\n",
              "<table border=\"1\" class=\"dataframe\">\n",
              "  <thead>\n",
              "    <tr style=\"text-align: right;\">\n",
              "      <th></th>\n",
              "      <th>Age</th>\n",
              "      <th>Job</th>\n",
              "      <th>Credit amount</th>\n",
              "      <th>Duration</th>\n",
              "    </tr>\n",
              "  </thead>\n",
              "  <tbody>\n",
              "    <tr>\n",
              "      <th>0</th>\n",
              "      <td>67</td>\n",
              "      <td>2</td>\n",
              "      <td>1169</td>\n",
              "      <td>6</td>\n",
              "    </tr>\n",
              "    <tr>\n",
              "      <th>1</th>\n",
              "      <td>22</td>\n",
              "      <td>2</td>\n",
              "      <td>5951</td>\n",
              "      <td>48</td>\n",
              "    </tr>\n",
              "    <tr>\n",
              "      <th>2</th>\n",
              "      <td>49</td>\n",
              "      <td>1</td>\n",
              "      <td>2096</td>\n",
              "      <td>12</td>\n",
              "    </tr>\n",
              "    <tr>\n",
              "      <th>3</th>\n",
              "      <td>45</td>\n",
              "      <td>2</td>\n",
              "      <td>7882</td>\n",
              "      <td>42</td>\n",
              "    </tr>\n",
              "    <tr>\n",
              "      <th>4</th>\n",
              "      <td>53</td>\n",
              "      <td>2</td>\n",
              "      <td>4870</td>\n",
              "      <td>24</td>\n",
              "    </tr>\n",
              "    <tr>\n",
              "      <th>...</th>\n",
              "      <td>...</td>\n",
              "      <td>...</td>\n",
              "      <td>...</td>\n",
              "      <td>...</td>\n",
              "    </tr>\n",
              "    <tr>\n",
              "      <th>995</th>\n",
              "      <td>31</td>\n",
              "      <td>1</td>\n",
              "      <td>1736</td>\n",
              "      <td>12</td>\n",
              "    </tr>\n",
              "    <tr>\n",
              "      <th>996</th>\n",
              "      <td>40</td>\n",
              "      <td>3</td>\n",
              "      <td>3857</td>\n",
              "      <td>30</td>\n",
              "    </tr>\n",
              "    <tr>\n",
              "      <th>997</th>\n",
              "      <td>38</td>\n",
              "      <td>2</td>\n",
              "      <td>804</td>\n",
              "      <td>12</td>\n",
              "    </tr>\n",
              "    <tr>\n",
              "      <th>998</th>\n",
              "      <td>23</td>\n",
              "      <td>2</td>\n",
              "      <td>1845</td>\n",
              "      <td>45</td>\n",
              "    </tr>\n",
              "    <tr>\n",
              "      <th>999</th>\n",
              "      <td>27</td>\n",
              "      <td>2</td>\n",
              "      <td>4576</td>\n",
              "      <td>45</td>\n",
              "    </tr>\n",
              "  </tbody>\n",
              "</table>\n",
              "<p>1000 rows × 4 columns</p>\n",
              "</div>\n",
              "      <button class=\"colab-df-convert\" onclick=\"convertToInteractive('df-3fb8a1bb-0acf-4f30-b2b0-9a44d2e9ba41')\"\n",
              "              title=\"Convert this dataframe to an interactive table.\"\n",
              "              style=\"display:none;\">\n",
              "        \n",
              "  <svg xmlns=\"http://www.w3.org/2000/svg\" height=\"24px\"viewBox=\"0 0 24 24\"\n",
              "       width=\"24px\">\n",
              "    <path d=\"M0 0h24v24H0V0z\" fill=\"none\"/>\n",
              "    <path d=\"M18.56 5.44l.94 2.06.94-2.06 2.06-.94-2.06-.94-.94-2.06-.94 2.06-2.06.94zm-11 1L8.5 8.5l.94-2.06 2.06-.94-2.06-.94L8.5 2.5l-.94 2.06-2.06.94zm10 10l.94 2.06.94-2.06 2.06-.94-2.06-.94-.94-2.06-.94 2.06-2.06.94z\"/><path d=\"M17.41 7.96l-1.37-1.37c-.4-.4-.92-.59-1.43-.59-.52 0-1.04.2-1.43.59L10.3 9.45l-7.72 7.72c-.78.78-.78 2.05 0 2.83L4 21.41c.39.39.9.59 1.41.59.51 0 1.02-.2 1.41-.59l7.78-7.78 2.81-2.81c.8-.78.8-2.07 0-2.86zM5.41 20L4 18.59l7.72-7.72 1.47 1.35L5.41 20z\"/>\n",
              "  </svg>\n",
              "      </button>\n",
              "      \n",
              "  <style>\n",
              "    .colab-df-container {\n",
              "      display:flex;\n",
              "      flex-wrap:wrap;\n",
              "      gap: 12px;\n",
              "    }\n",
              "\n",
              "    .colab-df-convert {\n",
              "      background-color: #E8F0FE;\n",
              "      border: none;\n",
              "      border-radius: 50%;\n",
              "      cursor: pointer;\n",
              "      display: none;\n",
              "      fill: #1967D2;\n",
              "      height: 32px;\n",
              "      padding: 0 0 0 0;\n",
              "      width: 32px;\n",
              "    }\n",
              "\n",
              "    .colab-df-convert:hover {\n",
              "      background-color: #E2EBFA;\n",
              "      box-shadow: 0px 1px 2px rgba(60, 64, 67, 0.3), 0px 1px 3px 1px rgba(60, 64, 67, 0.15);\n",
              "      fill: #174EA6;\n",
              "    }\n",
              "\n",
              "    [theme=dark] .colab-df-convert {\n",
              "      background-color: #3B4455;\n",
              "      fill: #D2E3FC;\n",
              "    }\n",
              "\n",
              "    [theme=dark] .colab-df-convert:hover {\n",
              "      background-color: #434B5C;\n",
              "      box-shadow: 0px 1px 3px 1px rgba(0, 0, 0, 0.15);\n",
              "      filter: drop-shadow(0px 1px 2px rgba(0, 0, 0, 0.3));\n",
              "      fill: #FFFFFF;\n",
              "    }\n",
              "  </style>\n",
              "\n",
              "      <script>\n",
              "        const buttonEl =\n",
              "          document.querySelector('#df-3fb8a1bb-0acf-4f30-b2b0-9a44d2e9ba41 button.colab-df-convert');\n",
              "        buttonEl.style.display =\n",
              "          google.colab.kernel.accessAllowed ? 'block' : 'none';\n",
              "\n",
              "        async function convertToInteractive(key) {\n",
              "          const element = document.querySelector('#df-3fb8a1bb-0acf-4f30-b2b0-9a44d2e9ba41');\n",
              "          const dataTable =\n",
              "            await google.colab.kernel.invokeFunction('convertToInteractive',\n",
              "                                                     [key], {});\n",
              "          if (!dataTable) return;\n",
              "\n",
              "          const docLinkHtml = 'Like what you see? Visit the ' +\n",
              "            '<a target=\"_blank\" href=https://colab.research.google.com/notebooks/data_table.ipynb>data table notebook</a>'\n",
              "            + ' to learn more about interactive tables.';\n",
              "          element.innerHTML = '';\n",
              "          dataTable['output_type'] = 'display_data';\n",
              "          await google.colab.output.renderOutput(dataTable, element);\n",
              "          const docLink = document.createElement('div');\n",
              "          docLink.innerHTML = docLinkHtml;\n",
              "          element.appendChild(docLink);\n",
              "        }\n",
              "      </script>\n",
              "    </div>\n",
              "  </div>\n",
              "  "
            ]
          },
          "metadata": {},
          "execution_count": 6
        }
      ],
      "source": [
        "numerical_credit"
      ]
    },
    {
      "cell_type": "code",
      "execution_count": 7,
      "id": "5a8ef587",
      "metadata": {
        "colab": {
          "base_uri": "https://localhost:8080/",
          "height": 390
        },
        "id": "5a8ef587",
        "outputId": "64a33c5c-8652-4b9b-d231-5202c664a124"
      },
      "outputs": [
        {
          "output_type": "display_data",
          "data": {
            "text/plain": [
              "<Figure size 720x432 with 4 Axes>"
            ],
            "image/png": "[encoded data removed]"
          },
          "metadata": {
            "needs_background": "light"
          }
        }
      ],
      "source": [
        "plt.figure(figsize=(10, 6))\n",
        "k = 0\n",
        "for i, j in enumerate(numerical_credit):\n",
        "    k+=1\n",
        "    plt.subplot(2,2,k)\n",
        "    plt.hist(numerical_credit.iloc[:,i])\n",
        "    plt.title(str(j))"
      ]
    },
    {
      "cell_type": "code",
      "execution_count": 8,
      "id": "364873b5",
      "metadata": {
        "colab": {
          "base_uri": "https://localhost:8080/"
        },
        "id": "364873b5",
        "outputId": "e811fb7d-c3a3-4edb-d3a1-93ac0ffe2bad"
      },
      "outputs": [
        {
          "output_type": "stream",
          "name": "stdout",
          "text": [
            "<class 'pandas.core.frame.DataFrame'>\n",
            "RangeIndex: 1000 entries, 0 to 999\n",
            "Data columns (total 4 columns):\n",
            " #   Column         Non-Null Count  Dtype\n",
            "---  ------         --------------  -----\n",
            " 0   Age            1000 non-null   int64\n",
            " 1   Job            1000 non-null   int64\n",
            " 2   Credit amount  1000 non-null   int64\n",
            " 3   Duration       1000 non-null   int64\n",
            "dtypes: int64(4)\n",
            "memory usage: 31.4 KB\n"
          ]
        }
      ],
      "source": [
        "numerical_credit.info()"
      ]
    },
    {
      "cell_type": "code",
      "execution_count": 9,
      "id": "a87120b4",
      "metadata": {
        "id": "a87120b4"
      },
      "outputs": [],
      "source": [
        "from sklearn.preprocessing import StandardScaler\n",
        "from sklearn.cluster import KMeans\n",
        "import numpy as np"
      ]
    },
    {
      "cell_type": "code",
      "execution_count": 10,
      "id": "5faa50fc",
      "metadata": {
        "id": "5faa50fc"
      },
      "outputs": [],
      "source": [
        "scaler = StandardScaler()\n",
        "scaled_credit = scaler.fit_transform(numerical_credit)"
      ]
    },
    {
      "cell_type": "code",
      "execution_count": 11,
      "id": "9346d746",
      "metadata": {
        "id": "9346d746"
      },
      "outputs": [],
      "source": [
        "distance = []\n",
        "for i in range(2, 10):\n",
        "    kmeans = KMeans(n_clusters=i)\n",
        "    kmeans.fit(scaled_credit)\n",
        "    distance.append(kmeans.inertia_)"
      ]
    },
    {
      "cell_type": "markdown",
      "id": "7f81bfd5",
      "metadata": {
        "id": "7f81bfd5"
      },
      "source": [
        "The elbow method, as a first method, is introduced in the following code snippet. To find the optimal number of clusters, we observe the slope of the curve and decide the cut-off point at which the curve gets flatter—that is, the slope of the curve gets lower. As it gets flatter, the inertia, telling us how far away the points within a cluster are located, decreases, which is nice for the purpose of clustering. On the other hand, as we allow inertia to decrease, the number of clusters increases, which makes the analysis more complicated. Given that trade-off, the stopping criteria is the point where the curve gets flatter. "
      ]
    },
    {
      "cell_type": "code",
      "execution_count": 12,
      "id": "79201288",
      "metadata": {
        "colab": {
          "base_uri": "https://localhost:8080/",
          "height": 295
        },
        "id": "79201288",
        "outputId": "f3669c2a-2017-4178-d393-1b860adfe4a2"
      },
      "outputs": [
        {
          "output_type": "display_data",
          "data": {
            "text/plain": [
              "<Figure size 432x288 with 1 Axes>"
            ],
            "image/png": "[encoded data removed]"
          },
          "metadata": {
            "needs_background": "light"
          }
        }
      ],
      "source": [
        "no_cluster = range(2, 10)\n",
        "plt.plot(no_cluster, distance, 'bx-')\n",
        "plt.xlabel('Number of clusters')\n",
        "plt.ylabel('Inertia')\n",
        "plt.title('Elbow Method')\n",
        "plt.show()"
      ]
    },
    {
      "cell_type": "code",
      "execution_count": 13,
      "id": "f02e5915",
      "metadata": {
        "id": "f02e5915"
      },
      "outputs": [],
      "source": [
        "kmeans = KMeans(n_clusters=2)\n",
        "cluster = kmeans.fit_predict(scaled_credit)"
      ]
    },
    {
      "cell_type": "code",
      "execution_count": 14,
      "id": "77dc1154",
      "metadata": {
        "id": "77dc1154"
      },
      "outputs": [],
      "source": [
        "credit['clusters'] = pd.DataFrame(kmeans.labels_)"
      ]
    },
    {
      "cell_type": "code",
      "execution_count": 15,
      "id": "0471bbcd",
      "metadata": {
        "colab": {
          "base_uri": "https://localhost:8080/",
          "height": 206
        },
        "id": "0471bbcd",
        "outputId": "d1f41f88-b614-418d-bc00-6c503869bd4c"
      },
      "outputs": [
        {
          "output_type": "execute_result",
          "data": {
            "text/plain": [
              "   Age     Sex  Job Housing Saving accounts Checking account  Credit amount  \\\n",
              "0   67    male    2     own             NaN           little           1169   \n",
              "1   22  female    2     own          little         moderate           5951   \n",
              "2   49    male    1     own          little              NaN           2096   \n",
              "3   45    male    2    free          little           little           7882   \n",
              "4   53    male    2    free          little           little           4870   \n",
              "\n",
              "   Duration              Purpose  Risk  clusters  \n",
              "0         6             radio/TV  good         0  \n",
              "1        48             radio/TV   bad         1  \n",
              "2        12            education  good         0  \n",
              "3        42  furniture/equipment  good         1  \n",
              "4        24                  car   bad         0  "
            ],
            "text/html": [
              "\n",
              "  <div id=\"df-91d66bca-ab0e-422f-a78a-0388a0a2242c\">\n",
              "    <div class=\"colab-df-container\">\n",
              "      <div>\n",
              "<style scoped>\n",
              "    .dataframe tbody tr th:only-of-type {\n",
              "        vertical-align: middle;\n",
              "    }\n",
              "\n",
              "    .dataframe tbody tr th {\n",
              "        vertical-align: top;\n",
              "    }\n",
              "\n",
              "    .dataframe thead th {\n",
              "        text-align: right;\n",
              "    }\n",
              "</style>\n",
              "<table border=\"1\" class=\"dataframe\">\n",
              "  <thead>\n",
              "    <tr style=\"text-align: right;\">\n",
              "      <th></th>\n",
              "      <th>Age</th>\n",
              "      <th>Sex</th>\n",
              "      <th>Job</th>\n",
              "      <th>Housing</th>\n",
              "      <th>Saving accounts</th>\n",
              "      <th>Checking account</th>\n",
              "      <th>Credit amount</th>\n",
              "      <th>Duration</th>\n",
              "      <th>Purpose</th>\n",
              "      <th>Risk</th>\n",
              "      <th>clusters</th>\n",
              "    </tr>\n",
              "  </thead>\n",
              "  <tbody>\n",
              "    <tr>\n",
              "      <th>0</th>\n",
              "      <td>67</td>\n",
              "      <td>male</td>\n",
              "      <td>2</td>\n",
              "      <td>own</td>\n",
              "      <td>NaN</td>\n",
              "      <td>little</td>\n",
              "      <td>1169</td>\n",
              "      <td>6</td>\n",
              "      <td>radio/TV</td>\n",
              "      <td>good</td>\n",
              "      <td>0</td>\n",
              "    </tr>\n",
              "    <tr>\n",
              "      <th>1</th>\n",
              "      <td>22</td>\n",
              "      <td>female</td>\n",
              "      <td>2</td>\n",
              "      <td>own</td>\n",
              "      <td>little</td>\n",
              "      <td>moderate</td>\n",
              "      <td>5951</td>\n",
              "      <td>48</td>\n",
              "      <td>radio/TV</td>\n",
              "      <td>bad</td>\n",
              "      <td>1</td>\n",
              "    </tr>\n",
              "    <tr>\n",
              "      <th>2</th>\n",
              "      <td>49</td>\n",
              "      <td>male</td>\n",
              "      <td>1</td>\n",
              "      <td>own</td>\n",
              "      <td>little</td>\n",
              "      <td>NaN</td>\n",
              "      <td>2096</td>\n",
              "      <td>12</td>\n",
              "      <td>education</td>\n",
              "      <td>good</td>\n",
              "      <td>0</td>\n",
              "    </tr>\n",
              "    <tr>\n",
              "      <th>3</th>\n",
              "      <td>45</td>\n",
              "      <td>male</td>\n",
              "      <td>2</td>\n",
              "      <td>free</td>\n",
              "      <td>little</td>\n",
              "      <td>little</td>\n",
              "      <td>7882</td>\n",
              "      <td>42</td>\n",
              "      <td>furniture/equipment</td>\n",
              "      <td>good</td>\n",
              "      <td>1</td>\n",
              "    </tr>\n",
              "    <tr>\n",
              "      <th>4</th>\n",
              "      <td>53</td>\n",
              "      <td>male</td>\n",
              "      <td>2</td>\n",
              "      <td>free</td>\n",
              "      <td>little</td>\n",
              "      <td>little</td>\n",
              "      <td>4870</td>\n",
              "      <td>24</td>\n",
              "      <td>car</td>\n",
              "      <td>bad</td>\n",
              "      <td>0</td>\n",
              "    </tr>\n",
              "  </tbody>\n",
              "</table>\n",
              "</div>\n",
              "      <button class=\"colab-df-convert\" onclick=\"convertToInteractive('df-91d66bca-ab0e-422f-a78a-0388a0a2242c')\"\n",
              "              title=\"Convert this dataframe to an interactive table.\"\n",
              "              style=\"display:none;\">\n",
              "        \n",
              "  <svg xmlns=\"http://www.w3.org/2000/svg\" height=\"24px\"viewBox=\"0 0 24 24\"\n",
              "       width=\"24px\">\n",
              "    <path d=\"M0 0h24v24H0V0z\" fill=\"none\"/>\n",
              "    <path d=\"M18.56 5.44l.94 2.06.94-2.06 2.06-.94-2.06-.94-.94-2.06-.94 2.06-2.06.94zm-11 1L8.5 8.5l.94-2.06 2.06-.94-2.06-.94L8.5 2.5l-.94 2.06-2.06.94zm10 10l.94 2.06.94-2.06 2.06-.94-2.06-.94-.94-2.06-.94 2.06-2.06.94z\"/><path d=\"M17.41 7.96l-1.37-1.37c-.4-.4-.92-.59-1.43-.59-.52 0-1.04.2-1.43.59L10.3 9.45l-7.72 7.72c-.78.78-.78 2.05 0 2.83L4 21.41c.39.39.9.59 1.41.59.51 0 1.02-.2 1.41-.59l7.78-7.78 2.81-2.81c.8-.78.8-2.07 0-2.86zM5.41 20L4 18.59l7.72-7.72 1.47 1.35L5.41 20z\"/>\n",
              "  </svg>\n",
              "      </button>\n",
              "      \n",
              "  <style>\n",
              "    .colab-df-container {\n",
              "      display:flex;\n",
              "      flex-wrap:wrap;\n",
              "      gap: 12px;\n",
              "    }\n",
              "\n",
              "    .colab-df-convert {\n",
              "      background-color: #E8F0FE;\n",
              "      border: none;\n",
              "      border-radius: 50%;\n",
              "      cursor: pointer;\n",
              "      display: none;\n",
              "      fill: #1967D2;\n",
              "      height: 32px;\n",
              "      padding: 0 0 0 0;\n",
              "      width: 32px;\n",
              "    }\n",
              "\n",
              "    .colab-df-convert:hover {\n",
              "      background-color: #E2EBFA;\n",
              "      box-shadow: 0px 1px 2px rgba(60, 64, 67, 0.3), 0px 1px 3px 1px rgba(60, 64, 67, 0.15);\n",
              "      fill: #174EA6;\n",
              "    }\n",
              "\n",
              "    [theme=dark] .colab-df-convert {\n",
              "      background-color: #3B4455;\n",
              "      fill: #D2E3FC;\n",
              "    }\n",
              "\n",
              "    [theme=dark] .colab-df-convert:hover {\n",
              "      background-color: #434B5C;\n",
              "      box-shadow: 0px 1px 3px 1px rgba(0, 0, 0, 0.15);\n",
              "      filter: drop-shadow(0px 1px 2px rgba(0, 0, 0, 0.3));\n",
              "      fill: #FFFFFF;\n",
              "    }\n",
              "  </style>\n",
              "\n",
              "      <script>\n",
              "        const buttonEl =\n",
              "          document.querySelector('#df-91d66bca-ab0e-422f-a78a-0388a0a2242c button.colab-df-convert');\n",
              "        buttonEl.style.display =\n",
              "          google.colab.kernel.accessAllowed ? 'block' : 'none';\n",
              "\n",
              "        async function convertToInteractive(key) {\n",
              "          const element = document.querySelector('#df-91d66bca-ab0e-422f-a78a-0388a0a2242c');\n",
              "          const dataTable =\n",
              "            await google.colab.kernel.invokeFunction('convertToInteractive',\n",
              "                                                     [key], {});\n",
              "          if (!dataTable) return;\n",
              "\n",
              "          const docLinkHtml = 'Like what you see? Visit the ' +\n",
              "            '<a target=\"_blank\" href=https://colab.research.google.com/notebooks/data_table.ipynb>data table notebook</a>'\n",
              "            + ' to learn more about interactive tables.';\n",
              "          element.innerHTML = '';\n",
              "          dataTable['output_type'] = 'display_data';\n",
              "          await google.colab.output.renderOutput(dataTable, element);\n",
              "          const docLink = document.createElement('div');\n",
              "          docLink.innerHTML = docLinkHtml;\n",
              "          element.appendChild(docLink);\n",
              "        }\n",
              "      </script>\n",
              "    </div>\n",
              "  </div>\n",
              "  "
            ]
          },
          "metadata": {},
          "execution_count": 15
        }
      ],
      "source": [
        "credit.head()# risk variable is the ground truth"
      ]
    },
    {
      "cell_type": "code",
      "execution_count": 16,
      "id": "d519dec4",
      "metadata": {
        "id": "d519dec4"
      },
      "outputs": [],
      "source": [
        "df_scaled = pd.DataFrame(scaled_credit)\n",
        "df_scaled['clusters'] = credit['clusters']"
      ]
    },
    {
      "cell_type": "code",
      "execution_count": 17,
      "id": "805cd238",
      "metadata": {
        "id": "805cd238"
      },
      "outputs": [],
      "source": [
        "df_scaled['Risk'] = credit['Risk']\n",
        "df_scaled.columns = ['Age', 'Job', 'Credit Amount', 'Duration', 'Clusters', 'Risk']"
      ]
    },
    {
      "cell_type": "code",
      "execution_count": 18,
      "id": "2f0c857f",
      "metadata": {
        "colab": {
          "base_uri": "https://localhost:8080/",
          "height": 206
        },
        "id": "2f0c857f",
        "outputId": "dc7e62cc-536e-46f7-8272-2d9da62f3545"
      },
      "outputs": [
        {
          "output_type": "execute_result",
          "data": {
            "text/plain": [
              "        Age       Job  Credit Amount  Duration  Clusters  Risk\n",
              "0  2.766456  0.146949      -0.745131 -1.236478         0  good\n",
              "1 -1.191404  0.146949       0.949817  2.248194         1   bad\n",
              "2  1.183312 -1.383771      -0.416562 -0.738668         0  good\n",
              "3  0.831502  0.146949       1.634247  1.750384         1  good\n",
              "4  1.535122  0.146949       0.566664  0.256953         0   bad"
            ],
            "text/html": [
              "\n",
              "  <div id=\"df-f9b6bd65-17e5-41cc-bed2-8795c6123ede\">\n",
              "    <div class=\"colab-df-container\">\n",
              "      <div>\n",
              "<style scoped>\n",
              "    .dataframe tbody tr th:only-of-type {\n",
              "        vertical-align: middle;\n",
              "    }\n",
              "\n",
              "    .dataframe tbody tr th {\n",
              "        vertical-align: top;\n",
              "    }\n",
              "\n",
              "    .dataframe thead th {\n",
              "        text-align: right;\n",
              "    }\n",
              "</style>\n",
              "<table border=\"1\" class=\"dataframe\">\n",
              "  <thead>\n",
              "    <tr style=\"text-align: right;\">\n",
              "      <th></th>\n",
              "      <th>Age</th>\n",
              "      <th>Job</th>\n",
              "      <th>Credit Amount</th>\n",
              "      <th>Duration</th>\n",
              "      <th>Clusters</th>\n",
              "      <th>Risk</th>\n",
              "    </tr>\n",
              "  </thead>\n",
              "  <tbody>\n",
              "    <tr>\n",
              "      <th>0</th>\n",
              "      <td>2.766456</td>\n",
              "      <td>0.146949</td>\n",
              "      <td>-0.745131</td>\n",
              "      <td>-1.236478</td>\n",
              "      <td>0</td>\n",
              "      <td>good</td>\n",
              "    </tr>\n",
              "    <tr>\n",
              "      <th>1</th>\n",
              "      <td>-1.191404</td>\n",
              "      <td>0.146949</td>\n",
              "      <td>0.949817</td>\n",
              "      <td>2.248194</td>\n",
              "      <td>1</td>\n",
              "      <td>bad</td>\n",
              "    </tr>\n",
              "    <tr>\n",
              "      <th>2</th>\n",
              "      <td>1.183312</td>\n",
              "      <td>-1.383771</td>\n",
              "      <td>-0.416562</td>\n",
              "      <td>-0.738668</td>\n",
              "      <td>0</td>\n",
              "      <td>good</td>\n",
              "    </tr>\n",
              "    <tr>\n",
              "      <th>3</th>\n",
              "      <td>0.831502</td>\n",
              "      <td>0.146949</td>\n",
              "      <td>1.634247</td>\n",
              "      <td>1.750384</td>\n",
              "      <td>1</td>\n",
              "      <td>good</td>\n",
              "    </tr>\n",
              "    <tr>\n",
              "      <th>4</th>\n",
              "      <td>1.535122</td>\n",
              "      <td>0.146949</td>\n",
              "      <td>0.566664</td>\n",
              "      <td>0.256953</td>\n",
              "      <td>0</td>\n",
              "      <td>bad</td>\n",
              "    </tr>\n",
              "  </tbody>\n",
              "</table>\n",
              "</div>\n",
              "      <button class=\"colab-df-convert\" onclick=\"convertToInteractive('df-f9b6bd65-17e5-41cc-bed2-8795c6123ede')\"\n",
              "              title=\"Convert this dataframe to an interactive table.\"\n",
              "              style=\"display:none;\">\n",
              "        \n",
              "  <svg xmlns=\"http://www.w3.org/2000/svg\" height=\"24px\"viewBox=\"0 0 24 24\"\n",
              "       width=\"24px\">\n",
              "    <path d=\"M0 0h24v24H0V0z\" fill=\"none\"/>\n",
              "    <path d=\"M18.56 5.44l.94 2.06.94-2.06 2.06-.94-2.06-.94-.94-2.06-.94 2.06-2.06.94zm-11 1L8.5 8.5l.94-2.06 2.06-.94-2.06-.94L8.5 2.5l-.94 2.06-2.06.94zm10 10l.94 2.06.94-2.06 2.06-.94-2.06-.94-.94-2.06-.94 2.06-2.06.94z\"/><path d=\"M17.41 7.96l-1.37-1.37c-.4-.4-.92-.59-1.43-.59-.52 0-1.04.2-1.43.59L10.3 9.45l-7.72 7.72c-.78.78-.78 2.05 0 2.83L4 21.41c.39.39.9.59 1.41.59.51 0 1.02-.2 1.41-.59l7.78-7.78 2.81-2.81c.8-.78.8-2.07 0-2.86zM5.41 20L4 18.59l7.72-7.72 1.47 1.35L5.41 20z\"/>\n",
              "  </svg>\n",
              "      </button>\n",
              "      \n",
              "  <style>\n",
              "    .colab-df-container {\n",
              "      display:flex;\n",
              "      flex-wrap:wrap;\n",
              "      gap: 12px;\n",
              "    }\n",
              "\n",
              "    .colab-df-convert {\n",
              "      background-color: #E8F0FE;\n",
              "      border: none;\n",
              "      border-radius: 50%;\n",
              "      cursor: pointer;\n",
              "      display: none;\n",
              "      fill: #1967D2;\n",
              "      height: 32px;\n",
              "      padding: 0 0 0 0;\n",
              "      width: 32px;\n",
              "    }\n",
              "\n",
              "    .colab-df-convert:hover {\n",
              "      background-color: #E2EBFA;\n",
              "      box-shadow: 0px 1px 2px rgba(60, 64, 67, 0.3), 0px 1px 3px 1px rgba(60, 64, 67, 0.15);\n",
              "      fill: #174EA6;\n",
              "    }\n",
              "\n",
              "    [theme=dark] .colab-df-convert {\n",
              "      background-color: #3B4455;\n",
              "      fill: #D2E3FC;\n",
              "    }\n",
              "\n",
              "    [theme=dark] .colab-df-convert:hover {\n",
              "      background-color: #434B5C;\n",
              "      box-shadow: 0px 1px 3px 1px rgba(0, 0, 0, 0.15);\n",
              "      filter: drop-shadow(0px 1px 2px rgba(0, 0, 0, 0.3));\n",
              "      fill: #FFFFFF;\n",
              "    }\n",
              "  </style>\n",
              "\n",
              "      <script>\n",
              "        const buttonEl =\n",
              "          document.querySelector('#df-f9b6bd65-17e5-41cc-bed2-8795c6123ede button.colab-df-convert');\n",
              "        buttonEl.style.display =\n",
              "          google.colab.kernel.accessAllowed ? 'block' : 'none';\n",
              "\n",
              "        async function convertToInteractive(key) {\n",
              "          const element = document.querySelector('#df-f9b6bd65-17e5-41cc-bed2-8795c6123ede');\n",
              "          const dataTable =\n",
              "            await google.colab.kernel.invokeFunction('convertToInteractive',\n",
              "                                                     [key], {});\n",
              "          if (!dataTable) return;\n",
              "\n",
              "          const docLinkHtml = 'Like what you see? Visit the ' +\n",
              "            '<a target=\"_blank\" href=https://colab.research.google.com/notebooks/data_table.ipynb>data table notebook</a>'\n",
              "            + ' to learn more about interactive tables.';\n",
              "          element.innerHTML = '';\n",
              "          dataTable['output_type'] = 'display_data';\n",
              "          await google.colab.output.renderOutput(dataTable, element);\n",
              "          const docLink = document.createElement('div');\n",
              "          docLink.innerHTML = docLinkHtml;\n",
              "          element.appendChild(docLink);\n",
              "        }\n",
              "      </script>\n",
              "    </div>\n",
              "  </div>\n",
              "  "
            ]
          },
          "metadata": {},
          "execution_count": 18
        }
      ],
      "source": [
        "df_scaled.head()"
      ]
    },
    {
      "cell_type": "code",
      "execution_count": 19,
      "id": "c935db72",
      "metadata": {
        "colab": {
          "base_uri": "https://localhost:8080/"
        },
        "id": "c935db72",
        "outputId": "d21aafc5-3546-40d0-b5b3-db53052d0435"
      },
      "outputs": [
        {
          "output_type": "execute_result",
          "data": {
            "text/plain": [
              "good    573\n",
              "bad     193\n",
              "Name: Risk, dtype: int64"
            ]
          },
          "metadata": {},
          "execution_count": 19
        }
      ],
      "source": [
        "df_scaled[df_scaled.Clusters==0]['Risk'].value_counts()"
      ]
    },
    {
      "cell_type": "code",
      "execution_count": 20,
      "id": "febfc0d9",
      "metadata": {
        "colab": {
          "base_uri": "https://localhost:8080/"
        },
        "id": "febfc0d9",
        "outputId": "9ed190c8-750f-4872-d07e-dc1264e3b42a"
      },
      "outputs": [
        {
          "output_type": "execute_result",
          "data": {
            "text/plain": [
              "good    127\n",
              "bad     107\n",
              "Name: Risk, dtype: int64"
            ]
          },
          "metadata": {},
          "execution_count": 20
        }
      ],
      "source": [
        "df_scaled[df_scaled.Clusters==1]['Risk'].value_counts()"
      ]
    },
    {
      "cell_type": "code",
      "execution_count": 21,
      "id": "4768f3f6",
      "metadata": {
        "colab": {
          "base_uri": "https://localhost:8080/",
          "height": 405
        },
        "id": "4768f3f6",
        "outputId": "6e777624-4dfc-4acf-f4cf-6ab69744f97f"
      },
      "outputs": [
        {
          "output_type": "display_data",
          "data": {
            "text/plain": [
              "<Figure size 720x432 with 1 Axes>"
            ],
            "image/png": "[encoded data removed]"
          },
          "metadata": {
            "needs_background": "light"
          }
        }
      ],
      "source": [
        "df_scaled[df_scaled.Clusters==0]['Risk'].value_counts().\\\n",
        "plot(kind='bar',figsize=(10, 6),title='Frequency of Risk Level');"
      ]
    },
    {
      "cell_type": "code",
      "execution_count": 22,
      "id": "5e3860fe",
      "metadata": {
        "colab": {
          "base_uri": "https://localhost:8080/",
          "height": 405
        },
        "id": "5e3860fe",
        "outputId": "5c9a3d72-0056-4c3f-f9db-a21ec8ab9761"
      },
      "outputs": [
        {
          "output_type": "display_data",
          "data": {
            "text/plain": [
              "<Figure size 720x432 with 1 Axes>"
            ],
            "image/png": "[encoded data removed]"
          },
          "metadata": {
            "needs_background": "light"
          }
        }
      ],
      "source": [
        "df_scaled[df_scaled.Clusters==1]['Risk'].value_counts().\\\n",
        "plot(kind='bar',figsize=(10, 6),title='Frequency of Risk Level');"
      ]
    },
    {
      "cell_type": "markdown",
      "id": "7fea3d73",
      "metadata": {
        "id": "7fea3d73"
      },
      "source": [
        "At this point, let’s take a step back and focus on entirely different problem: class imbalance. In credit risk analysis, it is not uncommon to have a class imbalance prob‐ lem. Class imbalance arises when one class dominates over another. To illustrate, in our case, given the data obtained from the first cluster, we have 576 customers with a good credit record and 195 customers with a bad one. As can be readily observed, customers with good credit records dominate over customers with bad records; that is basically what we refer to as a class imbalance.\n"
      ]
    },
    {
      "cell_type": "markdown",
      "id": "67565fa4",
      "metadata": {
        "id": "67565fa4"
      },
      "source": [
        "There are numerous ways to handle this issue: up-sampling, down-sampling, the syn‐ thetic minority over-sampling technique (SMOTE), and the edited nearest neighbor rule (ENN). To take advantage of a hybrid approach, we’ll incorporate a combination of SMOTE and ENN so we can clean the unwanted overlapping observations between classes, which will help us to detect the optimal balancing ratio and, in turn, boost the predictive performance (Tuong et al., 2018). Converting imbalanced data into balanced data will be our first step in predicting the probability of default, but please note that we will merely apply this technique to the data obtained from the first cluster."
      ]
    },
    {
      "cell_type": "code",
      "execution_count": 23,
      "id": "84b9feb0",
      "metadata": {
        "colab": {
          "base_uri": "https://localhost:8080/"
        },
        "id": "84b9feb0",
        "outputId": "63a5f4ad-4b2b-43ad-e025-d873c1ba0e1c"
      },
      "outputs": [
        {
          "output_type": "execute_result",
          "data": {
            "text/plain": [
              "0    766\n",
              "1    234\n",
              "Name: clusters, dtype: int64"
            ]
          },
          "metadata": {},
          "execution_count": 23
        }
      ],
      "source": [
        "credit['clusters'].value_counts()# 0: good and 1: bad"
      ]
    },
    {
      "cell_type": "code",
      "execution_count": 24,
      "id": "cf7d7f82",
      "metadata": {
        "id": "cf7d7f82"
      },
      "outputs": [],
      "source": [
        "from sklearn.model_selection import train_test_split"
      ]
    },
    {
      "cell_type": "code",
      "execution_count": 25,
      "id": "cc687582",
      "metadata": {
        "id": "cc687582"
      },
      "outputs": [],
      "source": [
        "df_scaled['Risk'] = df_scaled['Risk'].replace({'good':0, 'bad':1})"
      ]
    },
    {
      "cell_type": "code",
      "execution_count": 26,
      "id": "55e1d810",
      "metadata": {
        "id": "55e1d810"
      },
      "outputs": [],
      "source": [
        "X = df_scaled.drop('Risk', axis=1)\n",
        "y = df_scaled.loc[:,['Risk','Clusters']]"
      ]
    },
    {
      "cell_type": "code",
      "execution_count": 27,
      "id": "2ab75e4e",
      "metadata": {
        "id": "2ab75e4e"
      },
      "outputs": [],
      "source": [
        "X_train, X_test, y_train, y_test = train_test_split(X, y, test_size=0.2, random_state=42)"
      ]
    },
    {
      "cell_type": "code",
      "execution_count": 28,
      "id": "3de7b897",
      "metadata": {
        "colab": {
          "base_uri": "https://localhost:8080/",
          "height": 423
        },
        "id": "3de7b897",
        "outputId": "517abbd5-ced3-45c3-e2ee-f912edaedae0"
      },
      "outputs": [
        {
          "output_type": "execute_result",
          "data": {
            "text/plain": [
              "          Age       Job  Credit Amount  Duration  Clusters\n",
              "29   2.414647  0.146949       1.263499  3.243815         1\n",
              "535 -0.223927  0.146949      -0.337522  0.008048         0\n",
              "695  1.271265  0.146949      -0.721384 -1.236478         0\n",
              "557 -0.575737  0.146949       0.613804  0.008048         0\n",
              "836 -1.279356  0.146949      -0.845439 -0.738668         0\n",
              "..        ...       ...            ...       ...       ...\n",
              "106  0.303788  1.677670       1.129520 -0.240857         1\n",
              "270 -0.311879  0.146949      -0.215947 -0.240857         0\n",
              "860 -0.751642  0.146949       0.897714  0.256953         1\n",
              "435 -0.927547  0.146949      -0.633482 -0.738668         0\n",
              "102 -1.015499  0.146949      -0.829134 -1.236478         0\n",
              "\n",
              "[800 rows x 5 columns]"
            ],
            "text/html": [
              "\n",
              "  <div id=\"df-835483e9-e954-4c90-bff3-bd00cd01d9b6\">\n",
              "    <div class=\"colab-df-container\">\n",
              "      <div>\n",
              "<style scoped>\n",
              "    .dataframe tbody tr th:only-of-type {\n",
              "        vertical-align: middle;\n",
              "    }\n",
              "\n",
              "    .dataframe tbody tr th {\n",
              "        vertical-align: top;\n",
              "    }\n",
              "\n",
              "    .dataframe thead th {\n",
              "        text-align: right;\n",
              "    }\n",
              "</style>\n",
              "<table border=\"1\" class=\"dataframe\">\n",
              "  <thead>\n",
              "    <tr style=\"text-align: right;\">\n",
              "      <th></th>\n",
              "      <th>Age</th>\n",
              "      <th>Job</th>\n",
              "      <th>Credit Amount</th>\n",
              "      <th>Duration</th>\n",
              "      <th>Clusters</th>\n",
              "    </tr>\n",
              "  </thead>\n",
              "  <tbody>\n",
              "    <tr>\n",
              "      <th>29</th>\n",
              "      <td>2.414647</td>\n",
              "      <td>0.146949</td>\n",
              "      <td>1.263499</td>\n",
              "      <td>3.243815</td>\n",
              "      <td>1</td>\n",
              "    </tr>\n",
              "    <tr>\n",
              "      <th>535</th>\n",
              "      <td>-0.223927</td>\n",
              "      <td>0.146949</td>\n",
              "      <td>-0.337522</td>\n",
              "      <td>0.008048</td>\n",
              "      <td>0</td>\n",
              "    </tr>\n",
              "    <tr>\n",
              "      <th>695</th>\n",
              "      <td>1.271265</td>\n",
              "      <td>0.146949</td>\n",
              "      <td>-0.721384</td>\n",
              "      <td>-1.236478</td>\n",
              "      <td>0</td>\n",
              "    </tr>\n",
              "    <tr>\n",
              "      <th>557</th>\n",
              "      <td>-0.575737</td>\n",
              "      <td>0.146949</td>\n",
              "      <td>0.613804</td>\n",
              "      <td>0.008048</td>\n",
              "      <td>0</td>\n",
              "    </tr>\n",
              "    <tr>\n",
              "      <th>836</th>\n",
              "      <td>-1.279356</td>\n",
              "      <td>0.146949</td>\n",
              "      <td>-0.845439</td>\n",
              "      <td>-0.738668</td>\n",
              "      <td>0</td>\n",
              "    </tr>\n",
              "    <tr>\n",
              "      <th>...</th>\n",
              "      <td>...</td>\n",
              "      <td>...</td>\n",
              "      <td>...</td>\n",
              "      <td>...</td>\n",
              "      <td>...</td>\n",
              "    </tr>\n",
              "    <tr>\n",
              "      <th>106</th>\n",
              "      <td>0.303788</td>\n",
              "      <td>1.677670</td>\n",
              "      <td>1.129520</td>\n",
              "      <td>-0.240857</td>\n",
              "      <td>1</td>\n",
              "    </tr>\n",
              "    <tr>\n",
              "      <th>270</th>\n",
              "      <td>-0.311879</td>\n",
              "      <td>0.146949</td>\n",
              "      <td>-0.215947</td>\n",
              "      <td>-0.240857</td>\n",
              "      <td>0</td>\n",
              "    </tr>\n",
              "    <tr>\n",
              "      <th>860</th>\n",
              "      <td>-0.751642</td>\n",
              "      <td>0.146949</td>\n",
              "      <td>0.897714</td>\n",
              "      <td>0.256953</td>\n",
              "      <td>1</td>\n",
              "    </tr>\n",
              "    <tr>\n",
              "      <th>435</th>\n",
              "      <td>-0.927547</td>\n",
              "      <td>0.146949</td>\n",
              "      <td>-0.633482</td>\n",
              "      <td>-0.738668</td>\n",
              "      <td>0</td>\n",
              "    </tr>\n",
              "    <tr>\n",
              "      <th>102</th>\n",
              "      <td>-1.015499</td>\n",
              "      <td>0.146949</td>\n",
              "      <td>-0.829134</td>\n",
              "      <td>-1.236478</td>\n",
              "      <td>0</td>\n",
              "    </tr>\n",
              "  </tbody>\n",
              "</table>\n",
              "<p>800 rows × 5 columns</p>\n",
              "</div>\n",
              "      <button class=\"colab-df-convert\" onclick=\"convertToInteractive('df-835483e9-e954-4c90-bff3-bd00cd01d9b6')\"\n",
              "              title=\"Convert this dataframe to an interactive table.\"\n",
              "              style=\"display:none;\">\n",
              "        \n",
              "  <svg xmlns=\"http://www.w3.org/2000/svg\" height=\"24px\"viewBox=\"0 0 24 24\"\n",
              "       width=\"24px\">\n",
              "    <path d=\"M0 0h24v24H0V0z\" fill=\"none\"/>\n",
              "    <path d=\"M18.56 5.44l.94 2.06.94-2.06 2.06-.94-2.06-.94-.94-2.06-.94 2.06-2.06.94zm-11 1L8.5 8.5l.94-2.06 2.06-.94-2.06-.94L8.5 2.5l-.94 2.06-2.06.94zm10 10l.94 2.06.94-2.06 2.06-.94-2.06-.94-.94-2.06-.94 2.06-2.06.94z\"/><path d=\"M17.41 7.96l-1.37-1.37c-.4-.4-.92-.59-1.43-.59-.52 0-1.04.2-1.43.59L10.3 9.45l-7.72 7.72c-.78.78-.78 2.05 0 2.83L4 21.41c.39.39.9.59 1.41.59.51 0 1.02-.2 1.41-.59l7.78-7.78 2.81-2.81c.8-.78.8-2.07 0-2.86zM5.41 20L4 18.59l7.72-7.72 1.47 1.35L5.41 20z\"/>\n",
              "  </svg>\n",
              "      </button>\n",
              "      \n",
              "  <style>\n",
              "    .colab-df-container {\n",
              "      display:flex;\n",
              "      flex-wrap:wrap;\n",
              "      gap: 12px;\n",
              "    }\n",
              "\n",
              "    .colab-df-convert {\n",
              "      background-color: #E8F0FE;\n",
              "      border: none;\n",
              "      border-radius: 50%;\n",
              "      cursor: pointer;\n",
              "      display: none;\n",
              "      fill: #1967D2;\n",
              "      height: 32px;\n",
              "      padding: 0 0 0 0;\n",
              "      width: 32px;\n",
              "    }\n",
              "\n",
              "    .colab-df-convert:hover {\n",
              "      background-color: #E2EBFA;\n",
              "      box-shadow: 0px 1px 2px rgba(60, 64, 67, 0.3), 0px 1px 3px 1px rgba(60, 64, 67, 0.15);\n",
              "      fill: #174EA6;\n",
              "    }\n",
              "\n",
              "    [theme=dark] .colab-df-convert {\n",
              "      background-color: #3B4455;\n",
              "      fill: #D2E3FC;\n",
              "    }\n",
              "\n",
              "    [theme=dark] .colab-df-convert:hover {\n",
              "      background-color: #434B5C;\n",
              "      box-shadow: 0px 1px 3px 1px rgba(0, 0, 0, 0.15);\n",
              "      filter: drop-shadow(0px 1px 2px rgba(0, 0, 0, 0.3));\n",
              "      fill: #FFFFFF;\n",
              "    }\n",
              "  </style>\n",
              "\n",
              "      <script>\n",
              "        const buttonEl =\n",
              "          document.querySelector('#df-835483e9-e954-4c90-bff3-bd00cd01d9b6 button.colab-df-convert');\n",
              "        buttonEl.style.display =\n",
              "          google.colab.kernel.accessAllowed ? 'block' : 'none';\n",
              "\n",
              "        async function convertToInteractive(key) {\n",
              "          const element = document.querySelector('#df-835483e9-e954-4c90-bff3-bd00cd01d9b6');\n",
              "          const dataTable =\n",
              "            await google.colab.kernel.invokeFunction('convertToInteractive',\n",
              "                                                     [key], {});\n",
              "          if (!dataTable) return;\n",
              "\n",
              "          const docLinkHtml = 'Like what you see? Visit the ' +\n",
              "            '<a target=\"_blank\" href=https://colab.research.google.com/notebooks/data_table.ipynb>data table notebook</a>'\n",
              "            + ' to learn more about interactive tables.';\n",
              "          element.innerHTML = '';\n",
              "          dataTable['output_type'] = 'display_data';\n",
              "          await google.colab.output.renderOutput(dataTable, element);\n",
              "          const docLink = document.createElement('div');\n",
              "          docLink.innerHTML = docLinkHtml;\n",
              "          element.appendChild(docLink);\n",
              "        }\n",
              "      </script>\n",
              "    </div>\n",
              "  </div>\n",
              "  "
            ]
          },
          "metadata": {},
          "execution_count": 28
        }
      ],
      "source": [
        "X_train"
      ]
    },
    {
      "cell_type": "markdown",
      "source": [
        "For this assignment I am taking two machine learning models which are K Nearest neighbours and gaussian naive bayes"
      ],
      "metadata": {
        "id": "AksCw6Lvnjtb"
      },
      "id": "AksCw6Lvnjtb"
    },
    {
      "cell_type": "markdown",
      "source": [
        "## K Nearest neighbours for PD Estimation"
      ],
      "metadata": {
        "id": "m73QtIHkLEmc"
      },
      "id": "m73QtIHkLEmc"
    },
    {
      "cell_type": "code",
      "source": [],
      "metadata": {
        "id": "FHY4G0HEv_eu"
      },
      "id": "FHY4G0HEv_eu",
      "execution_count": 28,
      "outputs": []
    },
    {
      "cell_type": "code",
      "source": [
        "first_cluster_train = X_train[X_train.Clusters==0].iloc[:,:-1]\n",
        "second_cluster_train = X_train[X_train.Clusters==1].iloc[:,:-1]"
      ],
      "metadata": {
        "id": "4Bq3vlSsLa60"
      },
      "id": "4Bq3vlSsLa60",
      "execution_count": 29,
      "outputs": []
    },
    {
      "cell_type": "code",
      "execution_count": 30,
      "id": "13beb155",
      "metadata": {
        "id": "13beb155"
      },
      "outputs": [],
      "source": [
        "X_train1 = first_cluster_train\n",
        "y_train1 = y_train[y_train.Clusters==0]['Risk']"
      ]
    },
    {
      "cell_type": "code",
      "source": [
        "first_cluster_test = X_test[X_test.Clusters==0].iloc[:,:-1]\n",
        "second_cluster_test = X_test[X_test.Clusters==1].iloc[:,:-1]"
      ],
      "metadata": {
        "id": "ODOG6GM-Ker-"
      },
      "id": "ODOG6GM-Ker-",
      "execution_count": 31,
      "outputs": []
    },
    {
      "cell_type": "code",
      "source": [
        "X_test1 = first_cluster_test\n",
        "y_test1 = y_test[y_test.Clusters==0]['Risk']"
      ],
      "metadata": {
        "id": "ns8CCNKOKj2k"
      },
      "id": "ns8CCNKOKj2k",
      "execution_count": 32,
      "outputs": []
    },
    {
      "cell_type": "code",
      "source": [
        "import numpy as np\n",
        "from sklearn.neighbors import KNeighborsClassifier\n",
        "from sklearn import metrics\n"
      ],
      "metadata": {
        "id": "DyDNEx37LBva"
      },
      "id": "DyDNEx37LBva",
      "execution_count": 33,
      "outputs": []
    },
    {
      "cell_type": "markdown",
      "source": [
        "In K Neighbours we have to take n_neighbours for that I have created for loop and find n_neighbours which have high acuuracy"
      ],
      "metadata": {
        "id": "-sjzPJKpougj"
      },
      "id": "-sjzPJKpougj"
    },
    {
      "cell_type": "code",
      "execution_count": 34,
      "id": "7d9447f9",
      "metadata": {
        "colab": {
          "base_uri": "https://localhost:8080/"
        },
        "id": "7d9447f9",
        "outputId": "631d3eee-8d09-4c60-b724-650de26e553b"
      },
      "outputs": [
        {
          "output_type": "stream",
          "name": "stdout",
          "text": [
            "{1: 0.6319018404907976, 2: 0.7423312883435583, 3: 0.6748466257668712, 4: 0.7361963190184049, 5: 0.7239263803680982, 6: 0.7300613496932515, 7: 0.7177914110429447, 8: 0.7423312883435583, 9: 0.7177914110429447, 10: 0.7300613496932515, 11: 0.7300613496932515, 12: 0.7423312883435583, 13: 0.7484662576687117, 14: 0.7484662576687117, 15: 0.7423312883435583, 16: 0.7423312883435583, 17: 0.7423312883435583, 18: 0.7423312883435583, 19: 0.7484662576687117, 20: 0.7484662576687117, 21: 0.7484662576687117, 22: 0.7484662576687117, 23: 0.7484662576687117, 24: 0.7484662576687117, 25: 0.7484662576687117}\n",
            "[0.6319018404907976, 0.7423312883435583, 0.6748466257668712, 0.7361963190184049, 0.7239263803680982, 0.7300613496932515, 0.7177914110429447, 0.7423312883435583, 0.7177914110429447, 0.7300613496932515, 0.7300613496932515, 0.7423312883435583, 0.7484662576687117, 0.7484662576687117, 0.7423312883435583, 0.7423312883435583, 0.7423312883435583, 0.7423312883435583, 0.7484662576687117, 0.7484662576687117, 0.7484662576687117, 0.7484662576687117, 0.7484662576687117, 0.7484662576687117, 0.7484662576687117]\n"
          ]
        }
      ],
      "source": [
        "k_range = range(1,26)\n",
        "scores = {}\n",
        "scores_list = []\n",
        "for k in k_range:\n",
        "  knn = KNeighborsClassifier(n_neighbors=k)\n",
        "  knn.fit(X_train1,y_train1)\n",
        "  y_pred = knn.predict(X_test1)\n",
        "  scores[k] = metrics.accuracy_score(y_test1,y_pred)\n",
        "  scores_list.append(metrics.accuracy_score(y_test1,y_pred))\n",
        "print(scores)\n",
        "print(scores_list)\n"
      ]
    },
    {
      "cell_type": "code",
      "source": [
        "%matplotlib inline\n",
        "import matplotlib.pyplot as plt\n",
        "plt.plot(k_range,scores_list)\n",
        "plt.xlabel('value of K for KNN')\n",
        "plt.ylabel('Testing Accuracy')"
      ],
      "metadata": {
        "colab": {
          "base_uri": "https://localhost:8080/",
          "height": 297
        },
        "id": "JWpuTiu4MRLB",
        "outputId": "79e0bf24-0e77-4b3e-9aac-6fed4a99b33e"
      },
      "id": "JWpuTiu4MRLB",
      "execution_count": 35,
      "outputs": [
        {
          "output_type": "execute_result",
          "data": {
            "text/plain": [
              "Text(0, 0.5, 'Testing Accuracy')"
            ]
          },
          "metadata": {},
          "execution_count": 35
        },
        {
          "output_type": "display_data",
          "data": {
            "text/plain": [
              "<Figure size 432x288 with 1 Axes>"
            ],
            "image/png": "[encoded data removed]"
          },
          "metadata": {
            "needs_background": "light"
          }
        }
      ]
    },
    {
      "cell_type": "code",
      "source": [
        "knn = KNeighborsClassifier(n_neighbors=2)\n",
        "knn.fit(X_train1,y_train1)"
      ],
      "metadata": {
        "colab": {
          "base_uri": "https://localhost:8080/"
        },
        "id": "4KlpaHSznMOE",
        "outputId": "2c88dc80-ae46-4397-a36a-38615a8aa180"
      },
      "id": "4KlpaHSznMOE",
      "execution_count": 36,
      "outputs": [
        {
          "output_type": "execute_result",
          "data": {
            "text/plain": [
              "KNeighborsClassifier(n_neighbors=2)"
            ]
          },
          "metadata": {},
          "execution_count": 36
        }
      ]
    },
    {
      "cell_type": "code",
      "source": [
        "pred_prob1 = knn.predict(X_test1)"
      ],
      "metadata": {
        "id": "3AJG-1BnnYVz"
      },
      "id": "3AJG-1BnnYVz",
      "execution_count": 37,
      "outputs": []
    },
    {
      "cell_type": "code",
      "source": [
        "print(pred_prob1)"
      ],
      "metadata": {
        "colab": {
          "base_uri": "https://localhost:8080/"
        },
        "id": "NGaxKBrwnYmt",
        "outputId": "2a4d0c8b-bee8-4231-95d4-a34c943caedc"
      },
      "id": "NGaxKBrwnYmt",
      "execution_count": 38,
      "outputs": [
        {
          "output_type": "stream",
          "name": "stdout",
          "text": [
            "[0 0 0 0 0 0 0 0 0 0 0 0 0 0 0 0 0 0 0 0 0 0 0 0 1 0 0 0 0 0 0 0 1 0 0 0 0\n",
            " 0 0 0 0 0 0 0 0 0 0 0 0 0 0 0 0 0 0 0 0 0 0 0 0 1 0 0 0 0 1 0 0 0 0 0 0 0\n",
            " 0 0 0 0 0 1 0 0 0 0 0 0 1 0 0 0 0 0 0 0 1 0 0 0 0 1 0 0 0 0 0 0 0 0 0 0 0\n",
            " 0 0 0 0 0 0 0 0 0 0 0 0 0 0 0 0 0 0 0 0 0 0 0 0 0 0 0 0 0 0 0 0 0 0 0 0 0\n",
            " 0 0 0 0 0 1 0 0 0 0 0 0 0 0 0]\n"
          ]
        }
      ]
    },
    {
      "cell_type": "code",
      "source": [
        "print(y_test1.values)"
      ],
      "metadata": {
        "colab": {
          "base_uri": "https://localhost:8080/"
        },
        "id": "OpTiGNLws5hL",
        "outputId": "8081b3ee-14e1-4f44-a2db-5561de0e3c48"
      },
      "id": "OpTiGNLws5hL",
      "execution_count": 39,
      "outputs": [
        {
          "output_type": "stream",
          "name": "stdout",
          "text": [
            "[1 0 0 0 0 0 0 0 0 0 1 0 0 1 0 1 0 0 0 1 0 0 0 0 1 0 0 0 0 0 0 0 0 0 1 1 0\n",
            " 1 0 0 0 0 1 0 0 0 0 0 0 0 0 1 0 0 0 0 1 1 0 1 1 0 0 0 0 0 1 0 0 0 0 0 0 0\n",
            " 1 0 1 1 0 0 0 0 0 0 1 0 0 0 0 0 1 1 0 0 0 0 0 1 1 1 0 0 0 0 1 1 0 0 0 1 0\n",
            " 0 0 0 1 0 1 0 0 1 0 0 0 1 0 0 0 0 0 1 1 0 1 0 1 0 0 0 0 0 0 0 0 0 0 0 0 0\n",
            " 0 0 0 0 1 1 0 0 0 1 1 1 0 0 0]\n"
          ]
        }
      ]
    },
    {
      "cell_type": "code",
      "source": [
        "from sklearn.metrics import roc_auc_score, roc_curve"
      ],
      "metadata": {
        "id": "V-Deof-NrGch"
      },
      "id": "V-Deof-NrGch",
      "execution_count": 40,
      "outputs": []
    },
    {
      "cell_type": "code",
      "source": [
        "from sklearn.metrics import confusion_matrix\n",
        "import seaborn as sns\n",
        "\n",
        "matrix = confusion_matrix(pred_prob1, y_test1)\n",
        "values = np.unique(pred_prob1)\n",
        "\n",
        "sns.heatmap(matrix, square=True, annot=True, fmt='d', cbar=False, xticklabels=values, yticklabels=values)\n",
        "plt.xlabel('Truth')\n",
        "plt.ylabel('Predicted')\n"
      ],
      "metadata": {
        "colab": {
          "base_uri": "https://localhost:8080/",
          "height": 297
        },
        "id": "-7GPfTl6vS5Q",
        "outputId": "b13ab99c-f2dc-4672-d4a6-a44eaedb0681"
      },
      "id": "-7GPfTl6vS5Q",
      "execution_count": 76,
      "outputs": [
        {
          "output_type": "execute_result",
          "data": {
            "text/plain": [
              "Text(91.68, 0.5, 'Predicted')"
            ]
          },
          "metadata": {},
          "execution_count": 76
        },
        {
          "output_type": "display_data",
          "data": {
            "text/plain": [
              "<Figure size 432x288 with 1 Axes>"
            ],
            "image/png": "[encoded data removed]"
          },
          "metadata": {
            "needs_background": "light"
          }
        }
      ]
    },
    {
      "cell_type": "code",
      "source": [
        "false_pos, true_pos, _ = roc_curve(y_test1.values, pred_prob1)\n",
        "auc = roc_auc_score(y_test1, pred_prob1)\n",
        "plt.plot(false_pos, true_pos, label='AUC for cluster 1 = {:.4f}'.format(auc))\n",
        "plt.plot([0,1], [0,1],linestyle='--', label='45 degree line')\n",
        "plt.legend()\n",
        "plt.title('AUC-ROC Curve')\n",
        "plt.show()\n"
      ],
      "metadata": {
        "colab": {
          "base_uri": "https://localhost:8080/",
          "height": 281
        },
        "id": "Hlc_dqv8nOnY",
        "outputId": "571cc54d-963c-409d-e60d-ae256c5e8912"
      },
      "id": "Hlc_dqv8nOnY",
      "execution_count": 41,
      "outputs": [
        {
          "output_type": "display_data",
          "data": {
            "text/plain": [
              "<Figure size 432x288 with 1 Axes>"
            ],
            "image/png": "[encoded data removed]"
          },
          "metadata": {
            "needs_background": "light"
          }
        }
      ]
    },
    {
      "cell_type": "markdown",
      "id": "dad17600",
      "metadata": {
        "id": "dad17600"
      },
      "source": [
        "In what follows, prediction analysis is conducted by creating different datasets based on clusters. For the sake of testing, the following analysis is done with test data, and results in the following figure:"
      ]
    },
    {
      "cell_type": "markdown",
      "id": "ec7c414d",
      "metadata": {
        "id": "ec7c414d"
      },
      "source": [
        "Similar to what we did with the first set of test data, we create a second set of test data to run the prediction to draw the ROC-AUC curve:"
      ]
    },
    {
      "cell_type": "code",
      "execution_count": 42,
      "id": "604a1295",
      "metadata": {
        "id": "604a1295"
      },
      "outputs": [],
      "source": [
        "X_train2 = second_cluster_train\n",
        "y_train2 = y_train[y_train.Clusters==1]['Risk']"
      ]
    },
    {
      "cell_type": "code",
      "source": [
        "X_test2 = second_cluster_test\n",
        "y_test2 = y_test[y_test.Clusters==1]['Risk']"
      ],
      "metadata": {
        "id": "qPLM17Ovtsf8"
      },
      "id": "qPLM17Ovtsf8",
      "execution_count": 43,
      "outputs": []
    },
    {
      "cell_type": "code",
      "source": [
        "k_range_2 = range(1,26)\n",
        "scores_2 = {}\n",
        "scores_list_2 = []\n",
        "for k in k_range:\n",
        "  knn = KNeighborsClassifier(n_neighbors=k)\n",
        "  knn.fit(X_train2,y_train2)\n",
        "  y_pred = knn.predict(X_test2)\n",
        "  scores_2[k] = metrics.accuracy_score(y_test2,y_pred)\n",
        "  scores_list_2.append(metrics.accuracy_score(y_test2,y_pred))\n",
        "print(scores_2)\n",
        "print(scores_list_2)"
      ],
      "metadata": {
        "colab": {
          "base_uri": "https://localhost:8080/"
        },
        "id": "k76qQjdWtZng",
        "outputId": "4fb79ccd-520e-45f9-cfcc-fb2b06c3f335"
      },
      "id": "k76qQjdWtZng",
      "execution_count": 44,
      "outputs": [
        {
          "output_type": "stream",
          "name": "stdout",
          "text": [
            "{1: 0.5675675675675675, 2: 0.5945945945945946, 3: 0.6486486486486487, 4: 0.5405405405405406, 5: 0.6216216216216216, 6: 0.5405405405405406, 7: 0.5675675675675675, 8: 0.6216216216216216, 9: 0.5405405405405406, 10: 0.5675675675675675, 11: 0.5945945945945946, 12: 0.5675675675675675, 13: 0.6486486486486487, 14: 0.6216216216216216, 15: 0.6756756756756757, 16: 0.5945945945945946, 17: 0.6486486486486487, 18: 0.6216216216216216, 19: 0.7027027027027027, 20: 0.6756756756756757, 21: 0.6216216216216216, 22: 0.6216216216216216, 23: 0.6486486486486487, 24: 0.6216216216216216, 25: 0.6216216216216216}\n",
            "[0.5675675675675675, 0.5945945945945946, 0.6486486486486487, 0.5405405405405406, 0.6216216216216216, 0.5405405405405406, 0.5675675675675675, 0.6216216216216216, 0.5405405405405406, 0.5675675675675675, 0.5945945945945946, 0.5675675675675675, 0.6486486486486487, 0.6216216216216216, 0.6756756756756757, 0.5945945945945946, 0.6486486486486487, 0.6216216216216216, 0.7027027027027027, 0.6756756756756757, 0.6216216216216216, 0.6216216216216216, 0.6486486486486487, 0.6216216216216216, 0.6216216216216216]\n"
          ]
        }
      ]
    },
    {
      "cell_type": "code",
      "source": [
        "%matplotlib inline\n",
        "import matplotlib.pyplot as plt\n",
        "plt.plot(k_range_2,scores_list_2)\n",
        "plt.xlabel('value of K for KNN')\n",
        "plt.ylabel('Testing Accuracy')"
      ],
      "metadata": {
        "colab": {
          "base_uri": "https://localhost:8080/",
          "height": 297
        },
        "id": "ErpbI8HMt3KG",
        "outputId": "4aef023b-e896-42f0-dddc-831144b5490c"
      },
      "id": "ErpbI8HMt3KG",
      "execution_count": 45,
      "outputs": [
        {
          "output_type": "execute_result",
          "data": {
            "text/plain": [
              "Text(0, 0.5, 'Testing Accuracy')"
            ]
          },
          "metadata": {},
          "execution_count": 45
        },
        {
          "output_type": "display_data",
          "data": {
            "text/plain": [
              "<Figure size 432x288 with 1 Axes>"
            ],
            "image/png": "[encoded data removed]"
          },
          "metadata": {
            "needs_background": "light"
          }
        }
      ]
    },
    {
      "cell_type": "code",
      "execution_count": 46,
      "id": "344df1de",
      "metadata": {
        "colab": {
          "base_uri": "https://localhost:8080/"
        },
        "id": "344df1de",
        "outputId": "8d28d789-4ff6-49cc-dbc0-282f8970eedd"
      },
      "outputs": [
        {
          "output_type": "execute_result",
          "data": {
            "text/plain": [
              "KNeighborsClassifier(n_neighbors=2)"
            ]
          },
          "metadata": {},
          "execution_count": 46
        }
      ],
      "source": [
        "knn = KNeighborsClassifier(n_neighbors=2)\n",
        "knn.fit(X_train2,y_train2)"
      ]
    },
    {
      "cell_type": "code",
      "execution_count": 47,
      "id": "9babf1c9",
      "metadata": {
        "id": "9babf1c9"
      },
      "outputs": [],
      "source": [
        "X_test2 = second_cluster_test\n",
        "y_test2 = y_test[y_test.Clusters==1]['Risk']\n",
        "pred_prob2 = knn.predict(X_test2)"
      ]
    },
    {
      "cell_type": "code",
      "source": [
        "print(pred_prob2)"
      ],
      "metadata": {
        "colab": {
          "base_uri": "https://localhost:8080/"
        },
        "id": "rNHpHsidr2b4",
        "outputId": "52c4bf22-d0ec-450a-f106-e12ad3358990"
      },
      "id": "rNHpHsidr2b4",
      "execution_count": 48,
      "outputs": [
        {
          "output_type": "stream",
          "name": "stdout",
          "text": [
            "[0 0 0 0 0 0 0 0 0 0 0 0 1 0 0 0 0 1 0 0 0 0 1 0 1 1 0 0 0 1 0 0 0 1 0 0 0]\n"
          ]
        }
      ]
    },
    {
      "cell_type": "code",
      "source": [
        "print(y_test2.values)"
      ],
      "metadata": {
        "colab": {
          "base_uri": "https://localhost:8080/"
        },
        "id": "ImFI80wesvfy",
        "outputId": "16f3538b-6cc4-45ed-967e-c161f604f635"
      },
      "id": "ImFI80wesvfy",
      "execution_count": 49,
      "outputs": [
        {
          "output_type": "stream",
          "name": "stdout",
          "text": [
            "[0 0 1 1 1 0 0 0 0 0 1 0 1 0 1 1 1 0 0 1 1 0 1 0 1 1 0 1 0 1 0 0 1 0 1 1 0]\n"
          ]
        }
      ]
    },
    {
      "cell_type": "code",
      "source": [
        "from sklearn.metrics import confusion_matrix\n",
        "import seaborn as sns\n",
        "\n",
        "matrix = confusion_matrix(pred_prob2, y_test2)\n",
        "values = np.unique(y_test2)\n",
        "\n",
        "sns.heatmap(matrix, square=True, annot=True, fmt='d', cbar=False, xticklabels=values, yticklabels=values)\n",
        "plt.xlabel('Truth')\n",
        "plt.ylabel('Predicted')\n"
      ],
      "metadata": {
        "colab": {
          "base_uri": "https://localhost:8080/",
          "height": 297
        },
        "id": "UrqRGqIvxuU5",
        "outputId": "071dcbe1-5776-4dac-fb53-28cf54781d1e"
      },
      "id": "UrqRGqIvxuU5",
      "execution_count": 77,
      "outputs": [
        {
          "output_type": "execute_result",
          "data": {
            "text/plain": [
              "Text(91.68, 0.5, 'Predicted')"
            ]
          },
          "metadata": {},
          "execution_count": 77
        },
        {
          "output_type": "display_data",
          "data": {
            "text/plain": [
              "<Figure size 432x288 with 1 Axes>"
            ],
            "image/png": "[encoded data removed]"
          },
          "metadata": {
            "needs_background": "light"
          }
        }
      ]
    },
    {
      "cell_type": "code",
      "execution_count": 50,
      "id": "cbee2586",
      "metadata": {
        "scrolled": true,
        "colab": {
          "base_uri": "https://localhost:8080/",
          "height": 281
        },
        "id": "cbee2586",
        "outputId": "ac27e009-1d15-4abb-cc70-f7c289585f8b"
      },
      "outputs": [
        {
          "output_type": "display_data",
          "data": {
            "text/plain": [
              "<Figure size 432x288 with 1 Axes>"
            ],
            "image/png": "[encoded data removed]"
          },
          "metadata": {
            "needs_background": "light"
          }
        }
      ],
      "source": [
        "false_pos, true_pos, _ = roc_curve(y_test2.values, pred_prob2)\n",
        "auc = roc_auc_score(y_test2, pred_prob2)\n",
        "plt.plot(false_pos, true_pos, label='AUC for cluster 2 = {:.4f}'.format(auc))\n",
        "plt.plot([0,1], [0,1],linestyle='--', label='45 degree line')\n",
        "plt.legend()\n",
        "plt.title('AUC-ROC Curve')\n",
        "plt.show()\n"
      ]
    },
    {
      "cell_type": "markdown",
      "source": [
        "## Gaussian Naive Bayes "
      ],
      "metadata": {
        "id": "DUNmmNmXsxPK"
      },
      "id": "DUNmmNmXsxPK"
    },
    {
      "cell_type": "code",
      "source": [
        "from sklearn.naive_bayes import GaussianNB\n",
        "nb = GaussianNB()"
      ],
      "metadata": {
        "id": "9-E5Ens5tBkZ"
      },
      "id": "9-E5Ens5tBkZ",
      "execution_count": 51,
      "outputs": []
    },
    {
      "cell_type": "code",
      "source": [
        "nb.fit(X_train1,y_train1)"
      ],
      "metadata": {
        "colab": {
          "base_uri": "https://localhost:8080/"
        },
        "id": "2nwUTi5ItLYB",
        "outputId": "475113f7-5e8c-451f-9274-223a004ed4f1"
      },
      "id": "2nwUTi5ItLYB",
      "execution_count": 52,
      "outputs": [
        {
          "output_type": "execute_result",
          "data": {
            "text/plain": [
              "GaussianNB()"
            ]
          },
          "metadata": {},
          "execution_count": 52
        }
      ]
    },
    {
      "cell_type": "code",
      "source": [
        "pred_prob3 = nb.predict(X_test1)"
      ],
      "metadata": {
        "id": "zL4JAzxptUc4"
      },
      "id": "zL4JAzxptUc4",
      "execution_count": 53,
      "outputs": []
    },
    {
      "cell_type": "code",
      "source": [
        "print(pred_prob3)"
      ],
      "metadata": {
        "colab": {
          "base_uri": "https://localhost:8080/"
        },
        "id": "MJM0DE58tggc",
        "outputId": "ab482199-ad14-47b2-eb9d-2f6e7cad15b7"
      },
      "id": "MJM0DE58tggc",
      "execution_count": 81,
      "outputs": [
        {
          "output_type": "stream",
          "name": "stdout",
          "text": [
            "[0 0 0 0 0 0 0 0 0 0 0 0 0 0 0 0 0 0 0 0 0 0 0 0 0 0 0 0 0 0 0 0 0 0 0 0 0\n",
            " 0 0 0 0 0 0 0 0 0 0 0 0 0 0 0 0 0 0 0 0 0 0 0 0 0 0 0 0 0 0 0 0 0 0 0 0 0\n",
            " 0 0 0 0 0 0 0 0 0 0 0 0 0 0 0 0 0 0 0 0 0 0 0 0 0 0 0 0 0 0 0 0 0 0 0 0 0\n",
            " 0 0 0 0 0 0 0 0 0 0 0 0 0 0 0 0 0 0 0 0 0 0 0 0 0 0 0 0 0 0 0 0 0 0 0 0 0\n",
            " 0 0 0 0 0 0 0 0 0 0 0 0 0 0 0]\n"
          ]
        }
      ]
    },
    {
      "cell_type": "code",
      "source": [
        "pred_prob3.shape"
      ],
      "metadata": {
        "colab": {
          "base_uri": "https://localhost:8080/"
        },
        "id": "z3Z1_nATD6zb",
        "outputId": "085bb43d-1269-4906-d884-99ccb6d11303"
      },
      "id": "z3Z1_nATD6zb",
      "execution_count": 55,
      "outputs": [
        {
          "output_type": "execute_result",
          "data": {
            "text/plain": [
              "(163,)"
            ]
          },
          "metadata": {},
          "execution_count": 55
        }
      ]
    },
    {
      "cell_type": "code",
      "source": [
        "print(y_test1.values)"
      ],
      "metadata": {
        "colab": {
          "base_uri": "https://localhost:8080/"
        },
        "id": "_vNxXPAdtqrO",
        "outputId": "3d1accd5-3292-4597-eeff-fb8fcf3bb770"
      },
      "id": "_vNxXPAdtqrO",
      "execution_count": 80,
      "outputs": [
        {
          "output_type": "stream",
          "name": "stdout",
          "text": [
            "[1 0 0 0 0 0 0 0 0 0 1 0 0 1 0 1 0 0 0 1 0 0 0 0 1 0 0 0 0 0 0 0 0 0 1 1 0\n",
            " 1 0 0 0 0 1 0 0 0 0 0 0 0 0 1 0 0 0 0 1 1 0 1 1 0 0 0 0 0 1 0 0 0 0 0 0 0\n",
            " 1 0 1 1 0 0 0 0 0 0 1 0 0 0 0 0 1 1 0 0 0 0 0 1 1 1 0 0 0 0 1 1 0 0 0 1 0\n",
            " 0 0 0 1 0 1 0 0 1 0 0 0 1 0 0 0 0 0 1 1 0 1 0 1 0 0 0 0 0 0 0 0 0 0 0 0 0\n",
            " 0 0 0 0 1 1 0 0 0 1 1 1 0 0 0]\n"
          ]
        }
      ]
    },
    {
      "cell_type": "code",
      "source": [
        "from sklearn.metrics import confusion_matrix\n",
        "import seaborn as sns\n",
        "\n",
        "matrix = confusion_matrix(pred_prob3, y_test1)\n",
        "values = np.unique(y_test1)\n",
        "\n",
        "sns.heatmap(matrix, square=True, annot=True, fmt='d', cbar=False, xticklabels=values, yticklabels=values)\n",
        "plt.xlabel('Truth')\n",
        "plt.ylabel('Predicted')\n"
      ],
      "metadata": {
        "colab": {
          "base_uri": "https://localhost:8080/",
          "height": 297
        },
        "id": "is2_Avv3yD2e",
        "outputId": "df9adce1-9adf-4086-8a2e-823c5a3482cc"
      },
      "id": "is2_Avv3yD2e",
      "execution_count": 79,
      "outputs": [
        {
          "output_type": "execute_result",
          "data": {
            "text/plain": [
              "Text(91.68, 0.5, 'Predicted')"
            ]
          },
          "metadata": {},
          "execution_count": 79
        },
        {
          "output_type": "display_data",
          "data": {
            "text/plain": [
              "<Figure size 432x288 with 1 Axes>"
            ],
            "image/png": "[encoded data removed]"
          },
          "metadata": {
            "needs_background": "light"
          }
        }
      ]
    },
    {
      "cell_type": "code",
      "source": [
        "false_pos, true_pos, _ = roc_curve(y_test1.values, pred_prob3)\n",
        "auc = roc_auc_score(y_test1, pred_prob3)\n",
        "plt.plot(false_pos, true_pos, label='AUC for cluster 1 = {:.4f}'.format(auc))\n",
        "plt.plot([0,1], [0,1],linestyle='--', label='45 degree line')\n",
        "plt.legend()\n",
        "plt.title('AUC-ROC Curve')\n",
        "plt.show()"
      ],
      "metadata": {
        "colab": {
          "base_uri": "https://localhost:8080/",
          "height": 281
        },
        "id": "JaQ3UNDBtv3k",
        "outputId": "ea6d9a77-4d42-4c7f-8916-2b15babaf1bf"
      },
      "id": "JaQ3UNDBtv3k",
      "execution_count": 57,
      "outputs": [
        {
          "output_type": "display_data",
          "data": {
            "text/plain": [
              "<Figure size 432x288 with 1 Axes>"
            ],
            "image/png": "[encoded data removed]"
          },
          "metadata": {
            "needs_background": "light"
          }
        }
      ]
    },
    {
      "cell_type": "code",
      "source": [
        "gaussianNbscore = metrics.accuracy_score(y_test1,pred_prob3)"
      ],
      "metadata": {
        "id": "4AqNwP8Nt3vN"
      },
      "id": "4AqNwP8Nt3vN",
      "execution_count": 58,
      "outputs": []
    },
    {
      "cell_type": "code",
      "source": [
        "print(gaussianNbscore)"
      ],
      "metadata": {
        "colab": {
          "base_uri": "https://localhost:8080/"
        },
        "id": "BvxFMHEPufbs",
        "outputId": "2cda1b87-e9ea-4d14-95ac-006175521022"
      },
      "id": "BvxFMHEPufbs",
      "execution_count": 59,
      "outputs": [
        {
          "output_type": "stream",
          "name": "stdout",
          "text": [
            "0.7484662576687117\n"
          ]
        }
      ]
    },
    {
      "cell_type": "code",
      "source": [
        "print(\"Number of mislabeled points out of a total %d points for training set: %d\" % (X_test1.shape[0],(y_test1 != pred_prob3).sum()))"
      ],
      "metadata": {
        "colab": {
          "base_uri": "https://localhost:8080/"
        },
        "id": "nvrVQCzZuirp",
        "outputId": "909e4564-c82b-49d8-d04c-ba3f566e337a"
      },
      "id": "nvrVQCzZuirp",
      "execution_count": 60,
      "outputs": [
        {
          "output_type": "stream",
          "name": "stdout",
          "text": [
            "Number of mislabeled points out of a total 163 points for training set: 41\n"
          ]
        }
      ]
    },
    {
      "cell_type": "code",
      "source": [
        "nb.fit(X_train2,y_train2)"
      ],
      "metadata": {
        "colab": {
          "base_uri": "https://localhost:8080/"
        },
        "id": "ACkhFmQ0vqy5",
        "outputId": "95dc2cb4-8a1b-4f73-b056-eea5b994aad3"
      },
      "id": "ACkhFmQ0vqy5",
      "execution_count": 61,
      "outputs": [
        {
          "output_type": "execute_result",
          "data": {
            "text/plain": [
              "GaussianNB()"
            ]
          },
          "metadata": {},
          "execution_count": 61
        }
      ]
    },
    {
      "cell_type": "code",
      "source": [
        "pred_prob4 = nb.predict(X_test2)"
      ],
      "metadata": {
        "id": "RmumW4A6Cfo3"
      },
      "id": "RmumW4A6Cfo3",
      "execution_count": 62,
      "outputs": []
    },
    {
      "cell_type": "code",
      "source": [
        "print(pred_prob4)"
      ],
      "metadata": {
        "colab": {
          "base_uri": "https://localhost:8080/"
        },
        "id": "_KesL2PTCry2",
        "outputId": "9976b0c9-90d0-4d61-8153-d28fea167e42"
      },
      "id": "_KesL2PTCry2",
      "execution_count": 63,
      "outputs": [
        {
          "output_type": "stream",
          "name": "stdout",
          "text": [
            "[0 0 0 0 0 0 0 0 0 0 0 0 0 0 0 0 0 0 0 0 1 0 0 0 1 1 0 1 0 0 0 1 1 0 0 1 1]\n"
          ]
        }
      ]
    },
    {
      "cell_type": "code",
      "source": [
        "print(y_test2.values)"
      ],
      "metadata": {
        "colab": {
          "base_uri": "https://localhost:8080/"
        },
        "id": "IU8uj0rxCw9Z",
        "outputId": "af55cba7-9906-44be-fd71-ce87eb34c0b9"
      },
      "id": "IU8uj0rxCw9Z",
      "execution_count": 64,
      "outputs": [
        {
          "output_type": "stream",
          "name": "stdout",
          "text": [
            "[0 0 1 1 1 0 0 0 0 0 1 0 1 0 1 1 1 0 0 1 1 0 1 0 1 1 0 1 0 1 0 0 1 0 1 1 0]\n"
          ]
        }
      ]
    },
    {
      "cell_type": "code",
      "source": [
        "from sklearn.metrics import confusion_matrix\n",
        "import seaborn as sns\n",
        "\n",
        "matrix = confusion_matrix(pred_prob4, y_test2)\n",
        "values = np.unique(y_test2)\n",
        "\n",
        "sns.heatmap(matrix, square=True, annot=True, fmt='d', cbar=False, xticklabels=values, yticklabels=values)\n",
        "plt.xlabel('Truth')\n",
        "plt.ylabel('Predicted')\n"
      ],
      "metadata": {
        "colab": {
          "base_uri": "https://localhost:8080/",
          "height": 297
        },
        "id": "NSvXU4VFyUpb",
        "outputId": "9b3c28e1-9cdd-4982-fc68-8c812d683294"
      },
      "id": "NSvXU4VFyUpb",
      "execution_count": 82,
      "outputs": [
        {
          "output_type": "execute_result",
          "data": {
            "text/plain": [
              "Text(91.68, 0.5, 'Predicted')"
            ]
          },
          "metadata": {},
          "execution_count": 82
        },
        {
          "output_type": "display_data",
          "data": {
            "text/plain": [
              "<Figure size 432x288 with 1 Axes>"
            ],
            "image/png": "[encoded data removed]"
          },
          "metadata": {
            "needs_background": "light"
          }
        }
      ]
    },
    {
      "cell_type": "code",
      "source": [
        "false_pos, true_pos, _ = roc_curve(y_test2.values, pred_prob4)\n",
        "auc = roc_auc_score(y_test2, pred_prob4)\n",
        "plt.plot(false_pos, true_pos, label='AUC for cluster 1 = {:.4f}'.format(auc))\n",
        "plt.plot([0,1], [0,1],linestyle='--', label='45 degree line')\n",
        "plt.legend()\n",
        "plt.title('AUC-ROC Curve')\n",
        "plt.show()"
      ],
      "metadata": {
        "colab": {
          "base_uri": "https://localhost:8080/",
          "height": 281
        },
        "id": "F4XkM0W1C1kJ",
        "outputId": "41661a18-19da-4bd1-b473-aa989f2c744d"
      },
      "id": "F4XkM0W1C1kJ",
      "execution_count": 65,
      "outputs": [
        {
          "output_type": "display_data",
          "data": {
            "text/plain": [
              "<Figure size 432x288 with 1 Axes>"
            ],
            "image/png": "[encoded data removed]"
          },
          "metadata": {
            "needs_background": "light"
          }
        }
      ]
    },
    {
      "cell_type": "code",
      "source": [
        "gaussianNbscore2 = metrics.accuracy_score(y_test2,pred_prob4)"
      ],
      "metadata": {
        "id": "sfCi7JqCC-aP"
      },
      "id": "sfCi7JqCC-aP",
      "execution_count": 66,
      "outputs": []
    },
    {
      "cell_type": "code",
      "source": [
        "print(gaussianNbscore2)"
      ],
      "metadata": {
        "colab": {
          "base_uri": "https://localhost:8080/"
        },
        "id": "30B329ZGDFQ-",
        "outputId": "3d98db91-af66-441e-a415-60f780b3d2b3"
      },
      "id": "30B329ZGDFQ-",
      "execution_count": 67,
      "outputs": [
        {
          "output_type": "stream",
          "name": "stdout",
          "text": [
            "0.6216216216216216\n"
          ]
        }
      ]
    },
    {
      "cell_type": "code",
      "source": [
        "print(\"Number of mislabeled points out of a total %d points for training set: %d\" % (X_test2.shape[0],(y_test2 != pred_prob4).sum()))"
      ],
      "metadata": {
        "colab": {
          "base_uri": "https://localhost:8080/"
        },
        "id": "37nPLc6aDKOo",
        "outputId": "d62430e3-1040-4bbc-cc4c-a77d36ffdf48"
      },
      "id": "37nPLc6aDKOo",
      "execution_count": 68,
      "outputs": [
        {
          "output_type": "stream",
          "name": "stdout",
          "text": [
            "Number of mislabeled points out of a total 37 points for training set: 14\n"
          ]
        }
      ]
    },
    {
      "cell_type": "code",
      "source": [],
      "metadata": {
        "id": "K1GEu88KDksA"
      },
      "id": "K1GEu88KDksA",
      "execution_count": 68,
      "outputs": []
    }
  ],
  "metadata": {
    "kernelspec": {
      "display_name": "Python 3 (ipykernel)",
      "language": "python",
      "name": "python3"
    },
    "language_info": {
      "codemirror_mode": {
        "name": "ipython",
        "version": 3
      },
      "file_extension": ".py",
      "mimetype": "text/x-python",
      "name": "python",
      "nbconvert_exporter": "python",
      "pygments_lexer": "ipython3",
      "version": "3.9.7"
    },
    "latex_envs": {
      "LaTeX_envs_menu_present": true,
      "autoclose": false,
      "autocomplete": true,
      "bibliofile": "biblio.bib",
      "cite_by": "apalike",
      "current_citInitial": 1,
      "eqLabelWithNumbers": true,
      "eqNumInitial": 1,
      "hotkeys": {
        "equation": "Ctrl-E",
        "itemize": "Ctrl-I"
      },
      "labels_anchors": false,
      "latex_user_defs": false,
      "report_style_numbering": false,
      "user_envs_cfg": false
    },
    "toc": {
      "base_numbering": 1,
      "nav_menu": {},
      "number_sections": true,
      "sideBar": true,
      "skip_h1_title": false,
      "title_cell": "Table of Contents",
      "title_sidebar": "Contents",
      "toc_cell": false,
      "toc_position": {},
      "toc_section_display": true,
      "toc_window_display": false
    },
    "colab": {
      "provenance": []
    }
  },
  "nbformat": 4,
  "nbformat_minor": 5
}