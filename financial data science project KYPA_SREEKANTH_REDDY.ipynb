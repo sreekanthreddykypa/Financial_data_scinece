{
 "cells": [
  {
   "cell_type": "markdown",
   "id": "3781a7fd",
   "metadata": {},
   "source": [
    "# Mean-variance optimization\n",
    "\n",
    "\n",
    "The fundamental goal of portfolio theory is to optimally allocate our investments between different assets. Mean-variance optimization (MVO) is a quantitative tool that will allow to make this allocation by considering the trade-off between risk and return\n",
    "In this Project, we work on several examples demonstrating PyPortfolioOpt's mean-variance capabilities.\n",
    "\n",
    "We took 11 stocks prices from 6 diffrent Sectors i.e, IT, Health, Banking, Industrial,Communication, Real Estate, Auto\n",
    "\n",
    "Some of the things we cover:\n",
    "\n",
    "- Downloading data and getting it into PyPortfolioOpt\n",
    "- Calculating and visualising the covariance matrix\n",
    "- Optimising a long/short portfolio to minimise total variance\n",
    "- Optimising a portfolio to maximise the Sharpe ratio, subject to sector constraints\n",
    "- Optimising a portfolio to maximise return for a given risk, subject to sector constraints, with an L2 regularisation objective\n",
    "- Optimising a market-neutral portfolio to minimise risk for a given level of return\n",
    "- Optimising along the mean-semivariance frontier\n",
    "- Optimising along the mean-CVaR frontier\n",
    "- Plotting the efficient frontier:\n",
    "    - Simple (using CLA)\n",
    "    - Constrained\n",
    "    - Complex plots\n"
   ]
  },
  {
   "cell_type": "markdown",
   "id": "65411d6d",
   "metadata": {},
   "source": []
  },
  {
   "cell_type": "code",
   "execution_count": 1,
   "id": "d2898e28",
   "metadata": {},
   "outputs": [],
   "source": [
    "import numpy as np\n",
    "import pandas as pd\n",
    "import yfinance\n",
    "import requests\n",
    "from io import StringIO\n",
    "import pandas as pd\n",
    "import numpy as np\n",
    "import matplotlib.pyplot as plt\n",
    "import seaborn as sns\n",
    "import statsmodels.api as sm\n",
    "from fredapi import Fred\n",
    "import yfinance as yf\n",
    "import datetime"
   ]
  },
  {
   "cell_type": "code",
   "execution_count": 2,
   "id": "2aa7148a",
   "metadata": {},
   "outputs": [],
   "source": [
    "tickers = [\"AAPL\", \"META\", \"GOOG\", \"AMZN\", \"UNH\", \n",
    "           \"BAC\", \"TMUS\", \"KO\", \"PLD\", \n",
    "           \"TSLA\"]"
   ]
  },
  {
   "cell_type": "code",
   "execution_count": 3,
   "id": "7c43c4ec",
   "metadata": {},
   "outputs": [
    {
     "name": "stdout",
     "output_type": "stream",
     "text": [
      "[*********************100%***********************]  10 of 10 completed\n"
     ]
    }
   ],
   "source": [
    "ohlc = yf.download(tickers, period=\"max\")"
   ]
  },
  {
   "cell_type": "code",
   "execution_count": 4,
   "id": "8f5a7dbc",
   "metadata": {},
   "outputs": [
    {
     "data": {
      "text/html": [
       "<div>\n",
       "<style scoped>\n",
       "    .dataframe tbody tr th:only-of-type {\n",
       "        vertical-align: middle;\n",
       "    }\n",
       "\n",
       "    .dataframe tbody tr th {\n",
       "        vertical-align: top;\n",
       "    }\n",
       "\n",
       "    .dataframe thead th {\n",
       "        text-align: right;\n",
       "    }\n",
       "</style>\n",
       "<table border=\"1\" class=\"dataframe\">\n",
       "  <thead>\n",
       "    <tr style=\"text-align: right;\">\n",
       "      <th></th>\n",
       "      <th>AAPL</th>\n",
       "      <th>AMZN</th>\n",
       "      <th>BAC</th>\n",
       "      <th>GOOG</th>\n",
       "      <th>KO</th>\n",
       "      <th>META</th>\n",
       "      <th>PLD</th>\n",
       "      <th>TMUS</th>\n",
       "      <th>TSLA</th>\n",
       "      <th>UNH</th>\n",
       "    </tr>\n",
       "    <tr>\n",
       "      <th>Date</th>\n",
       "      <th></th>\n",
       "      <th></th>\n",
       "      <th></th>\n",
       "      <th></th>\n",
       "      <th></th>\n",
       "      <th></th>\n",
       "      <th></th>\n",
       "      <th></th>\n",
       "      <th></th>\n",
       "      <th></th>\n",
       "    </tr>\n",
       "  </thead>\n",
       "  <tbody>\n",
       "    <tr>\n",
       "      <th>2022-10-17</th>\n",
       "      <td>142.410004</td>\n",
       "      <td>113.790001</td>\n",
       "      <td>33.619999</td>\n",
       "      <td>100.779999</td>\n",
       "      <td>55.689999</td>\n",
       "      <td>134.039993</td>\n",
       "      <td>105.230003</td>\n",
       "      <td>133.839996</td>\n",
       "      <td>219.350006</td>\n",
       "      <td>521.880005</td>\n",
       "    </tr>\n",
       "    <tr>\n",
       "      <th>2022-10-18</th>\n",
       "      <td>143.750000</td>\n",
       "      <td>116.360001</td>\n",
       "      <td>34.880001</td>\n",
       "      <td>101.389999</td>\n",
       "      <td>56.439999</td>\n",
       "      <td>132.800003</td>\n",
       "      <td>105.849998</td>\n",
       "      <td>136.160004</td>\n",
       "      <td>220.190002</td>\n",
       "      <td>522.210022</td>\n",
       "    </tr>\n",
       "    <tr>\n",
       "      <th>2022-10-19</th>\n",
       "      <td>143.860001</td>\n",
       "      <td>115.070000</td>\n",
       "      <td>33.919998</td>\n",
       "      <td>100.290001</td>\n",
       "      <td>55.959999</td>\n",
       "      <td>133.229996</td>\n",
       "      <td>102.010002</td>\n",
       "      <td>135.740005</td>\n",
       "      <td>222.039993</td>\n",
       "      <td>520.320007</td>\n",
       "    </tr>\n",
       "    <tr>\n",
       "      <th>2022-10-20</th>\n",
       "      <td>143.389999</td>\n",
       "      <td>115.250000</td>\n",
       "      <td>33.700001</td>\n",
       "      <td>100.529999</td>\n",
       "      <td>55.080002</td>\n",
       "      <td>131.529999</td>\n",
       "      <td>102.459999</td>\n",
       "      <td>136.020004</td>\n",
       "      <td>207.279999</td>\n",
       "      <td>520.880005</td>\n",
       "    </tr>\n",
       "    <tr>\n",
       "      <th>2022-10-21</th>\n",
       "      <td>147.270004</td>\n",
       "      <td>119.320000</td>\n",
       "      <td>34.950001</td>\n",
       "      <td>101.480003</td>\n",
       "      <td>55.959999</td>\n",
       "      <td>130.009995</td>\n",
       "      <td>103.080002</td>\n",
       "      <td>136.460007</td>\n",
       "      <td>214.440002</td>\n",
       "      <td>533.729980</td>\n",
       "    </tr>\n",
       "    <tr>\n",
       "      <th>2022-10-24</th>\n",
       "      <td>149.449997</td>\n",
       "      <td>119.820000</td>\n",
       "      <td>35.070000</td>\n",
       "      <td>102.970001</td>\n",
       "      <td>57.570000</td>\n",
       "      <td>129.720001</td>\n",
       "      <td>103.370003</td>\n",
       "      <td>139.320007</td>\n",
       "      <td>211.250000</td>\n",
       "      <td>541.599976</td>\n",
       "    </tr>\n",
       "    <tr>\n",
       "      <th>2022-10-25</th>\n",
       "      <td>152.339996</td>\n",
       "      <td>120.599998</td>\n",
       "      <td>35.389999</td>\n",
       "      <td>104.930000</td>\n",
       "      <td>58.950001</td>\n",
       "      <td>137.509995</td>\n",
       "      <td>108.330002</td>\n",
       "      <td>140.630005</td>\n",
       "      <td>222.419998</td>\n",
       "      <td>540.219971</td>\n",
       "    </tr>\n",
       "    <tr>\n",
       "      <th>2022-10-26</th>\n",
       "      <td>149.350006</td>\n",
       "      <td>115.660004</td>\n",
       "      <td>35.700001</td>\n",
       "      <td>94.820000</td>\n",
       "      <td>59.389999</td>\n",
       "      <td>129.820007</td>\n",
       "      <td>109.870003</td>\n",
       "      <td>140.839996</td>\n",
       "      <td>224.639999</td>\n",
       "      <td>543.169983</td>\n",
       "    </tr>\n",
       "    <tr>\n",
       "      <th>2022-10-27</th>\n",
       "      <td>144.800003</td>\n",
       "      <td>110.959999</td>\n",
       "      <td>35.869999</td>\n",
       "      <td>92.599998</td>\n",
       "      <td>59.529999</td>\n",
       "      <td>97.940002</td>\n",
       "      <td>111.010002</td>\n",
       "      <td>140.630005</td>\n",
       "      <td>225.089996</td>\n",
       "      <td>541.799988</td>\n",
       "    </tr>\n",
       "    <tr>\n",
       "      <th>2022-10-28</th>\n",
       "      <td>155.740005</td>\n",
       "      <td>103.410004</td>\n",
       "      <td>36.180000</td>\n",
       "      <td>96.580002</td>\n",
       "      <td>60.759998</td>\n",
       "      <td>99.199997</td>\n",
       "      <td>112.980003</td>\n",
       "      <td>151.000000</td>\n",
       "      <td>228.520004</td>\n",
       "      <td>551.239990</td>\n",
       "    </tr>\n",
       "  </tbody>\n",
       "</table>\n",
       "</div>"
      ],
      "text/plain": [
       "                  AAPL        AMZN        BAC        GOOG         KO  \\\n",
       "Date                                                                   \n",
       "2022-10-17  142.410004  113.790001  33.619999  100.779999  55.689999   \n",
       "2022-10-18  143.750000  116.360001  34.880001  101.389999  56.439999   \n",
       "2022-10-19  143.860001  115.070000  33.919998  100.290001  55.959999   \n",
       "2022-10-20  143.389999  115.250000  33.700001  100.529999  55.080002   \n",
       "2022-10-21  147.270004  119.320000  34.950001  101.480003  55.959999   \n",
       "2022-10-24  149.449997  119.820000  35.070000  102.970001  57.570000   \n",
       "2022-10-25  152.339996  120.599998  35.389999  104.930000  58.950001   \n",
       "2022-10-26  149.350006  115.660004  35.700001   94.820000  59.389999   \n",
       "2022-10-27  144.800003  110.959999  35.869999   92.599998  59.529999   \n",
       "2022-10-28  155.740005  103.410004  36.180000   96.580002  60.759998   \n",
       "\n",
       "                  META         PLD        TMUS        TSLA         UNH  \n",
       "Date                                                                    \n",
       "2022-10-17  134.039993  105.230003  133.839996  219.350006  521.880005  \n",
       "2022-10-18  132.800003  105.849998  136.160004  220.190002  522.210022  \n",
       "2022-10-19  133.229996  102.010002  135.740005  222.039993  520.320007  \n",
       "2022-10-20  131.529999  102.459999  136.020004  207.279999  520.880005  \n",
       "2022-10-21  130.009995  103.080002  136.460007  214.440002  533.729980  \n",
       "2022-10-24  129.720001  103.370003  139.320007  211.250000  541.599976  \n",
       "2022-10-25  137.509995  108.330002  140.630005  222.419998  540.219971  \n",
       "2022-10-26  129.820007  109.870003  140.839996  224.639999  543.169983  \n",
       "2022-10-27   97.940002  111.010002  140.630005  225.089996  541.799988  \n",
       "2022-10-28   99.199997  112.980003  151.000000  228.520004  551.239990  "
      ]
     },
     "execution_count": 4,
     "metadata": {},
     "output_type": "execute_result"
    }
   ],
   "source": [
    "prices = ohlc[\"Adj Close\"].dropna(how=\"any\")\n",
    "prices.tail(10)"
   ]
  },
  {
   "cell_type": "code",
   "execution_count": 5,
   "id": "4427636b",
   "metadata": {},
   "outputs": [
    {
     "data": {
      "image/png": "[encoded data removed]",
      "text/plain": [
       "<Figure size 1080x720 with 1 Axes>"
      ]
     },
     "metadata": {
      "needs_background": "light"
     },
     "output_type": "display_data"
    }
   ],
   "source": [
    "prices[prices.index >= \"2004-01-01\"].plot(figsize=(15,10));"
   ]
  },
  {
   "cell_type": "markdown",
   "id": "0f51cf91",
   "metadata": {},
   "source": [
    " from the above graph it was clear that stock prices of apple was high and increasing since a decade"
   ]
  },
  {
   "cell_type": "markdown",
   "id": "829bd95e",
   "metadata": {},
   "source": [
    "## Calculating the covariance matrix\n",
    " "
   ]
  },
  {
   "cell_type": "code",
   "execution_count": 6,
   "id": "99ae3ac0",
   "metadata": {},
   "outputs": [
    {
     "data": {
      "text/plain": [
       "'1.5.3'"
      ]
     },
     "execution_count": 6,
     "metadata": {},
     "output_type": "execute_result"
    }
   ],
   "source": [
    "import pypfopt\n",
    "pypfopt.__version__"
   ]
  },
  {
   "cell_type": "markdown",
   "id": "2be7235e",
   "metadata": {},
   "source": [
    "In addition to the expected returns, mean-variance optimization requires a risk model, some way of quantifying asset risk. The most commonly-used risk model is the covariance matrix, which describes asset volatilities and their co-dependence."
   ]
  },
  {
   "cell_type": "code",
   "execution_count": 7,
   "id": "3a36e7cf",
   "metadata": {},
   "outputs": [
    {
     "data": {
      "text/html": [
       "<div>\n",
       "<style scoped>\n",
       "    .dataframe tbody tr th:only-of-type {\n",
       "        vertical-align: middle;\n",
       "    }\n",
       "\n",
       "    .dataframe tbody tr th {\n",
       "        vertical-align: top;\n",
       "    }\n",
       "\n",
       "    .dataframe thead th {\n",
       "        text-align: right;\n",
       "    }\n",
       "</style>\n",
       "<table border=\"1\" class=\"dataframe\">\n",
       "  <thead>\n",
       "    <tr style=\"text-align: right;\">\n",
       "      <th></th>\n",
       "      <th>AAPL</th>\n",
       "      <th>AMZN</th>\n",
       "      <th>BAC</th>\n",
       "      <th>GOOG</th>\n",
       "      <th>KO</th>\n",
       "      <th>META</th>\n",
       "      <th>PLD</th>\n",
       "      <th>TMUS</th>\n",
       "      <th>TSLA</th>\n",
       "      <th>UNH</th>\n",
       "    </tr>\n",
       "  </thead>\n",
       "  <tbody>\n",
       "    <tr>\n",
       "      <th>AAPL</th>\n",
       "      <td>0.083300</td>\n",
       "      <td>0.045057</td>\n",
       "      <td>0.035628</td>\n",
       "      <td>0.042540</td>\n",
       "      <td>0.017691</td>\n",
       "      <td>0.049263</td>\n",
       "      <td>0.030061</td>\n",
       "      <td>0.027943</td>\n",
       "      <td>0.058912</td>\n",
       "      <td>0.029759</td>\n",
       "    </tr>\n",
       "    <tr>\n",
       "      <th>AMZN</th>\n",
       "      <td>0.045057</td>\n",
       "      <td>0.102102</td>\n",
       "      <td>0.031783</td>\n",
       "      <td>0.052276</td>\n",
       "      <td>0.013668</td>\n",
       "      <td>0.062237</td>\n",
       "      <td>0.028636</td>\n",
       "      <td>0.031536</td>\n",
       "      <td>0.065642</td>\n",
       "      <td>0.025349</td>\n",
       "    </tr>\n",
       "    <tr>\n",
       "      <th>BAC</th>\n",
       "      <td>0.035628</td>\n",
       "      <td>0.031783</td>\n",
       "      <td>0.097449</td>\n",
       "      <td>0.036039</td>\n",
       "      <td>0.023306</td>\n",
       "      <td>0.036954</td>\n",
       "      <td>0.032462</td>\n",
       "      <td>0.032326</td>\n",
       "      <td>0.044678</td>\n",
       "      <td>0.036059</td>\n",
       "    </tr>\n",
       "    <tr>\n",
       "      <th>GOOG</th>\n",
       "      <td>0.042540</td>\n",
       "      <td>0.052276</td>\n",
       "      <td>0.036039</td>\n",
       "      <td>0.070484</td>\n",
       "      <td>0.017303</td>\n",
       "      <td>0.056578</td>\n",
       "      <td>0.028121</td>\n",
       "      <td>0.029488</td>\n",
       "      <td>0.053087</td>\n",
       "      <td>0.028069</td>\n",
       "    </tr>\n",
       "    <tr>\n",
       "      <th>KO</th>\n",
       "      <td>0.017691</td>\n",
       "      <td>0.013668</td>\n",
       "      <td>0.023306</td>\n",
       "      <td>0.017303</td>\n",
       "      <td>0.032228</td>\n",
       "      <td>0.014387</td>\n",
       "      <td>0.023470</td>\n",
       "      <td>0.016952</td>\n",
       "      <td>0.017799</td>\n",
       "      <td>0.018626</td>\n",
       "    </tr>\n",
       "    <tr>\n",
       "      <th>META</th>\n",
       "      <td>0.049263</td>\n",
       "      <td>0.062237</td>\n",
       "      <td>0.036954</td>\n",
       "      <td>0.056578</td>\n",
       "      <td>0.014387</td>\n",
       "      <td>0.158756</td>\n",
       "      <td>0.029216</td>\n",
       "      <td>0.027681</td>\n",
       "      <td>0.063921</td>\n",
       "      <td>0.026990</td>\n",
       "    </tr>\n",
       "    <tr>\n",
       "      <th>PLD</th>\n",
       "      <td>0.030061</td>\n",
       "      <td>0.028636</td>\n",
       "      <td>0.032462</td>\n",
       "      <td>0.028121</td>\n",
       "      <td>0.023470</td>\n",
       "      <td>0.029216</td>\n",
       "      <td>0.060702</td>\n",
       "      <td>0.025362</td>\n",
       "      <td>0.033847</td>\n",
       "      <td>0.028359</td>\n",
       "    </tr>\n",
       "    <tr>\n",
       "      <th>TMUS</th>\n",
       "      <td>0.027943</td>\n",
       "      <td>0.031536</td>\n",
       "      <td>0.032326</td>\n",
       "      <td>0.029488</td>\n",
       "      <td>0.016952</td>\n",
       "      <td>0.027681</td>\n",
       "      <td>0.025362</td>\n",
       "      <td>0.104343</td>\n",
       "      <td>0.038447</td>\n",
       "      <td>0.024417</td>\n",
       "    </tr>\n",
       "    <tr>\n",
       "      <th>TSLA</th>\n",
       "      <td>0.058912</td>\n",
       "      <td>0.065642</td>\n",
       "      <td>0.044678</td>\n",
       "      <td>0.053087</td>\n",
       "      <td>0.017799</td>\n",
       "      <td>0.063921</td>\n",
       "      <td>0.033847</td>\n",
       "      <td>0.038447</td>\n",
       "      <td>0.318075</td>\n",
       "      <td>0.029915</td>\n",
       "    </tr>\n",
       "    <tr>\n",
       "      <th>UNH</th>\n",
       "      <td>0.029759</td>\n",
       "      <td>0.025349</td>\n",
       "      <td>0.036059</td>\n",
       "      <td>0.028069</td>\n",
       "      <td>0.018626</td>\n",
       "      <td>0.026990</td>\n",
       "      <td>0.028359</td>\n",
       "      <td>0.024417</td>\n",
       "      <td>0.029915</td>\n",
       "      <td>0.063312</td>\n",
       "    </tr>\n",
       "  </tbody>\n",
       "</table>\n",
       "</div>"
      ],
      "text/plain": [
       "          AAPL      AMZN       BAC      GOOG        KO      META       PLD  \\\n",
       "AAPL  0.083300  0.045057  0.035628  0.042540  0.017691  0.049263  0.030061   \n",
       "AMZN  0.045057  0.102102  0.031783  0.052276  0.013668  0.062237  0.028636   \n",
       "BAC   0.035628  0.031783  0.097449  0.036039  0.023306  0.036954  0.032462   \n",
       "GOOG  0.042540  0.052276  0.036039  0.070484  0.017303  0.056578  0.028121   \n",
       "KO    0.017691  0.013668  0.023306  0.017303  0.032228  0.014387  0.023470   \n",
       "META  0.049263  0.062237  0.036954  0.056578  0.014387  0.158756  0.029216   \n",
       "PLD   0.030061  0.028636  0.032462  0.028121  0.023470  0.029216  0.060702   \n",
       "TMUS  0.027943  0.031536  0.032326  0.029488  0.016952  0.027681  0.025362   \n",
       "TSLA  0.058912  0.065642  0.044678  0.053087  0.017799  0.063921  0.033847   \n",
       "UNH   0.029759  0.025349  0.036059  0.028069  0.018626  0.026990  0.028359   \n",
       "\n",
       "          TMUS      TSLA       UNH  \n",
       "AAPL  0.027943  0.058912  0.029759  \n",
       "AMZN  0.031536  0.065642  0.025349  \n",
       "BAC   0.032326  0.044678  0.036059  \n",
       "GOOG  0.029488  0.053087  0.028069  \n",
       "KO    0.016952  0.017799  0.018626  \n",
       "META  0.027681  0.063921  0.026990  \n",
       "PLD   0.025362  0.033847  0.028359  \n",
       "TMUS  0.104343  0.038447  0.024417  \n",
       "TSLA  0.038447  0.318075  0.029915  \n",
       "UNH   0.024417  0.029915  0.063312  "
      ]
     },
     "execution_count": 7,
     "metadata": {},
     "output_type": "execute_result"
    }
   ],
   "source": [
    "from pypfopt import risk_models\n",
    "from pypfopt import plotting\n",
    "\n",
    "sample_cov = risk_models.sample_cov(prices, frequency=252)\n",
    "sample_cov"
   ]
  },
  {
   "cell_type": "code",
   "execution_count": 8,
   "id": "62030a8a",
   "metadata": {},
   "outputs": [
    {
     "data": {
      "image/png": "[encoded data removed]",
      "text/plain": [
       "<Figure size 432x288 with 2 Axes>"
      ]
     },
     "metadata": {
      "needs_background": "light"
     },
     "output_type": "display_data"
    }
   ],
   "source": [
    "plotting.plot_covariance(sample_cov, plot_correlation=True);"
   ]
  },
  {
   "cell_type": "code",
   "execution_count": null,
   "id": "7cf5b622",
   "metadata": {},
   "outputs": [],
   "source": []
  },
  {
   "cell_type": "markdown",
   "id": "bf00f9d7",
   "metadata": {},
   "source": [
    "the sample covariance matrix should not be the only default choice. I think a better option is Ledoit-Wolf shrinkage, which reduces the extreme values in the covariance matrix. In the image below, we can see that there are fewer bright spots outside the diagonal:"
   ]
  },
  {
   "cell_type": "code",
   "execution_count": 9,
   "id": "2df4bb98",
   "metadata": {},
   "outputs": [
    {
     "data": {
      "image/png": "[encoded data removed]",
      "text/plain": [
       "<Figure size 432x288 with 2 Axes>"
      ]
     },
     "metadata": {
      "needs_background": "light"
     },
     "output_type": "display_data"
    }
   ],
   "source": [
    "S = risk_models.CovarianceShrinkage(prices).ledoit_wolf()\n",
    "plotting.plot_covariance(S, plot_correlation=True);"
   ]
  },
  {
   "cell_type": "markdown",
   "id": "ac8663d3",
   "metadata": {},
   "source": [
    "## Return estimation\n",
    "It is often a bad idea to provide returns using a simple estimate like the mean of past returns. Unless you have a proprietary method for estimating returns, research suggests that it may be better off not providing expected returns – it can then just find the min_volatility() portfolio or use HRP.\n",
    "\n",
    "However, in this example we will use the CAPM returns, which aims to be slightly more stable than the default mean historical return. "
   ]
  },
  {
   "cell_type": "code",
   "execution_count": 10,
   "id": "640048af",
   "metadata": {},
   "outputs": [
    {
     "data": {
      "text/plain": [
       "AAPL    0.275465\n",
       "AMZN    0.298651\n",
       "BAC     0.267276\n",
       "GOOG    0.271715\n",
       "KO      0.138827\n",
       "META    0.339813\n",
       "PLD     0.214713\n",
       "TMUS    0.237975\n",
       "TSLA    0.460409\n",
       "UNH     0.209009\n",
       "Name: mkt, dtype: float64"
      ]
     },
     "execution_count": 10,
     "metadata": {},
     "output_type": "execute_result"
    }
   ],
   "source": [
    "from pypfopt import expected_returns\n",
    "\n",
    "mu = expected_returns.capm_return(prices)\n",
    "mu"
   ]
  },
  {
   "cell_type": "code",
   "execution_count": 11,
   "id": "c52b010e",
   "metadata": {},
   "outputs": [
    {
     "data": {
      "image/png": "[encoded data removed]",
      "text/plain": [
       "<Figure size 720x432 with 1 Axes>"
      ]
     },
     "metadata": {
      "needs_background": "light"
     },
     "output_type": "display_data"
    }
   ],
   "source": [
    "mu.plot.barh(figsize=(10,6));\n"
   ]
  },
  {
   "cell_type": "markdown",
   "id": "8d03d995",
   "metadata": {},
   "source": [
    "The returns of Tesla is more compared to others"
   ]
  },
  {
   "cell_type": "markdown",
   "id": "d0a628ea",
   "metadata": {},
   "source": [
    "## Long/short min variance\n",
    "In this section, we construct a long/short portfolio with the objective of minimising variance. There is a good deal of research that demonstrates that these global-minimum variance (GMV) portfolios outperform mean-variance optimized portfolios"
   ]
  },
  {
   "cell_type": "code",
   "execution_count": 12,
   "id": "17ff002b",
   "metadata": {},
   "outputs": [],
   "source": [
    "from pypfopt import EfficientFrontier"
   ]
  },
  {
   "cell_type": "code",
   "execution_count": 13,
   "id": "598b95d6",
   "metadata": {},
   "outputs": [
    {
     "data": {
      "text/plain": [
       "OrderedDict([('AAPL', 0.04534),\n",
       "             ('AMZN', 0.06349),\n",
       "             ('BAC', -0.01553),\n",
       "             ('GOOG', 0.05808),\n",
       "             ('KO', 0.58451),\n",
       "             ('META', 0.01903),\n",
       "             ('PLD', 0.04684),\n",
       "             ('TMUS', 0.07399),\n",
       "             ('TSLA', -0.00742),\n",
       "             ('UNH', 0.13167)])"
      ]
     },
     "execution_count": 13,
     "metadata": {},
     "output_type": "execute_result"
    }
   ],
   "source": [
    "S = risk_models.CovarianceShrinkage(prices).ledoit_wolf()\n",
    "\n",
    "# we don't have to provide expected returns in this case\n",
    "ef = EfficientFrontier(None, S, weight_bounds=(None, None))\n",
    "ef.min_volatility()\n",
    "weights = ef.clean_weights()\n",
    "weights"
   ]
  },
  {
   "cell_type": "code",
   "execution_count": 14,
   "id": "d5a211df",
   "metadata": {},
   "outputs": [
    {
     "data": {
      "image/png": "[encoded data removed]",
      "text/plain": [
       "<Figure size 432x288 with 1 Axes>"
      ]
     },
     "metadata": {
      "needs_background": "light"
     },
     "output_type": "display_data"
    }
   ],
   "source": [
    "pd.Series(weights).plot.barh();"
   ]
  },
  {
   "cell_type": "markdown",
   "id": "565f57a4",
   "metadata": {},
   "source": [
    "We can get a quick indication of the portfolio performance as follows. that this is an in sample estimate and may have very little resemblance to how the portfolio actually performs"
   ]
  },
  {
   "cell_type": "code",
   "execution_count": 15,
   "id": "29653b16",
   "metadata": {},
   "outputs": [
    {
     "name": "stdout",
     "output_type": "stream",
     "text": [
      "Annual volatility: 16.3%\n"
     ]
    }
   ],
   "source": [
    "ef.portfolio_performance(verbose=True);"
   ]
  },
  {
   "cell_type": "code",
   "execution_count": 16,
   "id": "1a6104a7",
   "metadata": {},
   "outputs": [
    {
     "data": {
      "text/html": [
       "<div>\n",
       "<style scoped>\n",
       "    .dataframe tbody tr th:only-of-type {\n",
       "        vertical-align: middle;\n",
       "    }\n",
       "\n",
       "    .dataframe tbody tr th {\n",
       "        vertical-align: top;\n",
       "    }\n",
       "\n",
       "    .dataframe thead th {\n",
       "        text-align: right;\n",
       "    }\n",
       "</style>\n",
       "<table border=\"1\" class=\"dataframe\">\n",
       "  <thead>\n",
       "    <tr style=\"text-align: right;\">\n",
       "      <th></th>\n",
       "      <th>AAPL</th>\n",
       "      <th>AMZN</th>\n",
       "      <th>BAC</th>\n",
       "      <th>GOOG</th>\n",
       "      <th>KO</th>\n",
       "      <th>META</th>\n",
       "      <th>PLD</th>\n",
       "      <th>TMUS</th>\n",
       "      <th>TSLA</th>\n",
       "      <th>UNH</th>\n",
       "    </tr>\n",
       "    <tr>\n",
       "      <th>Date</th>\n",
       "      <th></th>\n",
       "      <th></th>\n",
       "      <th></th>\n",
       "      <th></th>\n",
       "      <th></th>\n",
       "      <th></th>\n",
       "      <th></th>\n",
       "      <th></th>\n",
       "      <th></th>\n",
       "      <th></th>\n",
       "    </tr>\n",
       "  </thead>\n",
       "  <tbody>\n",
       "    <tr>\n",
       "      <th>2012-05-18</th>\n",
       "      <td>16.173407</td>\n",
       "      <td>10.692500</td>\n",
       "      <td>5.978322</td>\n",
       "      <td>14.953949</td>\n",
       "      <td>26.670553</td>\n",
       "      <td>38.230000</td>\n",
       "      <td>22.695282</td>\n",
       "      <td>10.588834</td>\n",
       "      <td>1.837333</td>\n",
       "      <td>45.897869</td>\n",
       "    </tr>\n",
       "    <tr>\n",
       "      <th>2012-05-21</th>\n",
       "      <td>17.115669</td>\n",
       "      <td>10.905500</td>\n",
       "      <td>5.816515</td>\n",
       "      <td>15.295419</td>\n",
       "      <td>26.836231</td>\n",
       "      <td>34.029999</td>\n",
       "      <td>23.627171</td>\n",
       "      <td>10.621976</td>\n",
       "      <td>1.918000</td>\n",
       "      <td>47.224037</td>\n",
       "    </tr>\n",
       "    <tr>\n",
       "      <th>2012-05-22</th>\n",
       "      <td>16.984245</td>\n",
       "      <td>10.766500</td>\n",
       "      <td>5.944256</td>\n",
       "      <td>14.963912</td>\n",
       "      <td>26.720978</td>\n",
       "      <td>31.000000</td>\n",
       "      <td>23.333668</td>\n",
       "      <td>10.638548</td>\n",
       "      <td>2.053333</td>\n",
       "      <td>47.368576</td>\n",
       "    </tr>\n",
       "    <tr>\n",
       "      <th>2012-05-23</th>\n",
       "      <td>17.398653</td>\n",
       "      <td>10.864000</td>\n",
       "      <td>6.106064</td>\n",
       "      <td>15.179603</td>\n",
       "      <td>26.850645</td>\n",
       "      <td>32.000000</td>\n",
       "      <td>23.451071</td>\n",
       "      <td>10.655118</td>\n",
       "      <td>2.068000</td>\n",
       "      <td>47.062523</td>\n",
       "    </tr>\n",
       "    <tr>\n",
       "      <th>2012-05-24</th>\n",
       "      <td>17.238867</td>\n",
       "      <td>10.762000</td>\n",
       "      <td>6.080515</td>\n",
       "      <td>15.035145</td>\n",
       "      <td>27.214413</td>\n",
       "      <td>33.029999</td>\n",
       "      <td>23.318991</td>\n",
       "      <td>10.671689</td>\n",
       "      <td>2.018667</td>\n",
       "      <td>47.793625</td>\n",
       "    </tr>\n",
       "    <tr>\n",
       "      <th>...</th>\n",
       "      <td>...</td>\n",
       "      <td>...</td>\n",
       "      <td>...</td>\n",
       "      <td>...</td>\n",
       "      <td>...</td>\n",
       "      <td>...</td>\n",
       "      <td>...</td>\n",
       "      <td>...</td>\n",
       "      <td>...</td>\n",
       "      <td>...</td>\n",
       "    </tr>\n",
       "    <tr>\n",
       "      <th>2022-10-24</th>\n",
       "      <td>149.449997</td>\n",
       "      <td>119.820000</td>\n",
       "      <td>35.070000</td>\n",
       "      <td>102.970001</td>\n",
       "      <td>57.570000</td>\n",
       "      <td>129.720001</td>\n",
       "      <td>103.370003</td>\n",
       "      <td>139.320007</td>\n",
       "      <td>211.250000</td>\n",
       "      <td>541.599976</td>\n",
       "    </tr>\n",
       "    <tr>\n",
       "      <th>2022-10-25</th>\n",
       "      <td>152.339996</td>\n",
       "      <td>120.599998</td>\n",
       "      <td>35.389999</td>\n",
       "      <td>104.930000</td>\n",
       "      <td>58.950001</td>\n",
       "      <td>137.509995</td>\n",
       "      <td>108.330002</td>\n",
       "      <td>140.630005</td>\n",
       "      <td>222.419998</td>\n",
       "      <td>540.219971</td>\n",
       "    </tr>\n",
       "    <tr>\n",
       "      <th>2022-10-26</th>\n",
       "      <td>149.350006</td>\n",
       "      <td>115.660004</td>\n",
       "      <td>35.700001</td>\n",
       "      <td>94.820000</td>\n",
       "      <td>59.389999</td>\n",
       "      <td>129.820007</td>\n",
       "      <td>109.870003</td>\n",
       "      <td>140.839996</td>\n",
       "      <td>224.639999</td>\n",
       "      <td>543.169983</td>\n",
       "    </tr>\n",
       "    <tr>\n",
       "      <th>2022-10-27</th>\n",
       "      <td>144.800003</td>\n",
       "      <td>110.959999</td>\n",
       "      <td>35.869999</td>\n",
       "      <td>92.599998</td>\n",
       "      <td>59.529999</td>\n",
       "      <td>97.940002</td>\n",
       "      <td>111.010002</td>\n",
       "      <td>140.630005</td>\n",
       "      <td>225.089996</td>\n",
       "      <td>541.799988</td>\n",
       "    </tr>\n",
       "    <tr>\n",
       "      <th>2022-10-28</th>\n",
       "      <td>155.740005</td>\n",
       "      <td>103.410004</td>\n",
       "      <td>36.180000</td>\n",
       "      <td>96.580002</td>\n",
       "      <td>60.759998</td>\n",
       "      <td>99.199997</td>\n",
       "      <td>112.980003</td>\n",
       "      <td>151.000000</td>\n",
       "      <td>228.520004</td>\n",
       "      <td>551.239990</td>\n",
       "    </tr>\n",
       "  </tbody>\n",
       "</table>\n",
       "<p>2630 rows × 10 columns</p>\n",
       "</div>"
      ],
      "text/plain": [
       "                  AAPL        AMZN        BAC        GOOG         KO  \\\n",
       "Date                                                                   \n",
       "2012-05-18   16.173407   10.692500   5.978322   14.953949  26.670553   \n",
       "2012-05-21   17.115669   10.905500   5.816515   15.295419  26.836231   \n",
       "2012-05-22   16.984245   10.766500   5.944256   14.963912  26.720978   \n",
       "2012-05-23   17.398653   10.864000   6.106064   15.179603  26.850645   \n",
       "2012-05-24   17.238867   10.762000   6.080515   15.035145  27.214413   \n",
       "...                ...         ...        ...         ...        ...   \n",
       "2022-10-24  149.449997  119.820000  35.070000  102.970001  57.570000   \n",
       "2022-10-25  152.339996  120.599998  35.389999  104.930000  58.950001   \n",
       "2022-10-26  149.350006  115.660004  35.700001   94.820000  59.389999   \n",
       "2022-10-27  144.800003  110.959999  35.869999   92.599998  59.529999   \n",
       "2022-10-28  155.740005  103.410004  36.180000   96.580002  60.759998   \n",
       "\n",
       "                  META         PLD        TMUS        TSLA         UNH  \n",
       "Date                                                                    \n",
       "2012-05-18   38.230000   22.695282   10.588834    1.837333   45.897869  \n",
       "2012-05-21   34.029999   23.627171   10.621976    1.918000   47.224037  \n",
       "2012-05-22   31.000000   23.333668   10.638548    2.053333   47.368576  \n",
       "2012-05-23   32.000000   23.451071   10.655118    2.068000   47.062523  \n",
       "2012-05-24   33.029999   23.318991   10.671689    2.018667   47.793625  \n",
       "...                ...         ...         ...         ...         ...  \n",
       "2022-10-24  129.720001  103.370003  139.320007  211.250000  541.599976  \n",
       "2022-10-25  137.509995  108.330002  140.630005  222.419998  540.219971  \n",
       "2022-10-26  129.820007  109.870003  140.839996  224.639999  543.169983  \n",
       "2022-10-27   97.940002  111.010002  140.630005  225.089996  541.799988  \n",
       "2022-10-28   99.199997  112.980003  151.000000  228.520004  551.239990  \n",
       "\n",
       "[2630 rows x 10 columns]"
      ]
     },
     "execution_count": 16,
     "metadata": {},
     "output_type": "execute_result"
    }
   ],
   "source": [
    "prices"
   ]
  },
  {
   "cell_type": "markdown",
   "id": "9978c73e",
   "metadata": {},
   "source": [
    "Let's say we were happy with this portfolio and wanted to actually go out and buy the shares. To do this, we would need to construct a discrete allocation (unless your broker supports fractional shares!)\n",
    "\n",
    "If we had $20,0000 to invest and would like our portfolio to be 130/30 long/short, we can construct the actual allocation as follows:"
   ]
  },
  {
   "cell_type": "code",
   "execution_count": 17,
   "id": "cb83537b",
   "metadata": {
    "scrolled": true
   },
   "outputs": [
    {
     "name": "stdout",
     "output_type": "stream",
     "text": [
      "Discrete allocation performed with $196.39 leftover\n"
     ]
    },
    {
     "name": "stderr",
     "output_type": "stream",
     "text": [
      "C:\\Users\\Rashmitha\\anaconda3\\lib\\site-packages\\cvxpy\\problems\\problem.py:1337: UserWarning: Solution may be inaccurate. Try another solver, adjusting the solver settings, or solve with verbose=True for more information.\n",
      "  warnings.warn(\n"
     ]
    },
    {
     "data": {
      "text/plain": [
       "{'AMZN': 13,\n",
       " 'GOOG': 13,\n",
       " 'KO': 190,\n",
       " 'META': 5,\n",
       " 'PLD': 9,\n",
       " 'TMUS': 10,\n",
       " 'UNH': 5,\n",
       " 'BAC': -112,\n",
       " 'TSLA': -8}"
      ]
     },
     "execution_count": 17,
     "metadata": {},
     "output_type": "execute_result"
    }
   ],
   "source": [
    "from pypfopt import DiscreteAllocation\n",
    "\n",
    "latest_prices = prices.iloc[-1]  # prices as of the day you are allocating\n",
    "da = DiscreteAllocation(weights, latest_prices, total_portfolio_value=20000, short_ratio=0.3)\n",
    "alloc, leftover = da.lp_portfolio()\n",
    "print(f\"Discrete allocation performed with ${leftover:.2f} leftover\")\n",
    "alloc"
   ]
  },
  {
   "cell_type": "markdown",
   "id": "b0e7fb8e",
   "metadata": {},
   "source": [
    "## Max Sharpe with sector constraints\n",
    "If you have your own model for returns (or have read the warnings and want to proceed anyways), you may consider maximising the Sharpe ratio. This theoretically gives the optimal portfolio in terms of risks-returns.\n",
    "\n",
    "In this section, we construct a long-only max-sharpe portfolio, but also incorporate sector constraints. Sector constraints require three things. A sector_mapper, your sector_lower bounds, and your sector_upper bounds."
   ]
  },
  {
   "cell_type": "code",
   "execution_count": 18,
   "id": "4d22d899",
   "metadata": {},
   "outputs": [],
   "source": [
    "sector_mapper = {\n",
    "    \"AAPL\": \"Information Sector\",\n",
    "    \"GOOG\": \"Information Sector\",\n",
    "    \"AMZN\": \"Information Sector\",\n",
    "    \"KO\": \"Industrial Sector\",\n",
    "    \"META\": \"Information Sector\",\n",
    "    \"TMUS\": \"Communication \",\n",
    "    \"TSLA\": \"Auto\",\n",
    "    \"UNH\": \"Health Sector\",\n",
    "    \"BAC\": \"Banking Sector\",\n",
    "    \"PLD\": \"Real Estate\"\n",
    "}\n",
    "\n",
    "sector_lower = {\n",
    "    \"Information Sector\": 0.10, # at least 10% to Information sect\n",
    "    \"Auto\": 0.1 # at least 5% to auto\n",
    "    # For all other sectors, it will be assumed there is no lower bound\n",
    "}\n",
    "\n",
    "sector_upper = {\n",
    "    \"Health Sector\": 0.3,\n",
    "    \"Industrial Sector\":0.1,\n",
    "    \"Banking Sector\": 0.1,\n",
    "    \"Real Estate\":0.1\n",
    "}"
   ]
  },
  {
   "cell_type": "markdown",
   "id": "d97aaf2c",
   "metadata": {},
   "source": [
    "We then set up the optimizer and add our constraints. We can use ef.add_objective() to add other constraints. For example, let's say that in addition to the above sector constraints, I specifically want:\n",
    "\n",
    "10% of the portfolio in AMZN\n",
    "\n",
    "Less than 5% of my portfolio in TSLA\n"
   ]
  },
  {
   "cell_type": "code",
   "execution_count": 20,
   "id": "71e6fdcc",
   "metadata": {},
   "outputs": [],
   "source": [
    "mu = expected_returns.capm_return(prices)\n",
    "S = risk_models.CovarianceShrinkage(prices).ledoit_wolf()\n",
    "\n",
    "ef = EfficientFrontier(mu, S)  # weight_bounds automatically set to (0, 1)\n",
    "ef.add_sector_constraints(sector_mapper, sector_lower, sector_upper)\n",
    "\n",
    "amzn_index = ef.tickers.index(\"AAPL\")\n",
    "ef.add_constraint(lambda w: w[amzn_index] == 0.10)\n",
    "\n",
    "tsla_index = ef.tickers.index(\"TSLA\")\n",
    "ef.add_constraint(lambda w: w[tsla_index] <= 0.10)\n",
    "\n",
    "ef.add_constraint(lambda w: w[9] >= 0.05)\n",
    "\n",
    "ef.max_sharpe()\n",
    "weights = ef.clean_weights()"
   ]
  },
  {
   "cell_type": "code",
   "execution_count": 21,
   "id": "4f48fe27",
   "metadata": {},
   "outputs": [
    {
     "data": {
      "text/plain": [
       "OrderedDict([('AAPL', 0.1),\n",
       "             ('AMZN', 0.10037),\n",
       "             ('BAC', 0.1),\n",
       "             ('GOOG', 0.10047),\n",
       "             ('KO', 0.09837),\n",
       "             ('META', 0.10043),\n",
       "             ('PLD', 0.1),\n",
       "             ('TMUS', 0.10023),\n",
       "             ('TSLA', 0.1),\n",
       "             ('UNH', 0.10013)])"
      ]
     },
     "execution_count": 21,
     "metadata": {},
     "output_type": "execute_result"
    }
   ],
   "source": [
    "weights\n"
   ]
  },
  {
   "cell_type": "code",
   "execution_count": 22,
   "id": "9b401f6d",
   "metadata": {},
   "outputs": [
    {
     "data": {
      "image/png": "[encoded data removed]",
      "text/plain": [
       "<Figure size 720x720 with 1 Axes>"
      ]
     },
     "metadata": {},
     "output_type": "display_data"
    }
   ],
   "source": [
    "pd.Series(weights).plot.pie(figsize=(10,10));"
   ]
  },
  {
   "cell_type": "markdown",
   "id": "3e03faca",
   "metadata": {},
   "source": [
    "We can immediately see that our explicit constraints were satisfied, and can check all the sector constraints as follows:"
   ]
  },
  {
   "cell_type": "code",
   "execution_count": 23,
   "id": "0b646d62",
   "metadata": {},
   "outputs": [
    {
     "name": "stdout",
     "output_type": "stream",
     "text": [
      "Information Sector: 0.401\n",
      "Real Estate: 0.100\n",
      "Industrial Sector: 0.098\n",
      "Banking Sector: 0.100\n",
      "Auto: 0.100\n",
      "Communication : 0.100\n",
      "Health Sector: 0.100\n"
     ]
    }
   ],
   "source": [
    "for sector in set(sector_mapper.values()):\n",
    "    total_weight = 0\n",
    "    for t,w in weights.items():\n",
    "        if sector_mapper[t] == sector:\n",
    "            total_weight += w\n",
    "    print(f\"{sector}: {total_weight:.3f}\")"
   ]
  },
  {
   "cell_type": "markdown",
   "id": "d4713513",
   "metadata": {},
   "source": [
    "## Maximise return for a given risk, with L2 regularisation\n",
    "Let's imagine that we've put a lot of thought into our risk tolerance, and have decided that we can't accept anything more than 20% volatility. We can use PyPortfolioOpt to construct a portfolio that maximises return for a given risk (with the same caveats about expected returns)."
   ]
  },
  {
   "cell_type": "code",
   "execution_count": 30,
   "id": "b6bbb837",
   "metadata": {},
   "outputs": [
    {
     "data": {
      "text/plain": [
       "OrderedDict([('AAPL', 0.09496),\n",
       "             ('AMZN', 0.0902),\n",
       "             ('BAC', 0.09163),\n",
       "             ('GOOG', 0.10375),\n",
       "             ('KO', 0.1),\n",
       "             ('META', 0.08511),\n",
       "             ('PLD', 0.1),\n",
       "             ('TMUS', 0.10535),\n",
       "             ('TSLA', 0.1),\n",
       "             ('UNH', 0.129)])"
      ]
     },
     "execution_count": 30,
     "metadata": {},
     "output_type": "execute_result"
    }
   ],
   "source": [
    "ef = EfficientFrontier(mu, S)\n",
    "ef.add_sector_constraints(sector_mapper, sector_lower, sector_upper)\n",
    "ef.efficient_risk(target_volatility=0.20)\n",
    "weights = ef.clean_weights()\n",
    "weights"
   ]
  },
  {
   "cell_type": "code",
   "execution_count": 31,
   "id": "c37a4ce0",
   "metadata": {},
   "outputs": [
    {
     "name": "stdout",
     "output_type": "stream",
     "text": [
      "0/10 tickers have zero weight\n"
     ]
    }
   ],
   "source": [
    "num_small = len([k for k in weights if weights[k] <= 1e-4])\n",
    "print(f\"{num_small}/{len(ef.tickers)} tickers have zero weight\")"
   ]
  },
  {
   "cell_type": "code",
   "execution_count": 32,
   "id": "3613294f",
   "metadata": {},
   "outputs": [
    {
     "name": "stdout",
     "output_type": "stream",
     "text": [
      "Expected annual return: 26.8%\n",
      "Annual volatility: 20.0%\n",
      "Sharpe Ratio: 1.24\n"
     ]
    }
   ],
   "source": [
    "ef.portfolio_performance(verbose=True);"
   ]
  },
  {
   "cell_type": "markdown",
   "id": "82e60e67",
   "metadata": {},
   "source": [
    "While this portfolio seems like it meets our objectives, we might not to be worried by the fact that a lot of the tickers have not been assigned zero weight. In effect, the optimizer is \"goodfitting\" to the data which have provided  But you are much more likely to get better results by enforcing some level of diversification. One way of doing this is to use L2 regularisation – essentially, adding a penalty on the number of near-zero weights."
   ]
  },
  {
   "cell_type": "code",
   "execution_count": 33,
   "id": "a29f3247",
   "metadata": {},
   "outputs": [
    {
     "data": {
      "text/plain": [
       "OrderedDict([('AAPL', 0.09647),\n",
       "             ('AMZN', 0.09059),\n",
       "             ('BAC', 0.09455),\n",
       "             ('GOOG', 0.10222),\n",
       "             ('KO', 0.1),\n",
       "             ('META', 0.08314),\n",
       "             ('PLD', 0.1),\n",
       "             ('TMUS', 0.10685),\n",
       "             ('TSLA', 0.1),\n",
       "             ('UNH', 0.1262)])"
      ]
     },
     "execution_count": 33,
     "metadata": {},
     "output_type": "execute_result"
    }
   ],
   "source": [
    "from pypfopt import objective_functions\n",
    "\n",
    "# You must always create a new efficient frontier object\n",
    "ef = EfficientFrontier(mu, S)\n",
    "ef.add_sector_constraints(sector_mapper, sector_lower, sector_upper)\n",
    "ef.add_objective(objective_functions.L2_reg, gamma=0.1)  # gamme is the tuning parameter\n",
    "ef.efficient_risk(0.20)\n",
    "weights = ef.clean_weights()\n",
    "weights"
   ]
  },
  {
   "cell_type": "code",
   "execution_count": 34,
   "id": "8d24bf1b",
   "metadata": {},
   "outputs": [
    {
     "data": {
      "image/png": "[encoded data removed]",
      "text/plain": [
       "<Figure size 720x720 with 1 Axes>"
      ]
     },
     "metadata": {},
     "output_type": "display_data"
    }
   ],
   "source": [
    "pd.Series(weights).plot.pie(figsize=(10, 10));"
   ]
  },
  {
   "cell_type": "code",
   "execution_count": 35,
   "id": "e10ca2c3",
   "metadata": {},
   "outputs": [
    {
     "name": "stdout",
     "output_type": "stream",
     "text": [
      "Expected annual return: 26.8%\n",
      "Annual volatility: 20.0%\n",
      "Sharpe Ratio: 1.24\n"
     ]
    }
   ],
   "source": [
    "ef.portfolio_performance(verbose=True);"
   ]
  },
  {
   "cell_type": "markdown",
   "id": "0f4a7c78",
   "metadata": {},
   "source": [
    "The resulting portfolio still has a volatility of less than our 20% limit. It's in-sample Sharpe ratio has been same and return also same. so the L2 regularization also got same result"
   ]
  },
  {
   "cell_type": "markdown",
   "id": "2a39a906",
   "metadata": {},
   "source": [
    " ## Minimise risk for a given return, market-neutral\n",
    "We may instead be in the situation where we have a certain required rate of return (maybe we are a pension fund that needs 7% return a year), but would like to minimise risk. Additionally, suppose we would like our portfolio to be market neutral, in the sense that it is equally exposed to the long and short sides."
   ]
  },
  {
   "cell_type": "code",
   "execution_count": 36,
   "id": "f620f6b9",
   "metadata": {},
   "outputs": [
    {
     "data": {
      "text/plain": [
       "OrderedDict([('AAPL', 0.00685),\n",
       "             ('AMZN', 0.03107),\n",
       "             ('BAC', 0.00236),\n",
       "             ('GOOG', 0.00247),\n",
       "             ('KO', -0.15043),\n",
       "             ('META', 0.07653),\n",
       "             ('PLD', -0.05908),\n",
       "             ('TMUS', -0.0318),\n",
       "             ('TSLA', 0.18758),\n",
       "             ('UNH', -0.06555)])"
      ]
     },
     "execution_count": 36,
     "metadata": {},
     "output_type": "execute_result"
    }
   ],
   "source": [
    "# Must have no weight bounds to allow shorts\n",
    "ef = EfficientFrontier(mu, S, weight_bounds=(None, None))\n",
    "ef.add_objective(objective_functions.L2_reg)\n",
    "ef.efficient_return(target_return=0.07, market_neutral=True)\n",
    "weights = ef.clean_weights()\n",
    "weights"
   ]
  },
  {
   "cell_type": "code",
   "execution_count": 37,
   "id": "c22a3872",
   "metadata": {},
   "outputs": [
    {
     "name": "stdout",
     "output_type": "stream",
     "text": [
      "Expected annual return: 7.0%\n",
      "Annual volatility: 11.6%\n",
      "Sharpe Ratio: 0.43\n"
     ]
    }
   ],
   "source": [
    "ef.portfolio_performance(verbose=True);"
   ]
  },
  {
   "cell_type": "code",
   "execution_count": 38,
   "id": "eac4cff3",
   "metadata": {},
   "outputs": [
    {
     "data": {
      "image/png": "[encoded data removed]",
      "text/plain": [
       "<Figure size 720x432 with 1 Axes>"
      ]
     },
     "metadata": {
      "needs_background": "light"
     },
     "output_type": "display_data"
    }
   ],
   "source": [
    "pd.Series(weights).plot.barh(figsize=(10,6));"
   ]
  },
  {
   "cell_type": "code",
   "execution_count": 39,
   "id": "e9762297",
   "metadata": {},
   "outputs": [
    {
     "name": "stdout",
     "output_type": "stream",
     "text": [
      "Net weight: 0.00\n"
     ]
    }
   ],
   "source": [
    "print(f\"Net weight: {sum(weights.values()):.2f}\")"
   ]
  },
  {
   "cell_type": "markdown",
   "id": "4353552b",
   "metadata": {},
   "source": [
    "## Efficient semi-variance optimization\n",
    "In this example, we will minimise the portfolio semivariance (i.e downside volatility) subject to a return constraint (target 20%).\n",
    "\n",
    "There are actually two ways of doing this in PyPortfolioOpt. The first is the \"intuitive\" way. We compute a semicovariance matrix, and pass this into EfficientFrontier (just like we would do for the exponential cov matrix or the Ledoit-Wolf shrunk matrix)."
   ]
  },
  {
   "cell_type": "code",
   "execution_count": 40,
   "id": "4f807a76",
   "metadata": {},
   "outputs": [
    {
     "data": {
      "image/png": "[encoded data removed]",
      "text/plain": [
       "<Figure size 432x288 with 2 Axes>"
      ]
     },
     "metadata": {
      "needs_background": "light"
     },
     "output_type": "display_data"
    }
   ],
   "source": [
    "semicov = risk_models.semicovariance(prices, benchmark=0)\n",
    "plotting.plot_covariance(semicov);"
   ]
  },
  {
   "cell_type": "code",
   "execution_count": 41,
   "id": "480fa683",
   "metadata": {},
   "outputs": [
    {
     "data": {
      "text/plain": [
       "OrderedDict([('AAPL', 0.04895),\n",
       "             ('AMZN', 0.05357),\n",
       "             ('BAC', 0.0),\n",
       "             ('GOOG', 0.17979),\n",
       "             ('KO', 0.43975),\n",
       "             ('META', 0.0),\n",
       "             ('PLD', 0.06601),\n",
       "             ('TMUS', 0.07417),\n",
       "             ('TSLA', 0.0),\n",
       "             ('UNH', 0.13776)])"
      ]
     },
     "execution_count": 41,
     "metadata": {},
     "output_type": "execute_result"
    }
   ],
   "source": [
    "ef = EfficientFrontier(mu, semicov)\n",
    "ef.efficient_return(0.2)\n",
    "weights = ef.clean_weights()\n",
    "weights\n"
   ]
  },
  {
   "cell_type": "code",
   "execution_count": 42,
   "id": "3fdc173a",
   "metadata": {},
   "outputs": [
    {
     "name": "stdout",
     "output_type": "stream",
     "text": [
      "Expected annual return: 20.0%\n",
      "Annual volatility: 12.7%\n",
      "Sharpe Ratio: 1.41\n"
     ]
    }
   ],
   "source": [
    "ef.portfolio_performance(verbose=True);"
   ]
  },
  {
   "cell_type": "markdown",
   "id": "043fd13d",
   "metadata": {},
   "source": [
    "However, this solution is not truly optimal in mean-semivariance space. To do the optimization properly, we must use the EfficientSemivariance class. This requires us to first compute the returns and drop NaNs."
   ]
  },
  {
   "cell_type": "code",
   "execution_count": 43,
   "id": "93744ba2",
   "metadata": {},
   "outputs": [],
   "source": [
    "returns = expected_returns.returns_from_prices(prices)\n",
    "returns = returns.dropna()"
   ]
  },
  {
   "cell_type": "code",
   "execution_count": 44,
   "id": "3c4df4ee",
   "metadata": {},
   "outputs": [
    {
     "name": "stdout",
     "output_type": "stream",
     "text": [
      "Expected annual return: 20.0%\n",
      "Annual semi-deviation: 11.6%\n",
      "Sortino Ratio: 1.55\n"
     ]
    }
   ],
   "source": [
    "from pypfopt import EfficientSemivariance\n",
    "\n",
    "es = EfficientSemivariance(mu, returns)\n",
    "es.efficient_return(0.2)\n",
    "es.portfolio_performance(verbose=True);"
   ]
  },
  {
   "cell_type": "markdown",
   "id": "6f3668f5",
   "metadata": {},
   "source": [
    "To compare this with the heuristic solution, I will use a quick hack: replacing the es.weights with es.weights and running es.portfolio_performance again. Please don't be encouraged to do this in real life!"
   ]
  },
  {
   "cell_type": "code",
   "execution_count": 45,
   "id": "575dee17",
   "metadata": {},
   "outputs": [
    {
     "name": "stdout",
     "output_type": "stream",
     "text": [
      "Expected annual return: 20.0%\n",
      "Annual semi-deviation: 11.6%\n",
      "Sortino Ratio: 1.55\n"
     ]
    }
   ],
   "source": [
    "es.weights = ef.weights\n",
    "es.portfolio_performance(verbose=True);"
   ]
  },
  {
   "cell_type": "markdown",
   "id": "f8a88b33",
   "metadata": {},
   "source": [
    "We see that the heuristic method has a significantly lower Sortino ratio, and much higher semivariance."
   ]
  },
  {
   "cell_type": "markdown",
   "id": "d9452170",
   "metadata": {},
   "source": [
    " ## Efficient CVaR optimization\n",
    "In this example, we will find the portfolio that maximises return subject to a CVaR constraint.\n",
    "\n",
    "Before doing this, let's first compute the 95%-CVaR for the max-sharpe portfolio."
   ]
  },
  {
   "cell_type": "code",
   "execution_count": 46,
   "id": "0aa4907b",
   "metadata": {},
   "outputs": [
    {
     "data": {
      "text/html": [
       "<div>\n",
       "<style scoped>\n",
       "    .dataframe tbody tr th:only-of-type {\n",
       "        vertical-align: middle;\n",
       "    }\n",
       "\n",
       "    .dataframe tbody tr th {\n",
       "        vertical-align: top;\n",
       "    }\n",
       "\n",
       "    .dataframe thead th {\n",
       "        text-align: right;\n",
       "    }\n",
       "</style>\n",
       "<table border=\"1\" class=\"dataframe\">\n",
       "  <thead>\n",
       "    <tr style=\"text-align: right;\">\n",
       "      <th></th>\n",
       "      <th>AAPL</th>\n",
       "      <th>AMZN</th>\n",
       "      <th>BAC</th>\n",
       "      <th>GOOG</th>\n",
       "      <th>KO</th>\n",
       "      <th>META</th>\n",
       "      <th>PLD</th>\n",
       "      <th>TMUS</th>\n",
       "      <th>TSLA</th>\n",
       "      <th>UNH</th>\n",
       "    </tr>\n",
       "    <tr>\n",
       "      <th>Date</th>\n",
       "      <th></th>\n",
       "      <th></th>\n",
       "      <th></th>\n",
       "      <th></th>\n",
       "      <th></th>\n",
       "      <th></th>\n",
       "      <th></th>\n",
       "      <th></th>\n",
       "      <th></th>\n",
       "      <th></th>\n",
       "    </tr>\n",
       "  </thead>\n",
       "  <tbody>\n",
       "    <tr>\n",
       "      <th>2012-05-21</th>\n",
       "      <td>0.058260</td>\n",
       "      <td>0.019921</td>\n",
       "      <td>-0.027066</td>\n",
       "      <td>0.022835</td>\n",
       "      <td>0.006212</td>\n",
       "      <td>-0.109861</td>\n",
       "      <td>0.041061</td>\n",
       "      <td>0.003130</td>\n",
       "      <td>0.043904</td>\n",
       "      <td>0.028894</td>\n",
       "    </tr>\n",
       "    <tr>\n",
       "      <th>2012-05-22</th>\n",
       "      <td>-0.007679</td>\n",
       "      <td>-0.012746</td>\n",
       "      <td>0.021962</td>\n",
       "      <td>-0.021674</td>\n",
       "      <td>-0.004295</td>\n",
       "      <td>-0.089039</td>\n",
       "      <td>-0.012422</td>\n",
       "      <td>0.001560</td>\n",
       "      <td>0.070559</td>\n",
       "      <td>0.003061</td>\n",
       "    </tr>\n",
       "    <tr>\n",
       "      <th>2012-05-23</th>\n",
       "      <td>0.024400</td>\n",
       "      <td>0.009056</td>\n",
       "      <td>0.027221</td>\n",
       "      <td>0.014414</td>\n",
       "      <td>0.004853</td>\n",
       "      <td>0.032258</td>\n",
       "      <td>0.005031</td>\n",
       "      <td>0.001558</td>\n",
       "      <td>0.007143</td>\n",
       "      <td>-0.006461</td>\n",
       "    </tr>\n",
       "    <tr>\n",
       "      <th>2012-05-24</th>\n",
       "      <td>-0.009184</td>\n",
       "      <td>-0.009389</td>\n",
       "      <td>-0.004184</td>\n",
       "      <td>-0.009517</td>\n",
       "      <td>0.013548</td>\n",
       "      <td>0.032187</td>\n",
       "      <td>-0.005632</td>\n",
       "      <td>0.001555</td>\n",
       "      <td>-0.023855</td>\n",
       "      <td>0.015535</td>\n",
       "    </tr>\n",
       "    <tr>\n",
       "      <th>2012-05-25</th>\n",
       "      <td>-0.005360</td>\n",
       "      <td>-0.010918</td>\n",
       "      <td>0.001401</td>\n",
       "      <td>-0.020094</td>\n",
       "      <td>-0.004367</td>\n",
       "      <td>-0.033909</td>\n",
       "      <td>-0.008811</td>\n",
       "      <td>0.012422</td>\n",
       "      <td>-0.015522</td>\n",
       "      <td>-0.001779</td>\n",
       "    </tr>\n",
       "  </tbody>\n",
       "</table>\n",
       "</div>"
      ],
      "text/plain": [
       "                AAPL      AMZN       BAC      GOOG        KO      META  \\\n",
       "Date                                                                     \n",
       "2012-05-21  0.058260  0.019921 -0.027066  0.022835  0.006212 -0.109861   \n",
       "2012-05-22 -0.007679 -0.012746  0.021962 -0.021674 -0.004295 -0.089039   \n",
       "2012-05-23  0.024400  0.009056  0.027221  0.014414  0.004853  0.032258   \n",
       "2012-05-24 -0.009184 -0.009389 -0.004184 -0.009517  0.013548  0.032187   \n",
       "2012-05-25 -0.005360 -0.010918  0.001401 -0.020094 -0.004367 -0.033909   \n",
       "\n",
       "                 PLD      TMUS      TSLA       UNH  \n",
       "Date                                                \n",
       "2012-05-21  0.041061  0.003130  0.043904  0.028894  \n",
       "2012-05-22 -0.012422  0.001560  0.070559  0.003061  \n",
       "2012-05-23  0.005031  0.001558  0.007143 -0.006461  \n",
       "2012-05-24 -0.005632  0.001555 -0.023855  0.015535  \n",
       "2012-05-25 -0.008811  0.012422 -0.015522 -0.001779  "
      ]
     },
     "execution_count": 46,
     "metadata": {},
     "output_type": "execute_result"
    }
   ],
   "source": [
    "returns = expected_returns.returns_from_prices(prices).dropna()\n",
    "returns.head()\n"
   ]
  },
  {
   "cell_type": "code",
   "execution_count": 47,
   "id": "dded47f2",
   "metadata": {},
   "outputs": [
    {
     "name": "stdout",
     "output_type": "stream",
     "text": [
      "Expected annual return: 27.2%\n",
      "Annual volatility: 20.3%\n",
      "Sharpe Ratio: 1.24\n"
     ]
    }
   ],
   "source": [
    "ef = EfficientFrontier(mu, S)\n",
    "ef.max_sharpe()\n",
    "weight_arr = ef.weights\n",
    "ef.portfolio_performance(verbose=True);"
   ]
  },
  {
   "cell_type": "code",
   "execution_count": 48,
   "id": "5f0e424e",
   "metadata": {},
   "outputs": [
    {
     "data": {
      "image/png": "[encoded data removed]",
      "text/plain": [
       "<Figure size 432x288 with 1 Axes>"
      ]
     },
     "metadata": {
      "needs_background": "light"
     },
     "output_type": "display_data"
    }
   ],
   "source": [
    "portfolio_rets = (returns * weight_arr).sum(axis=1)\n",
    "portfolio_rets.hist(bins=50);"
   ]
  },
  {
   "cell_type": "code",
   "execution_count": 49,
   "id": "ea1ede03",
   "metadata": {},
   "outputs": [
    {
     "name": "stdout",
     "output_type": "stream",
     "text": [
      "VaR: -1.94%\n",
      "CVaR: -3.06%\n"
     ]
    }
   ],
   "source": [
    "var = portfolio_rets.quantile(0.05)\n",
    "cvar = portfolio_rets[portfolio_rets <= var].mean()\n",
    "print(\"VaR: {:.2f}%\".format(100*var))\n",
    "print(\"CVaR: {:.2f}%\".format(100*cvar))"
   ]
  },
  {
   "cell_type": "markdown",
   "id": "7cdbcc69",
   "metadata": {},
   "source": [
    "This value of the CVaR means that our average loss on the worst 5% of days will be -3.03%. Let's say that this were beyond our comfort zone (for a $100,000 portfolio, this would mean losing $3030 in a day).\n",
    "\n",
    "Let's firstly construct the portfolio with the minimum CVaR:"
   ]
  },
  {
   "cell_type": "code",
   "execution_count": 50,
   "id": "df9104d7",
   "metadata": {},
   "outputs": [
    {
     "name": "stdout",
     "output_type": "stream",
     "text": [
      "Expected annual return: 18.1%\n",
      "Conditional Value at Risk: 2.39%\n"
     ]
    }
   ],
   "source": [
    "from pypfopt import EfficientCVaR\n",
    "\n",
    "ec = EfficientCVaR(mu, returns)\n",
    "ec.min_cvar()\n",
    "ec.portfolio_performance(verbose=True);\n"
   ]
  },
  {
   "cell_type": "markdown",
   "id": "3ad81dcb",
   "metadata": {},
   "source": [
    "We have significantly reduced the CVaR, but at the cost of a large reduction in returns. We can use efficient_risk to maximise the return for a target risk. Let's say that a 2.5% CVaR is acceptable."
   ]
  },
  {
   "cell_type": "code",
   "execution_count": 51,
   "id": "e43d3999",
   "metadata": {},
   "outputs": [
    {
     "name": "stdout",
     "output_type": "stream",
     "text": [
      "Expected annual return: 21.6%\n",
      "Conditional Value at Risk: 2.50%\n"
     ]
    }
   ],
   "source": [
    "from pypfopt import EfficientCVaR\n",
    "\n",
    "ec = EfficientCVaR(mu, returns)\n",
    "ec.efficient_risk(target_cvar=0.025)\n",
    "ec.portfolio_performance(verbose=True);"
   ]
  },
  {
   "cell_type": "markdown",
   "id": "9c485683",
   "metadata": {},
   "source": [
    "We now have  returns of (27.2% vs 21.6%), but with a lower tail risk (2.50% CVaR vs 3.06%)."
   ]
  },
  {
   "cell_type": "markdown",
   "id": "a11951fd",
   "metadata": {},
   "source": [
    "# Plotting - Unconstrained "
   ]
  },
  {
   "cell_type": "markdown",
   "id": "a0f0833a",
   "metadata": {},
   "source": [
    "To plot the unconstrained efficient frontier, it is easiest to use the critical line algorithm.\n",
    "\n"
   ]
  },
  {
   "cell_type": "code",
   "execution_count": 52,
   "id": "fc3d8c00",
   "metadata": {},
   "outputs": [
    {
     "name": "stdout",
     "output_type": "stream",
     "text": [
      "Expected annual return: 26.2%\n",
      "Annual volatility: 19.5%\n",
      "Sharpe Ratio: 1.24\n"
     ]
    }
   ],
   "source": [
    "from pypfopt import CLA, plotting\n",
    "\n",
    "cla = CLA(mu, S)\n",
    "cla.max_sharpe()\n",
    "cla.portfolio_performance(verbose=True);"
   ]
  },
  {
   "cell_type": "code",
   "execution_count": 53,
   "id": "a08f2e1d",
   "metadata": {},
   "outputs": [
    {
     "data": {
      "image/png": "[encoded data removed]",
      "text/plain": [
       "<Figure size 432x288 with 1 Axes>"
      ]
     },
     "metadata": {
      "needs_background": "light"
     },
     "output_type": "display_data"
    }
   ],
   "source": [
    "ax = plotting.plot_efficient_frontier(cla, showfig=False)"
   ]
  },
  {
   "cell_type": "markdown",
   "id": "a75f0e3d",
   "metadata": {},
   "source": [
    "# Plotting - Constrained\n",
    "In this example, we will plot the efficient frontier corresponding to portfolios with a constraint on exposure to AAPL, AMZN, and TSLA (e.g maybe we want to avoid big tech) "
   ]
  },
  {
   "cell_type": "code",
   "execution_count": 54,
   "id": "44e52157",
   "metadata": {},
   "outputs": [],
   "source": [
    "import cvxpy as cp\n",
    "\n",
    "mu = expected_returns.capm_return(prices)\n",
    "S = risk_models.CovarianceShrinkage(prices).ledoit_wolf()\n",
    "\n",
    "ef = EfficientFrontier(mu, S,)\n",
    "big_tech_indices = [t in {\"AAPL\", \"AMZN\", \"TSLA\"} for t in tickers]\n",
    "ef.add_constraint(lambda w: cp.sum(w[big_tech_indices]) <= 0.3)"
   ]
  },
  {
   "cell_type": "markdown",
   "id": "b28e243e",
   "metadata": {},
   "source": [
    " before we call any optimization function, we should pass this to the plotting module"
   ]
  },
  {
   "cell_type": "code",
   "execution_count": 55,
   "id": "f9373751",
   "metadata": {},
   "outputs": [
    {
     "data": {
      "image/png": "[encoded data removed]",
      "text/plain": [
       "<Figure size 432x288 with 1 Axes>"
      ]
     },
     "metadata": {
      "needs_background": "light"
     },
     "output_type": "display_data"
    }
   ],
   "source": [
    "ax = plotting.plot_efficient_frontier(ef, ef_param=\"risk\", \n",
    "                                      ef_param_range=np.linspace(0.2, 0.8, 50), \n",
    "                                      showfig=False);"
   ]
  },
  {
   "cell_type": "markdown",
   "id": "e812eaa2",
   "metadata": {},
   "source": [
    "# Complex plots\n",
    "The plotting module allows you to pass in an ax, on top of which the plots are added. This allows you to build complex plots.\n",
    "\n",
    "In this example, we will plot the efficient frontier as well as 10,000 simulated portfolios.\n",
    "\n",
    "To generate the simulated portfolios, we will sample random weights from the Dirichlet distribution (these are already normalised):"
   ]
  },
  {
   "cell_type": "code",
   "execution_count": 56,
   "id": "25d5f195",
   "metadata": {},
   "outputs": [
    {
     "name": "stdout",
     "output_type": "stream",
     "text": [
      "Sample portfolio returns: [0.24573717 0.24238275 0.28247984 ... 0.30528516 0.26614908 0.29047336]\n",
      "Sample portfolio volatilities: 0       0.190693\n",
      "1       0.188765\n",
      "2       0.215284\n",
      "3       0.193161\n",
      "4       0.284861\n",
      "          ...   \n",
      "9995    0.233339\n",
      "9996    0.207630\n",
      "9997    0.280419\n",
      "9998    0.213428\n",
      "9999    0.234357\n",
      "Length: 10000, dtype: float64\n"
     ]
    }
   ],
   "source": [
    "n_samples = 10000\n",
    "w = np.random.dirichlet(np.ones(len(mu)), n_samples)\n",
    "rets = w.dot(mu)\n",
    "stds = np.sqrt((w.T * (S @ w.T)).sum(axis=0))\n",
    "sharpes = rets / stds\n",
    "\n",
    "print(\"Sample portfolio returns:\", rets)\n",
    "print(\"Sample portfolio volatilities:\", stds)"
   ]
  },
  {
   "cell_type": "code",
   "execution_count": 57,
   "id": "6156453a",
   "metadata": {},
   "outputs": [
    {
     "data": {
      "image/png": "[encoded data removed]",
      "text/plain": [
       "<Figure size 432x288 with 1 Axes>"
      ]
     },
     "metadata": {
      "needs_background": "light"
     },
     "output_type": "display_data"
    }
   ],
   "source": [
    "# Plot efficient frontier with Monte Carlo sim\n",
    "ef = EfficientFrontier(mu, S)\n",
    "\n",
    "fig, ax = plt.subplots()\n",
    "plotting.plot_efficient_frontier(ef, ax=ax, show_assets=False)\n",
    "\n",
    "# Find and plot the tangency portfolio\n",
    "ef2 = EfficientFrontier(mu, S)\n",
    "ef2.max_sharpe()\n",
    "ret_tangent, std_tangent, _ = ef2.portfolio_performance()\n",
    "\n",
    "# Plot random portfolios\n",
    "ax.scatter(stds, rets, marker=\".\", c=sharpes, cmap=\"viridis_r\")\n",
    "\n",
    "# Format\n",
    "ax.set_title(\"Efficient Frontier with random portfolios\")\n",
    "ax.legend()\n",
    "plt.tight_layout()\n",
    "plt.show()"
   ]
  },
  {
   "cell_type": "markdown",
   "id": "c1dd47af",
   "metadata": {},
   "source": [
    "the graph gives a better idea of what the efficient frontier is. In the graph above, we see that the efficient frontier is like a boundary. i.e. It is not possible for portfolios to lie above the frontier (else we would have portfolios with the same volatility as those on the frontier but with higher expected returns). It is also not possible for portfolios to lie at the left of the frontier (else we would have portfolios with the same expected returns as those on the frontier but with lower volatility).\n",
    "\n"
   ]
  },
  {
   "cell_type": "code",
   "execution_count": null,
   "id": "5b68b4d5",
   "metadata": {},
   "outputs": [],
   "source": []
  }
 ],
 "metadata": {
  "kernelspec": {
   "display_name": "Python 3.7.9 64-bit (microsoft store)",
   "language": "python",
   "name": "python3"
  },
  "language_info": {
   "codemirror_mode": {
    "name": "ipython",
    "version": 3
   },
   "file_extension": ".py",
   "mimetype": "text/x-python",
   "name": "python",
   "nbconvert_exporter": "python",
   "pygments_lexer": "ipython3",
   "version": "3.7.9"
  },
  "vscode": {
   "interpreter": {
    "hash": "9d1bc56c7ea267e7c964c351dbeed3e33981eb41fa0b2f1afc5ff95ef131f0df"
   }
  }
 },
 "nbformat": 4,
 "nbformat_minor": 5
}
