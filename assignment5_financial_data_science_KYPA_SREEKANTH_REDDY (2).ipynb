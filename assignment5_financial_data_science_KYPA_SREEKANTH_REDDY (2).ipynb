{
  "cells": [
    {
      "cell_type": "markdown",
      "source": [
        "## Due Data: Dec. 1st"
      ],
      "metadata": {
        "id": "gBSzim-KoLDB"
      },
      "id": "gBSzim-KoLDB"
    },
    {
      "cell_type": "markdown",
      "source": [
        "# Assignment 5"
      ],
      "metadata": {
        "id": "kMBKGRAJoLLV"
      },
      "id": "kMBKGRAJoLLV"
    },
    {
      "cell_type": "markdown",
      "source": [
        "In this assignment, you are required to pick 2 machine learning models of your choice and then apply it to model the credit risk using `German Credit Risk`data. Do not forget to explain/interpret the steps you follow."
      ],
      "metadata": {
        "id": "UYOMa2X8oLRJ"
      },
      "id": "UYOMa2X8oLRJ"
    },
    {
      "cell_type": "code",
      "execution_count": 425,
      "id": "502a7845",
      "metadata": {
        "colab": {
          "base_uri": "https://localhost:8080/",
          "height": 206
        },
        "id": "502a7845",
        "outputId": "cc17c4ad-4316-4bd1-ea1c-724084e123c9"
      },
      "outputs": [
        {
          "output_type": "execute_result",
          "data": {
            "text/plain": [
              "   Unnamed: 0  Age     Sex  Job Housing Saving accounts Checking account  \\\n",
              "0           0   67    male    2     own             NaN           little   \n",
              "1           1   22  female    2     own          little         moderate   \n",
              "2           2   49    male    1     own          little              NaN   \n",
              "3           3   45    male    2    free          little           little   \n",
              "4           4   53    male    2    free          little           little   \n",
              "\n",
              "   Credit amount  Duration              Purpose  Risk  \n",
              "0           1169         6             radio/TV  good  \n",
              "1           5951        48             radio/TV   bad  \n",
              "2           2096        12            education  good  \n",
              "3           7882        42  furniture/equipment  good  \n",
              "4           4870        24                  car   bad  "
            ],
            "text/html": [
              "\n",
              "  <div id=\"df-7a286e4c-22cf-4fac-93dd-4a619f6246ce\">\n",
              "    <div class=\"colab-df-container\">\n",
              "      <div>\n",
              "<style scoped>\n",
              "    .dataframe tbody tr th:only-of-type {\n",
              "        vertical-align: middle;\n",
              "    }\n",
              "\n",
              "    .dataframe tbody tr th {\n",
              "        vertical-align: top;\n",
              "    }\n",
              "\n",
              "    .dataframe thead th {\n",
              "        text-align: right;\n",
              "    }\n",
              "</style>\n",
              "<table border=\"1\" class=\"dataframe\">\n",
              "  <thead>\n",
              "    <tr style=\"text-align: right;\">\n",
              "      <th></th>\n",
              "      <th>Unnamed: 0</th>\n",
              "      <th>Age</th>\n",
              "      <th>Sex</th>\n",
              "      <th>Job</th>\n",
              "      <th>Housing</th>\n",
              "      <th>Saving accounts</th>\n",
              "      <th>Checking account</th>\n",
              "      <th>Credit amount</th>\n",
              "      <th>Duration</th>\n",
              "      <th>Purpose</th>\n",
              "      <th>Risk</th>\n",
              "    </tr>\n",
              "  </thead>\n",
              "  <tbody>\n",
              "    <tr>\n",
              "      <th>0</th>\n",
              "      <td>0</td>\n",
              "      <td>67</td>\n",
              "      <td>male</td>\n",
              "      <td>2</td>\n",
              "      <td>own</td>\n",
              "      <td>NaN</td>\n",
              "      <td>little</td>\n",
              "      <td>1169</td>\n",
              "      <td>6</td>\n",
              "      <td>radio/TV</td>\n",
              "      <td>good</td>\n",
              "    </tr>\n",
              "    <tr>\n",
              "      <th>1</th>\n",
              "      <td>1</td>\n",
              "      <td>22</td>\n",
              "      <td>female</td>\n",
              "      <td>2</td>\n",
              "      <td>own</td>\n",
              "      <td>little</td>\n",
              "      <td>moderate</td>\n",
              "      <td>5951</td>\n",
              "      <td>48</td>\n",
              "      <td>radio/TV</td>\n",
              "      <td>bad</td>\n",
              "    </tr>\n",
              "    <tr>\n",
              "      <th>2</th>\n",
              "      <td>2</td>\n",
              "      <td>49</td>\n",
              "      <td>male</td>\n",
              "      <td>1</td>\n",
              "      <td>own</td>\n",
              "      <td>little</td>\n",
              "      <td>NaN</td>\n",
              "      <td>2096</td>\n",
              "      <td>12</td>\n",
              "      <td>education</td>\n",
              "      <td>good</td>\n",
              "    </tr>\n",
              "    <tr>\n",
              "      <th>3</th>\n",
              "      <td>3</td>\n",
              "      <td>45</td>\n",
              "      <td>male</td>\n",
              "      <td>2</td>\n",
              "      <td>free</td>\n",
              "      <td>little</td>\n",
              "      <td>little</td>\n",
              "      <td>7882</td>\n",
              "      <td>42</td>\n",
              "      <td>furniture/equipment</td>\n",
              "      <td>good</td>\n",
              "    </tr>\n",
              "    <tr>\n",
              "      <th>4</th>\n",
              "      <td>4</td>\n",
              "      <td>53</td>\n",
              "      <td>male</td>\n",
              "      <td>2</td>\n",
              "      <td>free</td>\n",
              "      <td>little</td>\n",
              "      <td>little</td>\n",
              "      <td>4870</td>\n",
              "      <td>24</td>\n",
              "      <td>car</td>\n",
              "      <td>bad</td>\n",
              "    </tr>\n",
              "  </tbody>\n",
              "</table>\n",
              "</div>\n",
              "      <button class=\"colab-df-convert\" onclick=\"convertToInteractive('df-7a286e4c-22cf-4fac-93dd-4a619f6246ce')\"\n",
              "              title=\"Convert this dataframe to an interactive table.\"\n",
              "              style=\"display:none;\">\n",
              "        \n",
              "  <svg xmlns=\"http://www.w3.org/2000/svg\" height=\"24px\"viewBox=\"0 0 24 24\"\n",
              "       width=\"24px\">\n",
              "    <path d=\"M0 0h24v24H0V0z\" fill=\"none\"/>\n",
              "    <path d=\"M18.56 5.44l.94 2.06.94-2.06 2.06-.94-2.06-.94-.94-2.06-.94 2.06-2.06.94zm-11 1L8.5 8.5l.94-2.06 2.06-.94-2.06-.94L8.5 2.5l-.94 2.06-2.06.94zm10 10l.94 2.06.94-2.06 2.06-.94-2.06-.94-.94-2.06-.94 2.06-2.06.94z\"/><path d=\"M17.41 7.96l-1.37-1.37c-.4-.4-.92-.59-1.43-.59-.52 0-1.04.2-1.43.59L10.3 9.45l-7.72 7.72c-.78.78-.78 2.05 0 2.83L4 21.41c.39.39.9.59 1.41.59.51 0 1.02-.2 1.41-.59l7.78-7.78 2.81-2.81c.8-.78.8-2.07 0-2.86zM5.41 20L4 18.59l7.72-7.72 1.47 1.35L5.41 20z\"/>\n",
              "  </svg>\n",
              "      </button>\n",
              "      \n",
              "  <style>\n",
              "    .colab-df-container {\n",
              "      display:flex;\n",
              "      flex-wrap:wrap;\n",
              "      gap: 12px;\n",
              "    }\n",
              "\n",
              "    .colab-df-convert {\n",
              "      background-color: #E8F0FE;\n",
              "      border: none;\n",
              "      border-radius: 50%;\n",
              "      cursor: pointer;\n",
              "      display: none;\n",
              "      fill: #1967D2;\n",
              "      height: 32px;\n",
              "      padding: 0 0 0 0;\n",
              "      width: 32px;\n",
              "    }\n",
              "\n",
              "    .colab-df-convert:hover {\n",
              "      background-color: #E2EBFA;\n",
              "      box-shadow: 0px 1px 2px rgba(60, 64, 67, 0.3), 0px 1px 3px 1px rgba(60, 64, 67, 0.15);\n",
              "      fill: #174EA6;\n",
              "    }\n",
              "\n",
              "    [theme=dark] .colab-df-convert {\n",
              "      background-color: #3B4455;\n",
              "      fill: #D2E3FC;\n",
              "    }\n",
              "\n",
              "    [theme=dark] .colab-df-convert:hover {\n",
              "      background-color: #434B5C;\n",
              "      box-shadow: 0px 1px 3px 1px rgba(0, 0, 0, 0.15);\n",
              "      filter: drop-shadow(0px 1px 2px rgba(0, 0, 0, 0.3));\n",
              "      fill: #FFFFFF;\n",
              "    }\n",
              "  </style>\n",
              "\n",
              "      <script>\n",
              "        const buttonEl =\n",
              "          document.querySelector('#df-7a286e4c-22cf-4fac-93dd-4a619f6246ce button.colab-df-convert');\n",
              "        buttonEl.style.display =\n",
              "          google.colab.kernel.accessAllowed ? 'block' : 'none';\n",
              "\n",
              "        async function convertToInteractive(key) {\n",
              "          const element = document.querySelector('#df-7a286e4c-22cf-4fac-93dd-4a619f6246ce');\n",
              "          const dataTable =\n",
              "            await google.colab.kernel.invokeFunction('convertToInteractive',\n",
              "                                                     [key], {});\n",
              "          if (!dataTable) return;\n",
              "\n",
              "          const docLinkHtml = 'Like what you see? Visit the ' +\n",
              "            '<a target=\"_blank\" href=https://colab.research.google.com/notebooks/data_table.ipynb>data table notebook</a>'\n",
              "            + ' to learn more about interactive tables.';\n",
              "          element.innerHTML = '';\n",
              "          dataTable['output_type'] = 'display_data';\n",
              "          await google.colab.output.renderOutput(dataTable, element);\n",
              "          const docLink = document.createElement('div');\n",
              "          docLink.innerHTML = docLinkHtml;\n",
              "          element.appendChild(docLink);\n",
              "        }\n",
              "      </script>\n",
              "    </div>\n",
              "  </div>\n",
              "  "
            ]
          },
          "metadata": {},
          "execution_count": 425
        }
      ],
      "source": [
        "import pandas as pd\n",
        "credit = pd.read_csv('/content/credit_data_risk.csv')\n",
        "credit.head()"
      ]
    },
    {
      "cell_type": "code",
      "execution_count": 426,
      "id": "ee1bd809",
      "metadata": {
        "colab": {
          "base_uri": "https://localhost:8080/"
        },
        "id": "ee1bd809",
        "outputId": "2b121e35-d5e9-4a09-dd25-75389de70da6"
      },
      "outputs": [
        {
          "output_type": "execute_result",
          "data": {
            "text/plain": [
              "good    700\n",
              "bad     300\n",
              "Name: Risk, dtype: int64"
            ]
          },
          "metadata": {},
          "execution_count": 426
        }
      ],
      "source": [
        "credit['Risk'].value_counts()"
      ]
    },
    {
      "cell_type": "code",
      "execution_count": 427,
      "id": "9394876f",
      "metadata": {
        "id": "9394876f"
      },
      "outputs": [],
      "source": [
        "del credit['Unnamed: 0']"
      ]
    },
    {
      "cell_type": "code",
      "execution_count": 428,
      "id": "d1563f56",
      "metadata": {
        "colab": {
          "base_uri": "https://localhost:8080/",
          "height": 300
        },
        "id": "d1563f56",
        "outputId": "e8ac1dd9-932d-4720-8d6a-bd589f52d00e"
      },
      "outputs": [
        {
          "output_type": "execute_result",
          "data": {
            "text/plain": [
              "               Age          Job  Credit amount     Duration\n",
              "count  1000.000000  1000.000000    1000.000000  1000.000000\n",
              "mean     35.546000     1.904000    3271.258000    20.903000\n",
              "std      11.375469     0.653614    2822.736876    12.058814\n",
              "min      19.000000     0.000000     250.000000     4.000000\n",
              "25%      27.000000     2.000000    1365.500000    12.000000\n",
              "50%      33.000000     2.000000    2319.500000    18.000000\n",
              "75%      42.000000     2.000000    3972.250000    24.000000\n",
              "max      75.000000     3.000000   18424.000000    72.000000"
            ],
            "text/html": [
              "\n",
              "  <div id=\"df-a3c8f881-7b9c-410d-87a9-7ef39c3a722f\">\n",
              "    <div class=\"colab-df-container\">\n",
              "      <div>\n",
              "<style scoped>\n",
              "    .dataframe tbody tr th:only-of-type {\n",
              "        vertical-align: middle;\n",
              "    }\n",
              "\n",
              "    .dataframe tbody tr th {\n",
              "        vertical-align: top;\n",
              "    }\n",
              "\n",
              "    .dataframe thead th {\n",
              "        text-align: right;\n",
              "    }\n",
              "</style>\n",
              "<table border=\"1\" class=\"dataframe\">\n",
              "  <thead>\n",
              "    <tr style=\"text-align: right;\">\n",
              "      <th></th>\n",
              "      <th>Age</th>\n",
              "      <th>Job</th>\n",
              "      <th>Credit amount</th>\n",
              "      <th>Duration</th>\n",
              "    </tr>\n",
              "  </thead>\n",
              "  <tbody>\n",
              "    <tr>\n",
              "      <th>count</th>\n",
              "      <td>1000.000000</td>\n",
              "      <td>1000.000000</td>\n",
              "      <td>1000.000000</td>\n",
              "      <td>1000.000000</td>\n",
              "    </tr>\n",
              "    <tr>\n",
              "      <th>mean</th>\n",
              "      <td>35.546000</td>\n",
              "      <td>1.904000</td>\n",
              "      <td>3271.258000</td>\n",
              "      <td>20.903000</td>\n",
              "    </tr>\n",
              "    <tr>\n",
              "      <th>std</th>\n",
              "      <td>11.375469</td>\n",
              "      <td>0.653614</td>\n",
              "      <td>2822.736876</td>\n",
              "      <td>12.058814</td>\n",
              "    </tr>\n",
              "    <tr>\n",
              "      <th>min</th>\n",
              "      <td>19.000000</td>\n",
              "      <td>0.000000</td>\n",
              "      <td>250.000000</td>\n",
              "      <td>4.000000</td>\n",
              "    </tr>\n",
              "    <tr>\n",
              "      <th>25%</th>\n",
              "      <td>27.000000</td>\n",
              "      <td>2.000000</td>\n",
              "      <td>1365.500000</td>\n",
              "      <td>12.000000</td>\n",
              "    </tr>\n",
              "    <tr>\n",
              "      <th>50%</th>\n",
              "      <td>33.000000</td>\n",
              "      <td>2.000000</td>\n",
              "      <td>2319.500000</td>\n",
              "      <td>18.000000</td>\n",
              "    </tr>\n",
              "    <tr>\n",
              "      <th>75%</th>\n",
              "      <td>42.000000</td>\n",
              "      <td>2.000000</td>\n",
              "      <td>3972.250000</td>\n",
              "      <td>24.000000</td>\n",
              "    </tr>\n",
              "    <tr>\n",
              "      <th>max</th>\n",
              "      <td>75.000000</td>\n",
              "      <td>3.000000</td>\n",
              "      <td>18424.000000</td>\n",
              "      <td>72.000000</td>\n",
              "    </tr>\n",
              "  </tbody>\n",
              "</table>\n",
              "</div>\n",
              "      <button class=\"colab-df-convert\" onclick=\"convertToInteractive('df-a3c8f881-7b9c-410d-87a9-7ef39c3a722f')\"\n",
              "              title=\"Convert this dataframe to an interactive table.\"\n",
              "              style=\"display:none;\">\n",
              "        \n",
              "  <svg xmlns=\"http://www.w3.org/2000/svg\" height=\"24px\"viewBox=\"0 0 24 24\"\n",
              "       width=\"24px\">\n",
              "    <path d=\"M0 0h24v24H0V0z\" fill=\"none\"/>\n",
              "    <path d=\"M18.56 5.44l.94 2.06.94-2.06 2.06-.94-2.06-.94-.94-2.06-.94 2.06-2.06.94zm-11 1L8.5 8.5l.94-2.06 2.06-.94-2.06-.94L8.5 2.5l-.94 2.06-2.06.94zm10 10l.94 2.06.94-2.06 2.06-.94-2.06-.94-.94-2.06-.94 2.06-2.06.94z\"/><path d=\"M17.41 7.96l-1.37-1.37c-.4-.4-.92-.59-1.43-.59-.52 0-1.04.2-1.43.59L10.3 9.45l-7.72 7.72c-.78.78-.78 2.05 0 2.83L4 21.41c.39.39.9.59 1.41.59.51 0 1.02-.2 1.41-.59l7.78-7.78 2.81-2.81c.8-.78.8-2.07 0-2.86zM5.41 20L4 18.59l7.72-7.72 1.47 1.35L5.41 20z\"/>\n",
              "  </svg>\n",
              "      </button>\n",
              "      \n",
              "  <style>\n",
              "    .colab-df-container {\n",
              "      display:flex;\n",
              "      flex-wrap:wrap;\n",
              "      gap: 12px;\n",
              "    }\n",
              "\n",
              "    .colab-df-convert {\n",
              "      background-color: #E8F0FE;\n",
              "      border: none;\n",
              "      border-radius: 50%;\n",
              "      cursor: pointer;\n",
              "      display: none;\n",
              "      fill: #1967D2;\n",
              "      height: 32px;\n",
              "      padding: 0 0 0 0;\n",
              "      width: 32px;\n",
              "    }\n",
              "\n",
              "    .colab-df-convert:hover {\n",
              "      background-color: #E2EBFA;\n",
              "      box-shadow: 0px 1px 2px rgba(60, 64, 67, 0.3), 0px 1px 3px 1px rgba(60, 64, 67, 0.15);\n",
              "      fill: #174EA6;\n",
              "    }\n",
              "\n",
              "    [theme=dark] .colab-df-convert {\n",
              "      background-color: #3B4455;\n",
              "      fill: #D2E3FC;\n",
              "    }\n",
              "\n",
              "    [theme=dark] .colab-df-convert:hover {\n",
              "      background-color: #434B5C;\n",
              "      box-shadow: 0px 1px 3px 1px rgba(0, 0, 0, 0.15);\n",
              "      filter: drop-shadow(0px 1px 2px rgba(0, 0, 0, 0.3));\n",
              "      fill: #FFFFFF;\n",
              "    }\n",
              "  </style>\n",
              "\n",
              "      <script>\n",
              "        const buttonEl =\n",
              "          document.querySelector('#df-a3c8f881-7b9c-410d-87a9-7ef39c3a722f button.colab-df-convert');\n",
              "        buttonEl.style.display =\n",
              "          google.colab.kernel.accessAllowed ? 'block' : 'none';\n",
              "\n",
              "        async function convertToInteractive(key) {\n",
              "          const element = document.querySelector('#df-a3c8f881-7b9c-410d-87a9-7ef39c3a722f');\n",
              "          const dataTable =\n",
              "            await google.colab.kernel.invokeFunction('convertToInteractive',\n",
              "                                                     [key], {});\n",
              "          if (!dataTable) return;\n",
              "\n",
              "          const docLinkHtml = 'Like what you see? Visit the ' +\n",
              "            '<a target=\"_blank\" href=https://colab.research.google.com/notebooks/data_table.ipynb>data table notebook</a>'\n",
              "            + ' to learn more about interactive tables.';\n",
              "          element.innerHTML = '';\n",
              "          dataTable['output_type'] = 'display_data';\n",
              "          await google.colab.output.renderOutput(dataTable, element);\n",
              "          const docLink = document.createElement('div');\n",
              "          docLink.innerHTML = docLinkHtml;\n",
              "          element.appendChild(docLink);\n",
              "        }\n",
              "      </script>\n",
              "    </div>\n",
              "  </div>\n",
              "  "
            ]
          },
          "metadata": {},
          "execution_count": 428
        }
      ],
      "source": [
        "credit.describe()"
      ]
    },
    {
      "cell_type": "code",
      "execution_count": 429,
      "id": "63c915ee",
      "metadata": {
        "id": "63c915ee"
      },
      "outputs": [],
      "source": [
        "import matplotlib.pyplot as plt\n",
        "numerical_credit = credit.select_dtypes(exclude='O')"
      ]
    },
    {
      "cell_type": "code",
      "execution_count": 430,
      "id": "305cbe88",
      "metadata": {
        "colab": {
          "base_uri": "https://localhost:8080/",
          "height": 423
        },
        "id": "305cbe88",
        "outputId": "f8405b92-f05c-40f7-9317-8029d17f261e"
      },
      "outputs": [
        {
          "output_type": "execute_result",
          "data": {
            "text/plain": [
              "     Age  Job  Credit amount  Duration\n",
              "0     67    2           1169         6\n",
              "1     22    2           5951        48\n",
              "2     49    1           2096        12\n",
              "3     45    2           7882        42\n",
              "4     53    2           4870        24\n",
              "..   ...  ...            ...       ...\n",
              "995   31    1           1736        12\n",
              "996   40    3           3857        30\n",
              "997   38    2            804        12\n",
              "998   23    2           1845        45\n",
              "999   27    2           4576        45\n",
              "\n",
              "[1000 rows x 4 columns]"
            ],
            "text/html": [
              "\n",
              "  <div id=\"df-685c0f50-98e8-4958-adb4-58609daa9c3c\">\n",
              "    <div class=\"colab-df-container\">\n",
              "      <div>\n",
              "<style scoped>\n",
              "    .dataframe tbody tr th:only-of-type {\n",
              "        vertical-align: middle;\n",
              "    }\n",
              "\n",
              "    .dataframe tbody tr th {\n",
              "        vertical-align: top;\n",
              "    }\n",
              "\n",
              "    .dataframe thead th {\n",
              "        text-align: right;\n",
              "    }\n",
              "</style>\n",
              "<table border=\"1\" class=\"dataframe\">\n",
              "  <thead>\n",
              "    <tr style=\"text-align: right;\">\n",
              "      <th></th>\n",
              "      <th>Age</th>\n",
              "      <th>Job</th>\n",
              "      <th>Credit amount</th>\n",
              "      <th>Duration</th>\n",
              "    </tr>\n",
              "  </thead>\n",
              "  <tbody>\n",
              "    <tr>\n",
              "      <th>0</th>\n",
              "      <td>67</td>\n",
              "      <td>2</td>\n",
              "      <td>1169</td>\n",
              "      <td>6</td>\n",
              "    </tr>\n",
              "    <tr>\n",
              "      <th>1</th>\n",
              "      <td>22</td>\n",
              "      <td>2</td>\n",
              "      <td>5951</td>\n",
              "      <td>48</td>\n",
              "    </tr>\n",
              "    <tr>\n",
              "      <th>2</th>\n",
              "      <td>49</td>\n",
              "      <td>1</td>\n",
              "      <td>2096</td>\n",
              "      <td>12</td>\n",
              "    </tr>\n",
              "    <tr>\n",
              "      <th>3</th>\n",
              "      <td>45</td>\n",
              "      <td>2</td>\n",
              "      <td>7882</td>\n",
              "      <td>42</td>\n",
              "    </tr>\n",
              "    <tr>\n",
              "      <th>4</th>\n",
              "      <td>53</td>\n",
              "      <td>2</td>\n",
              "      <td>4870</td>\n",
              "      <td>24</td>\n",
              "    </tr>\n",
              "    <tr>\n",
              "      <th>...</th>\n",
              "      <td>...</td>\n",
              "      <td>...</td>\n",
              "      <td>...</td>\n",
              "      <td>...</td>\n",
              "    </tr>\n",
              "    <tr>\n",
              "      <th>995</th>\n",
              "      <td>31</td>\n",
              "      <td>1</td>\n",
              "      <td>1736</td>\n",
              "      <td>12</td>\n",
              "    </tr>\n",
              "    <tr>\n",
              "      <th>996</th>\n",
              "      <td>40</td>\n",
              "      <td>3</td>\n",
              "      <td>3857</td>\n",
              "      <td>30</td>\n",
              "    </tr>\n",
              "    <tr>\n",
              "      <th>997</th>\n",
              "      <td>38</td>\n",
              "      <td>2</td>\n",
              "      <td>804</td>\n",
              "      <td>12</td>\n",
              "    </tr>\n",
              "    <tr>\n",
              "      <th>998</th>\n",
              "      <td>23</td>\n",
              "      <td>2</td>\n",
              "      <td>1845</td>\n",
              "      <td>45</td>\n",
              "    </tr>\n",
              "    <tr>\n",
              "      <th>999</th>\n",
              "      <td>27</td>\n",
              "      <td>2</td>\n",
              "      <td>4576</td>\n",
              "      <td>45</td>\n",
              "    </tr>\n",
              "  </tbody>\n",
              "</table>\n",
              "<p>1000 rows × 4 columns</p>\n",
              "</div>\n",
              "      <button class=\"colab-df-convert\" onclick=\"convertToInteractive('df-685c0f50-98e8-4958-adb4-58609daa9c3c')\"\n",
              "              title=\"Convert this dataframe to an interactive table.\"\n",
              "              style=\"display:none;\">\n",
              "        \n",
              "  <svg xmlns=\"http://www.w3.org/2000/svg\" height=\"24px\"viewBox=\"0 0 24 24\"\n",
              "       width=\"24px\">\n",
              "    <path d=\"M0 0h24v24H0V0z\" fill=\"none\"/>\n",
              "    <path d=\"M18.56 5.44l.94 2.06.94-2.06 2.06-.94-2.06-.94-.94-2.06-.94 2.06-2.06.94zm-11 1L8.5 8.5l.94-2.06 2.06-.94-2.06-.94L8.5 2.5l-.94 2.06-2.06.94zm10 10l.94 2.06.94-2.06 2.06-.94-2.06-.94-.94-2.06-.94 2.06-2.06.94z\"/><path d=\"M17.41 7.96l-1.37-1.37c-.4-.4-.92-.59-1.43-.59-.52 0-1.04.2-1.43.59L10.3 9.45l-7.72 7.72c-.78.78-.78 2.05 0 2.83L4 21.41c.39.39.9.59 1.41.59.51 0 1.02-.2 1.41-.59l7.78-7.78 2.81-2.81c.8-.78.8-2.07 0-2.86zM5.41 20L4 18.59l7.72-7.72 1.47 1.35L5.41 20z\"/>\n",
              "  </svg>\n",
              "      </button>\n",
              "      \n",
              "  <style>\n",
              "    .colab-df-container {\n",
              "      display:flex;\n",
              "      flex-wrap:wrap;\n",
              "      gap: 12px;\n",
              "    }\n",
              "\n",
              "    .colab-df-convert {\n",
              "      background-color: #E8F0FE;\n",
              "      border: none;\n",
              "      border-radius: 50%;\n",
              "      cursor: pointer;\n",
              "      display: none;\n",
              "      fill: #1967D2;\n",
              "      height: 32px;\n",
              "      padding: 0 0 0 0;\n",
              "      width: 32px;\n",
              "    }\n",
              "\n",
              "    .colab-df-convert:hover {\n",
              "      background-color: #E2EBFA;\n",
              "      box-shadow: 0px 1px 2px rgba(60, 64, 67, 0.3), 0px 1px 3px 1px rgba(60, 64, 67, 0.15);\n",
              "      fill: #174EA6;\n",
              "    }\n",
              "\n",
              "    [theme=dark] .colab-df-convert {\n",
              "      background-color: #3B4455;\n",
              "      fill: #D2E3FC;\n",
              "    }\n",
              "\n",
              "    [theme=dark] .colab-df-convert:hover {\n",
              "      background-color: #434B5C;\n",
              "      box-shadow: 0px 1px 3px 1px rgba(0, 0, 0, 0.15);\n",
              "      filter: drop-shadow(0px 1px 2px rgba(0, 0, 0, 0.3));\n",
              "      fill: #FFFFFF;\n",
              "    }\n",
              "  </style>\n",
              "\n",
              "      <script>\n",
              "        const buttonEl =\n",
              "          document.querySelector('#df-685c0f50-98e8-4958-adb4-58609daa9c3c button.colab-df-convert');\n",
              "        buttonEl.style.display =\n",
              "          google.colab.kernel.accessAllowed ? 'block' : 'none';\n",
              "\n",
              "        async function convertToInteractive(key) {\n",
              "          const element = document.querySelector('#df-685c0f50-98e8-4958-adb4-58609daa9c3c');\n",
              "          const dataTable =\n",
              "            await google.colab.kernel.invokeFunction('convertToInteractive',\n",
              "                                                     [key], {});\n",
              "          if (!dataTable) return;\n",
              "\n",
              "          const docLinkHtml = 'Like what you see? Visit the ' +\n",
              "            '<a target=\"_blank\" href=https://colab.research.google.com/notebooks/data_table.ipynb>data table notebook</a>'\n",
              "            + ' to learn more about interactive tables.';\n",
              "          element.innerHTML = '';\n",
              "          dataTable['output_type'] = 'display_data';\n",
              "          await google.colab.output.renderOutput(dataTable, element);\n",
              "          const docLink = document.createElement('div');\n",
              "          docLink.innerHTML = docLinkHtml;\n",
              "          element.appendChild(docLink);\n",
              "        }\n",
              "      </script>\n",
              "    </div>\n",
              "  </div>\n",
              "  "
            ]
          },
          "metadata": {},
          "execution_count": 430
        }
      ],
      "source": [
        "numerical_credit"
      ]
    },
    {
      "cell_type": "code",
      "execution_count": 431,
      "id": "5a8ef587",
      "metadata": {
        "colab": {
          "base_uri": "https://localhost:8080/",
          "height": 390
        },
        "id": "5a8ef587",
        "outputId": "7817ef8d-b6e3-45b7-da25-3340edbd1cbd"
      },
      "outputs": [
        {
          "output_type": "display_data",
          "data": {
            "text/plain": [
              "<Figure size 720x432 with 4 Axes>"
            ],
            "image/png": "[encoded data removed]"
          },
          "metadata": {
            "needs_background": "light"
          }
        }
      ],
      "source": [
        "plt.figure(figsize=(10, 6))\n",
        "k = 0\n",
        "for i, j in enumerate(numerical_credit):\n",
        "    k+=1\n",
        "    plt.subplot(2,2,k)\n",
        "    plt.hist(numerical_credit.iloc[:,i])\n",
        "    plt.title(str(j))"
      ]
    },
    {
      "cell_type": "markdown",
      "source": [
        "From above we can see that\n",
        "1) The people with age group between 20 to 30 are more in this data\n",
        "2) The people with 2 years experience are more\n",
        "3) people are more who is taking amount 0 to 2500\n",
        "4)more people are taking amount for 20 years duration"
      ],
      "metadata": {
        "id": "KjgWPadp7HU8"
      },
      "id": "KjgWPadp7HU8"
    },
    {
      "cell_type": "code",
      "execution_count": 432,
      "id": "364873b5",
      "metadata": {
        "colab": {
          "base_uri": "https://localhost:8080/"
        },
        "id": "364873b5",
        "outputId": "f6dc0d97-1232-4c67-aca3-c2be728865b3"
      },
      "outputs": [
        {
          "output_type": "stream",
          "name": "stdout",
          "text": [
            "<class 'pandas.core.frame.DataFrame'>\n",
            "RangeIndex: 1000 entries, 0 to 999\n",
            "Data columns (total 4 columns):\n",
            " #   Column         Non-Null Count  Dtype\n",
            "---  ------         --------------  -----\n",
            " 0   Age            1000 non-null   int64\n",
            " 1   Job            1000 non-null   int64\n",
            " 2   Credit amount  1000 non-null   int64\n",
            " 3   Duration       1000 non-null   int64\n",
            "dtypes: int64(4)\n",
            "memory usage: 31.4 KB\n"
          ]
        }
      ],
      "source": [
        "numerical_credit.info()"
      ]
    },
    {
      "cell_type": "code",
      "execution_count": 433,
      "id": "a87120b4",
      "metadata": {
        "id": "a87120b4"
      },
      "outputs": [],
      "source": [
        "from sklearn.preprocessing import StandardScaler\n",
        "from sklearn.cluster import KMeans\n",
        "import numpy as np"
      ]
    },
    {
      "cell_type": "code",
      "execution_count": 434,
      "id": "5faa50fc",
      "metadata": {
        "id": "5faa50fc"
      },
      "outputs": [],
      "source": [
        "scaler = StandardScaler()\n",
        "scaled_credit = scaler.fit_transform(numerical_credit)"
      ]
    },
    {
      "cell_type": "code",
      "execution_count": 435,
      "id": "9346d746",
      "metadata": {
        "id": "9346d746"
      },
      "outputs": [],
      "source": [
        "distance = []\n",
        "for i in range(2, 10):\n",
        "    kmeans = KMeans(n_clusters=i)\n",
        "    kmeans.fit(scaled_credit)\n",
        "    distance.append(kmeans.inertia_)"
      ]
    },
    {
      "cell_type": "markdown",
      "id": "7f81bfd5",
      "metadata": {
        "id": "7f81bfd5"
      },
      "source": [
        "The elbow method, as a first method, is introduced in the following code snippet. To find the optimal number of clusters, we observe the slope of the curve and decide the cut-off point at which the curve gets flatter—that is, the slope of the curve gets lower. As it gets flatter, the inertia, telling us how far away the points within a cluster are located, decreases, which is nice for the purpose of clustering. On the other hand, as we allow inertia to decrease, the number of clusters increases, which makes the analysis more complicated. Given that trade-off, the stopping criteria is the point where the curve gets flatter. "
      ]
    },
    {
      "cell_type": "code",
      "execution_count": 436,
      "id": "79201288",
      "metadata": {
        "colab": {
          "base_uri": "https://localhost:8080/",
          "height": 295
        },
        "id": "79201288",
        "outputId": "0034fa84-415e-4785-9094-e3f46e987449"
      },
      "outputs": [
        {
          "output_type": "display_data",
          "data": {
            "text/plain": [
              "<Figure size 432x288 with 1 Axes>"
            ],
            "image/png": "[encoded data removed]"
          },
          "metadata": {
            "needs_background": "light"
          }
        }
      ],
      "source": [
        "no_cluster = range(2, 10)\n",
        "plt.plot(no_cluster, distance, 'bx-')\n",
        "plt.xlabel('Number of clusters')\n",
        "plt.ylabel('Inertia')\n",
        "plt.title('Elbow Method')\n",
        "plt.show()"
      ]
    },
    {
      "cell_type": "code",
      "execution_count": 437,
      "id": "f02e5915",
      "metadata": {
        "id": "f02e5915"
      },
      "outputs": [],
      "source": [
        "kmeans = KMeans(n_clusters=2)\n",
        "cluster = kmeans.fit_predict(scaled_credit)"
      ]
    },
    {
      "cell_type": "code",
      "execution_count": 438,
      "id": "77dc1154",
      "metadata": {
        "id": "77dc1154"
      },
      "outputs": [],
      "source": [
        "credit['clusters'] = pd.DataFrame(kmeans.labels_)"
      ]
    },
    {
      "cell_type": "code",
      "execution_count": 439,
      "id": "0471bbcd",
      "metadata": {
        "colab": {
          "base_uri": "https://localhost:8080/",
          "height": 206
        },
        "id": "0471bbcd",
        "outputId": "bc091d45-29d6-40b7-8903-fc1c273f5580"
      },
      "outputs": [
        {
          "output_type": "execute_result",
          "data": {
            "text/plain": [
              "   Age     Sex  Job Housing Saving accounts Checking account  Credit amount  \\\n",
              "0   67    male    2     own             NaN           little           1169   \n",
              "1   22  female    2     own          little         moderate           5951   \n",
              "2   49    male    1     own          little              NaN           2096   \n",
              "3   45    male    2    free          little           little           7882   \n",
              "4   53    male    2    free          little           little           4870   \n",
              "\n",
              "   Duration              Purpose  Risk  clusters  \n",
              "0         6             radio/TV  good         0  \n",
              "1        48             radio/TV   bad         1  \n",
              "2        12            education  good         0  \n",
              "3        42  furniture/equipment  good         1  \n",
              "4        24                  car   bad         0  "
            ],
            "text/html": [
              "\n",
              "  <div id=\"df-f1af9d98-2410-4391-aa69-6b15d6a446a1\">\n",
              "    <div class=\"colab-df-container\">\n",
              "      <div>\n",
              "<style scoped>\n",
              "    .dataframe tbody tr th:only-of-type {\n",
              "        vertical-align: middle;\n",
              "    }\n",
              "\n",
              "    .dataframe tbody tr th {\n",
              "        vertical-align: top;\n",
              "    }\n",
              "\n",
              "    .dataframe thead th {\n",
              "        text-align: right;\n",
              "    }\n",
              "</style>\n",
              "<table border=\"1\" class=\"dataframe\">\n",
              "  <thead>\n",
              "    <tr style=\"text-align: right;\">\n",
              "      <th></th>\n",
              "      <th>Age</th>\n",
              "      <th>Sex</th>\n",
              "      <th>Job</th>\n",
              "      <th>Housing</th>\n",
              "      <th>Saving accounts</th>\n",
              "      <th>Checking account</th>\n",
              "      <th>Credit amount</th>\n",
              "      <th>Duration</th>\n",
              "      <th>Purpose</th>\n",
              "      <th>Risk</th>\n",
              "      <th>clusters</th>\n",
              "    </tr>\n",
              "  </thead>\n",
              "  <tbody>\n",
              "    <tr>\n",
              "      <th>0</th>\n",
              "      <td>67</td>\n",
              "      <td>male</td>\n",
              "      <td>2</td>\n",
              "      <td>own</td>\n",
              "      <td>NaN</td>\n",
              "      <td>little</td>\n",
              "      <td>1169</td>\n",
              "      <td>6</td>\n",
              "      <td>radio/TV</td>\n",
              "      <td>good</td>\n",
              "      <td>0</td>\n",
              "    </tr>\n",
              "    <tr>\n",
              "      <th>1</th>\n",
              "      <td>22</td>\n",
              "      <td>female</td>\n",
              "      <td>2</td>\n",
              "      <td>own</td>\n",
              "      <td>little</td>\n",
              "      <td>moderate</td>\n",
              "      <td>5951</td>\n",
              "      <td>48</td>\n",
              "      <td>radio/TV</td>\n",
              "      <td>bad</td>\n",
              "      <td>1</td>\n",
              "    </tr>\n",
              "    <tr>\n",
              "      <th>2</th>\n",
              "      <td>49</td>\n",
              "      <td>male</td>\n",
              "      <td>1</td>\n",
              "      <td>own</td>\n",
              "      <td>little</td>\n",
              "      <td>NaN</td>\n",
              "      <td>2096</td>\n",
              "      <td>12</td>\n",
              "      <td>education</td>\n",
              "      <td>good</td>\n",
              "      <td>0</td>\n",
              "    </tr>\n",
              "    <tr>\n",
              "      <th>3</th>\n",
              "      <td>45</td>\n",
              "      <td>male</td>\n",
              "      <td>2</td>\n",
              "      <td>free</td>\n",
              "      <td>little</td>\n",
              "      <td>little</td>\n",
              "      <td>7882</td>\n",
              "      <td>42</td>\n",
              "      <td>furniture/equipment</td>\n",
              "      <td>good</td>\n",
              "      <td>1</td>\n",
              "    </tr>\n",
              "    <tr>\n",
              "      <th>4</th>\n",
              "      <td>53</td>\n",
              "      <td>male</td>\n",
              "      <td>2</td>\n",
              "      <td>free</td>\n",
              "      <td>little</td>\n",
              "      <td>little</td>\n",
              "      <td>4870</td>\n",
              "      <td>24</td>\n",
              "      <td>car</td>\n",
              "      <td>bad</td>\n",
              "      <td>0</td>\n",
              "    </tr>\n",
              "  </tbody>\n",
              "</table>\n",
              "</div>\n",
              "      <button class=\"colab-df-convert\" onclick=\"convertToInteractive('df-f1af9d98-2410-4391-aa69-6b15d6a446a1')\"\n",
              "              title=\"Convert this dataframe to an interactive table.\"\n",
              "              style=\"display:none;\">\n",
              "        \n",
              "  <svg xmlns=\"http://www.w3.org/2000/svg\" height=\"24px\"viewBox=\"0 0 24 24\"\n",
              "       width=\"24px\">\n",
              "    <path d=\"M0 0h24v24H0V0z\" fill=\"none\"/>\n",
              "    <path d=\"M18.56 5.44l.94 2.06.94-2.06 2.06-.94-2.06-.94-.94-2.06-.94 2.06-2.06.94zm-11 1L8.5 8.5l.94-2.06 2.06-.94-2.06-.94L8.5 2.5l-.94 2.06-2.06.94zm10 10l.94 2.06.94-2.06 2.06-.94-2.06-.94-.94-2.06-.94 2.06-2.06.94z\"/><path d=\"M17.41 7.96l-1.37-1.37c-.4-.4-.92-.59-1.43-.59-.52 0-1.04.2-1.43.59L10.3 9.45l-7.72 7.72c-.78.78-.78 2.05 0 2.83L4 21.41c.39.39.9.59 1.41.59.51 0 1.02-.2 1.41-.59l7.78-7.78 2.81-2.81c.8-.78.8-2.07 0-2.86zM5.41 20L4 18.59l7.72-7.72 1.47 1.35L5.41 20z\"/>\n",
              "  </svg>\n",
              "      </button>\n",
              "      \n",
              "  <style>\n",
              "    .colab-df-container {\n",
              "      display:flex;\n",
              "      flex-wrap:wrap;\n",
              "      gap: 12px;\n",
              "    }\n",
              "\n",
              "    .colab-df-convert {\n",
              "      background-color: #E8F0FE;\n",
              "      border: none;\n",
              "      border-radius: 50%;\n",
              "      cursor: pointer;\n",
              "      display: none;\n",
              "      fill: #1967D2;\n",
              "      height: 32px;\n",
              "      padding: 0 0 0 0;\n",
              "      width: 32px;\n",
              "    }\n",
              "\n",
              "    .colab-df-convert:hover {\n",
              "      background-color: #E2EBFA;\n",
              "      box-shadow: 0px 1px 2px rgba(60, 64, 67, 0.3), 0px 1px 3px 1px rgba(60, 64, 67, 0.15);\n",
              "      fill: #174EA6;\n",
              "    }\n",
              "\n",
              "    [theme=dark] .colab-df-convert {\n",
              "      background-color: #3B4455;\n",
              "      fill: #D2E3FC;\n",
              "    }\n",
              "\n",
              "    [theme=dark] .colab-df-convert:hover {\n",
              "      background-color: #434B5C;\n",
              "      box-shadow: 0px 1px 3px 1px rgba(0, 0, 0, 0.15);\n",
              "      filter: drop-shadow(0px 1px 2px rgba(0, 0, 0, 0.3));\n",
              "      fill: #FFFFFF;\n",
              "    }\n",
              "  </style>\n",
              "\n",
              "      <script>\n",
              "        const buttonEl =\n",
              "          document.querySelector('#df-f1af9d98-2410-4391-aa69-6b15d6a446a1 button.colab-df-convert');\n",
              "        buttonEl.style.display =\n",
              "          google.colab.kernel.accessAllowed ? 'block' : 'none';\n",
              "\n",
              "        async function convertToInteractive(key) {\n",
              "          const element = document.querySelector('#df-f1af9d98-2410-4391-aa69-6b15d6a446a1');\n",
              "          const dataTable =\n",
              "            await google.colab.kernel.invokeFunction('convertToInteractive',\n",
              "                                                     [key], {});\n",
              "          if (!dataTable) return;\n",
              "\n",
              "          const docLinkHtml = 'Like what you see? Visit the ' +\n",
              "            '<a target=\"_blank\" href=https://colab.research.google.com/notebooks/data_table.ipynb>data table notebook</a>'\n",
              "            + ' to learn more about interactive tables.';\n",
              "          element.innerHTML = '';\n",
              "          dataTable['output_type'] = 'display_data';\n",
              "          await google.colab.output.renderOutput(dataTable, element);\n",
              "          const docLink = document.createElement('div');\n",
              "          docLink.innerHTML = docLinkHtml;\n",
              "          element.appendChild(docLink);\n",
              "        }\n",
              "      </script>\n",
              "    </div>\n",
              "  </div>\n",
              "  "
            ]
          },
          "metadata": {},
          "execution_count": 439
        }
      ],
      "source": [
        "credit.head()# risk variable is the ground truth"
      ]
    },
    {
      "cell_type": "code",
      "execution_count": 440,
      "id": "d519dec4",
      "metadata": {
        "id": "d519dec4"
      },
      "outputs": [],
      "source": [
        "df_scaled = pd.DataFrame(scaled_credit)\n",
        "df_scaled['clusters'] = credit['clusters']"
      ]
    },
    {
      "cell_type": "code",
      "execution_count": 441,
      "id": "805cd238",
      "metadata": {
        "id": "805cd238"
      },
      "outputs": [],
      "source": [
        "df_scaled['Risk'] = credit['Risk']\n",
        "df_scaled.columns = ['Age', 'Job', 'Credit Amount', 'Duration', 'Clusters', 'Risk']"
      ]
    },
    {
      "cell_type": "code",
      "execution_count": 442,
      "id": "2f0c857f",
      "metadata": {
        "colab": {
          "base_uri": "https://localhost:8080/",
          "height": 206
        },
        "id": "2f0c857f",
        "outputId": "9c7c1567-a4ac-4c71-8f1e-0a5f2360fa9b"
      },
      "outputs": [
        {
          "output_type": "execute_result",
          "data": {
            "text/plain": [
              "        Age       Job  Credit Amount  Duration  Clusters  Risk\n",
              "0  2.766456  0.146949      -0.745131 -1.236478         0  good\n",
              "1 -1.191404  0.146949       0.949817  2.248194         1   bad\n",
              "2  1.183312 -1.383771      -0.416562 -0.738668         0  good\n",
              "3  0.831502  0.146949       1.634247  1.750384         1  good\n",
              "4  1.535122  0.146949       0.566664  0.256953         0   bad"
            ],
            "text/html": [
              "\n",
              "  <div id=\"df-920017e3-4ada-492e-8f5c-6e2870d98d95\">\n",
              "    <div class=\"colab-df-container\">\n",
              "      <div>\n",
              "<style scoped>\n",
              "    .dataframe tbody tr th:only-of-type {\n",
              "        vertical-align: middle;\n",
              "    }\n",
              "\n",
              "    .dataframe tbody tr th {\n",
              "        vertical-align: top;\n",
              "    }\n",
              "\n",
              "    .dataframe thead th {\n",
              "        text-align: right;\n",
              "    }\n",
              "</style>\n",
              "<table border=\"1\" class=\"dataframe\">\n",
              "  <thead>\n",
              "    <tr style=\"text-align: right;\">\n",
              "      <th></th>\n",
              "      <th>Age</th>\n",
              "      <th>Job</th>\n",
              "      <th>Credit Amount</th>\n",
              "      <th>Duration</th>\n",
              "      <th>Clusters</th>\n",
              "      <th>Risk</th>\n",
              "    </tr>\n",
              "  </thead>\n",
              "  <tbody>\n",
              "    <tr>\n",
              "      <th>0</th>\n",
              "      <td>2.766456</td>\n",
              "      <td>0.146949</td>\n",
              "      <td>-0.745131</td>\n",
              "      <td>-1.236478</td>\n",
              "      <td>0</td>\n",
              "      <td>good</td>\n",
              "    </tr>\n",
              "    <tr>\n",
              "      <th>1</th>\n",
              "      <td>-1.191404</td>\n",
              "      <td>0.146949</td>\n",
              "      <td>0.949817</td>\n",
              "      <td>2.248194</td>\n",
              "      <td>1</td>\n",
              "      <td>bad</td>\n",
              "    </tr>\n",
              "    <tr>\n",
              "      <th>2</th>\n",
              "      <td>1.183312</td>\n",
              "      <td>-1.383771</td>\n",
              "      <td>-0.416562</td>\n",
              "      <td>-0.738668</td>\n",
              "      <td>0</td>\n",
              "      <td>good</td>\n",
              "    </tr>\n",
              "    <tr>\n",
              "      <th>3</th>\n",
              "      <td>0.831502</td>\n",
              "      <td>0.146949</td>\n",
              "      <td>1.634247</td>\n",
              "      <td>1.750384</td>\n",
              "      <td>1</td>\n",
              "      <td>good</td>\n",
              "    </tr>\n",
              "    <tr>\n",
              "      <th>4</th>\n",
              "      <td>1.535122</td>\n",
              "      <td>0.146949</td>\n",
              "      <td>0.566664</td>\n",
              "      <td>0.256953</td>\n",
              "      <td>0</td>\n",
              "      <td>bad</td>\n",
              "    </tr>\n",
              "  </tbody>\n",
              "</table>\n",
              "</div>\n",
              "      <button class=\"colab-df-convert\" onclick=\"convertToInteractive('df-920017e3-4ada-492e-8f5c-6e2870d98d95')\"\n",
              "              title=\"Convert this dataframe to an interactive table.\"\n",
              "              style=\"display:none;\">\n",
              "        \n",
              "  <svg xmlns=\"http://www.w3.org/2000/svg\" height=\"24px\"viewBox=\"0 0 24 24\"\n",
              "       width=\"24px\">\n",
              "    <path d=\"M0 0h24v24H0V0z\" fill=\"none\"/>\n",
              "    <path d=\"M18.56 5.44l.94 2.06.94-2.06 2.06-.94-2.06-.94-.94-2.06-.94 2.06-2.06.94zm-11 1L8.5 8.5l.94-2.06 2.06-.94-2.06-.94L8.5 2.5l-.94 2.06-2.06.94zm10 10l.94 2.06.94-2.06 2.06-.94-2.06-.94-.94-2.06-.94 2.06-2.06.94z\"/><path d=\"M17.41 7.96l-1.37-1.37c-.4-.4-.92-.59-1.43-.59-.52 0-1.04.2-1.43.59L10.3 9.45l-7.72 7.72c-.78.78-.78 2.05 0 2.83L4 21.41c.39.39.9.59 1.41.59.51 0 1.02-.2 1.41-.59l7.78-7.78 2.81-2.81c.8-.78.8-2.07 0-2.86zM5.41 20L4 18.59l7.72-7.72 1.47 1.35L5.41 20z\"/>\n",
              "  </svg>\n",
              "      </button>\n",
              "      \n",
              "  <style>\n",
              "    .colab-df-container {\n",
              "      display:flex;\n",
              "      flex-wrap:wrap;\n",
              "      gap: 12px;\n",
              "    }\n",
              "\n",
              "    .colab-df-convert {\n",
              "      background-color: #E8F0FE;\n",
              "      border: none;\n",
              "      border-radius: 50%;\n",
              "      cursor: pointer;\n",
              "      display: none;\n",
              "      fill: #1967D2;\n",
              "      height: 32px;\n",
              "      padding: 0 0 0 0;\n",
              "      width: 32px;\n",
              "    }\n",
              "\n",
              "    .colab-df-convert:hover {\n",
              "      background-color: #E2EBFA;\n",
              "      box-shadow: 0px 1px 2px rgba(60, 64, 67, 0.3), 0px 1px 3px 1px rgba(60, 64, 67, 0.15);\n",
              "      fill: #174EA6;\n",
              "    }\n",
              "\n",
              "    [theme=dark] .colab-df-convert {\n",
              "      background-color: #3B4455;\n",
              "      fill: #D2E3FC;\n",
              "    }\n",
              "\n",
              "    [theme=dark] .colab-df-convert:hover {\n",
              "      background-color: #434B5C;\n",
              "      box-shadow: 0px 1px 3px 1px rgba(0, 0, 0, 0.15);\n",
              "      filter: drop-shadow(0px 1px 2px rgba(0, 0, 0, 0.3));\n",
              "      fill: #FFFFFF;\n",
              "    }\n",
              "  </style>\n",
              "\n",
              "      <script>\n",
              "        const buttonEl =\n",
              "          document.querySelector('#df-920017e3-4ada-492e-8f5c-6e2870d98d95 button.colab-df-convert');\n",
              "        buttonEl.style.display =\n",
              "          google.colab.kernel.accessAllowed ? 'block' : 'none';\n",
              "\n",
              "        async function convertToInteractive(key) {\n",
              "          const element = document.querySelector('#df-920017e3-4ada-492e-8f5c-6e2870d98d95');\n",
              "          const dataTable =\n",
              "            await google.colab.kernel.invokeFunction('convertToInteractive',\n",
              "                                                     [key], {});\n",
              "          if (!dataTable) return;\n",
              "\n",
              "          const docLinkHtml = 'Like what you see? Visit the ' +\n",
              "            '<a target=\"_blank\" href=https://colab.research.google.com/notebooks/data_table.ipynb>data table notebook</a>'\n",
              "            + ' to learn more about interactive tables.';\n",
              "          element.innerHTML = '';\n",
              "          dataTable['output_type'] = 'display_data';\n",
              "          await google.colab.output.renderOutput(dataTable, element);\n",
              "          const docLink = document.createElement('div');\n",
              "          docLink.innerHTML = docLinkHtml;\n",
              "          element.appendChild(docLink);\n",
              "        }\n",
              "      </script>\n",
              "    </div>\n",
              "  </div>\n",
              "  "
            ]
          },
          "metadata": {},
          "execution_count": 442
        }
      ],
      "source": [
        "df_scaled.head()"
      ]
    },
    {
      "cell_type": "code",
      "execution_count": 443,
      "id": "c935db72",
      "metadata": {
        "colab": {
          "base_uri": "https://localhost:8080/"
        },
        "id": "c935db72",
        "outputId": "b9cbd8c7-1233-4c6e-f768-e880702ccad4"
      },
      "outputs": [
        {
          "output_type": "execute_result",
          "data": {
            "text/plain": [
              "good    576\n",
              "bad     195\n",
              "Name: Risk, dtype: int64"
            ]
          },
          "metadata": {},
          "execution_count": 443
        }
      ],
      "source": [
        "df_scaled[df_scaled.Clusters==0]['Risk'].value_counts()"
      ]
    },
    {
      "cell_type": "code",
      "execution_count": 444,
      "id": "febfc0d9",
      "metadata": {
        "colab": {
          "base_uri": "https://localhost:8080/"
        },
        "id": "febfc0d9",
        "outputId": "4902ad3a-7e21-42d7-991b-c9ad904008d3"
      },
      "outputs": [
        {
          "output_type": "execute_result",
          "data": {
            "text/plain": [
              "good    124\n",
              "bad     105\n",
              "Name: Risk, dtype: int64"
            ]
          },
          "metadata": {},
          "execution_count": 444
        }
      ],
      "source": [
        "df_scaled[df_scaled.Clusters==1]['Risk'].value_counts()"
      ]
    },
    {
      "cell_type": "code",
      "execution_count": 445,
      "id": "4768f3f6",
      "metadata": {
        "colab": {
          "base_uri": "https://localhost:8080/",
          "height": 405
        },
        "id": "4768f3f6",
        "outputId": "7a2e7bca-4bf8-4d12-ea8d-60c1d4bb19a1"
      },
      "outputs": [
        {
          "output_type": "display_data",
          "data": {
            "text/plain": [
              "<Figure size 720x432 with 1 Axes>"
            ],
            "image/png": "[encoded data removed]"
          },
          "metadata": {
            "needs_background": "light"
          }
        }
      ],
      "source": [
        "df_scaled[df_scaled.Clusters==0]['Risk'].value_counts().\\\n",
        "plot(kind='bar',figsize=(10, 6),title='Frequency of Risk Level');"
      ]
    },
    {
      "cell_type": "code",
      "execution_count": 446,
      "id": "5e3860fe",
      "metadata": {
        "colab": {
          "base_uri": "https://localhost:8080/",
          "height": 405
        },
        "id": "5e3860fe",
        "outputId": "d4e6f4a8-8ddd-4afd-fec2-7e7677b0eeaa"
      },
      "outputs": [
        {
          "output_type": "display_data",
          "data": {
            "text/plain": [
              "<Figure size 720x432 with 1 Axes>"
            ],
            "image/png": "[encoded data removed]"
          },
          "metadata": {
            "needs_background": "light"
          }
        }
      ],
      "source": [
        "df_scaled[df_scaled.Clusters==1]['Risk'].value_counts().\\\n",
        "plot(kind='bar',figsize=(10, 6),title='Frequency of Risk Level');"
      ]
    },
    {
      "cell_type": "markdown",
      "id": "7fea3d73",
      "metadata": {
        "id": "7fea3d73"
      },
      "source": [
        "At this point, let’s take a step back and focus on entirely different problem: class imbalance. In credit risk analysis, it is not uncommon to have a class imbalance prob‐ lem. Class imbalance arises when one class dominates over another. To illustrate, in our case, given the data obtained from the first cluster, we have 576 customers with a good credit record and 195 customers with a bad one. As can be readily observed, customers with good credit records dominate over customers with bad records; that is basically what we refer to as a class imbalance.\n"
      ]
    },
    {
      "cell_type": "markdown",
      "id": "67565fa4",
      "metadata": {
        "id": "67565fa4"
      },
      "source": [
        "There are numerous ways to handle this issue: up-sampling, down-sampling, the syn‐ thetic minority over-sampling technique (SMOTE), and the edited nearest neighbor rule (ENN). To take advantage of a hybrid approach, we’ll incorporate a combination of SMOTE and ENN so we can clean the unwanted overlapping observations between classes, which will help us to detect the optimal balancing ratio and, in turn, boost the predictive performance (Tuong et al., 2018). Converting imbalanced data into balanced data will be our first step in predicting the probability of default, but please note that we will merely apply this technique to the data obtained from the first cluster."
      ]
    },
    {
      "cell_type": "code",
      "execution_count": 447,
      "id": "84b9feb0",
      "metadata": {
        "colab": {
          "base_uri": "https://localhost:8080/"
        },
        "id": "84b9feb0",
        "outputId": "07494ad1-7031-43d9-ebc9-1ae315e38014"
      },
      "outputs": [
        {
          "output_type": "execute_result",
          "data": {
            "text/plain": [
              "0    771\n",
              "1    229\n",
              "Name: clusters, dtype: int64"
            ]
          },
          "metadata": {},
          "execution_count": 447
        }
      ],
      "source": [
        "credit['clusters'].value_counts()# 0: good and 1: bad"
      ]
    },
    {
      "cell_type": "code",
      "execution_count": 448,
      "id": "cf7d7f82",
      "metadata": {
        "id": "cf7d7f82"
      },
      "outputs": [],
      "source": [
        "from sklearn.model_selection import train_test_split"
      ]
    },
    {
      "cell_type": "code",
      "execution_count": 449,
      "id": "cc687582",
      "metadata": {
        "id": "cc687582"
      },
      "outputs": [],
      "source": [
        "df_scaled['Risk'] = df_scaled['Risk'].replace({'good':0, 'bad':1})"
      ]
    },
    {
      "cell_type": "code",
      "execution_count": 450,
      "id": "55e1d810",
      "metadata": {
        "id": "55e1d810"
      },
      "outputs": [],
      "source": [
        "X = df_scaled.drop('Risk', axis=1)\n",
        "y = df_scaled.loc[:,['Risk','Clusters']]"
      ]
    },
    {
      "cell_type": "code",
      "execution_count": 451,
      "id": "2ab75e4e",
      "metadata": {
        "id": "2ab75e4e"
      },
      "outputs": [],
      "source": [
        "X_train, X_test, y_train, y_test = train_test_split(X, y, test_size=0.2, random_state=42)"
      ]
    },
    {
      "cell_type": "code",
      "execution_count": 452,
      "id": "3de7b897",
      "metadata": {
        "colab": {
          "base_uri": "https://localhost:8080/",
          "height": 423
        },
        "id": "3de7b897",
        "outputId": "d93cfa0a-212a-47cf-9e4c-66653dbed980"
      },
      "outputs": [
        {
          "output_type": "execute_result",
          "data": {
            "text/plain": [
              "          Age       Job  Credit Amount  Duration  Clusters\n",
              "29   2.414647  0.146949       1.263499  3.243815         1\n",
              "535 -0.223927  0.146949      -0.337522  0.008048         0\n",
              "695  1.271265  0.146949      -0.721384 -1.236478         0\n",
              "557 -0.575737  0.146949       0.613804  0.008048         0\n",
              "836 -1.279356  0.146949      -0.845439 -0.738668         0\n",
              "..        ...       ...            ...       ...       ...\n",
              "106  0.303788  1.677670       1.129520 -0.240857         1\n",
              "270 -0.311879  0.146949      -0.215947 -0.240857         0\n",
              "860 -0.751642  0.146949       0.897714  0.256953         1\n",
              "435 -0.927547  0.146949      -0.633482 -0.738668         0\n",
              "102 -1.015499  0.146949      -0.829134 -1.236478         0\n",
              "\n",
              "[800 rows x 5 columns]"
            ],
            "text/html": [
              "\n",
              "  <div id=\"df-562a9552-554a-4b29-9cf3-5e59735117e3\">\n",
              "    <div class=\"colab-df-container\">\n",
              "      <div>\n",
              "<style scoped>\n",
              "    .dataframe tbody tr th:only-of-type {\n",
              "        vertical-align: middle;\n",
              "    }\n",
              "\n",
              "    .dataframe tbody tr th {\n",
              "        vertical-align: top;\n",
              "    }\n",
              "\n",
              "    .dataframe thead th {\n",
              "        text-align: right;\n",
              "    }\n",
              "</style>\n",
              "<table border=\"1\" class=\"dataframe\">\n",
              "  <thead>\n",
              "    <tr style=\"text-align: right;\">\n",
              "      <th></th>\n",
              "      <th>Age</th>\n",
              "      <th>Job</th>\n",
              "      <th>Credit Amount</th>\n",
              "      <th>Duration</th>\n",
              "      <th>Clusters</th>\n",
              "    </tr>\n",
              "  </thead>\n",
              "  <tbody>\n",
              "    <tr>\n",
              "      <th>29</th>\n",
              "      <td>2.414647</td>\n",
              "      <td>0.146949</td>\n",
              "      <td>1.263499</td>\n",
              "      <td>3.243815</td>\n",
              "      <td>1</td>\n",
              "    </tr>\n",
              "    <tr>\n",
              "      <th>535</th>\n",
              "      <td>-0.223927</td>\n",
              "      <td>0.146949</td>\n",
              "      <td>-0.337522</td>\n",
              "      <td>0.008048</td>\n",
              "      <td>0</td>\n",
              "    </tr>\n",
              "    <tr>\n",
              "      <th>695</th>\n",
              "      <td>1.271265</td>\n",
              "      <td>0.146949</td>\n",
              "      <td>-0.721384</td>\n",
              "      <td>-1.236478</td>\n",
              "      <td>0</td>\n",
              "    </tr>\n",
              "    <tr>\n",
              "      <th>557</th>\n",
              "      <td>-0.575737</td>\n",
              "      <td>0.146949</td>\n",
              "      <td>0.613804</td>\n",
              "      <td>0.008048</td>\n",
              "      <td>0</td>\n",
              "    </tr>\n",
              "    <tr>\n",
              "      <th>836</th>\n",
              "      <td>-1.279356</td>\n",
              "      <td>0.146949</td>\n",
              "      <td>-0.845439</td>\n",
              "      <td>-0.738668</td>\n",
              "      <td>0</td>\n",
              "    </tr>\n",
              "    <tr>\n",
              "      <th>...</th>\n",
              "      <td>...</td>\n",
              "      <td>...</td>\n",
              "      <td>...</td>\n",
              "      <td>...</td>\n",
              "      <td>...</td>\n",
              "    </tr>\n",
              "    <tr>\n",
              "      <th>106</th>\n",
              "      <td>0.303788</td>\n",
              "      <td>1.677670</td>\n",
              "      <td>1.129520</td>\n",
              "      <td>-0.240857</td>\n",
              "      <td>1</td>\n",
              "    </tr>\n",
              "    <tr>\n",
              "      <th>270</th>\n",
              "      <td>-0.311879</td>\n",
              "      <td>0.146949</td>\n",
              "      <td>-0.215947</td>\n",
              "      <td>-0.240857</td>\n",
              "      <td>0</td>\n",
              "    </tr>\n",
              "    <tr>\n",
              "      <th>860</th>\n",
              "      <td>-0.751642</td>\n",
              "      <td>0.146949</td>\n",
              "      <td>0.897714</td>\n",
              "      <td>0.256953</td>\n",
              "      <td>1</td>\n",
              "    </tr>\n",
              "    <tr>\n",
              "      <th>435</th>\n",
              "      <td>-0.927547</td>\n",
              "      <td>0.146949</td>\n",
              "      <td>-0.633482</td>\n",
              "      <td>-0.738668</td>\n",
              "      <td>0</td>\n",
              "    </tr>\n",
              "    <tr>\n",
              "      <th>102</th>\n",
              "      <td>-1.015499</td>\n",
              "      <td>0.146949</td>\n",
              "      <td>-0.829134</td>\n",
              "      <td>-1.236478</td>\n",
              "      <td>0</td>\n",
              "    </tr>\n",
              "  </tbody>\n",
              "</table>\n",
              "<p>800 rows × 5 columns</p>\n",
              "</div>\n",
              "      <button class=\"colab-df-convert\" onclick=\"convertToInteractive('df-562a9552-554a-4b29-9cf3-5e59735117e3')\"\n",
              "              title=\"Convert this dataframe to an interactive table.\"\n",
              "              style=\"display:none;\">\n",
              "        \n",
              "  <svg xmlns=\"http://www.w3.org/2000/svg\" height=\"24px\"viewBox=\"0 0 24 24\"\n",
              "       width=\"24px\">\n",
              "    <path d=\"M0 0h24v24H0V0z\" fill=\"none\"/>\n",
              "    <path d=\"M18.56 5.44l.94 2.06.94-2.06 2.06-.94-2.06-.94-.94-2.06-.94 2.06-2.06.94zm-11 1L8.5 8.5l.94-2.06 2.06-.94-2.06-.94L8.5 2.5l-.94 2.06-2.06.94zm10 10l.94 2.06.94-2.06 2.06-.94-2.06-.94-.94-2.06-.94 2.06-2.06.94z\"/><path d=\"M17.41 7.96l-1.37-1.37c-.4-.4-.92-.59-1.43-.59-.52 0-1.04.2-1.43.59L10.3 9.45l-7.72 7.72c-.78.78-.78 2.05 0 2.83L4 21.41c.39.39.9.59 1.41.59.51 0 1.02-.2 1.41-.59l7.78-7.78 2.81-2.81c.8-.78.8-2.07 0-2.86zM5.41 20L4 18.59l7.72-7.72 1.47 1.35L5.41 20z\"/>\n",
              "  </svg>\n",
              "      </button>\n",
              "      \n",
              "  <style>\n",
              "    .colab-df-container {\n",
              "      display:flex;\n",
              "      flex-wrap:wrap;\n",
              "      gap: 12px;\n",
              "    }\n",
              "\n",
              "    .colab-df-convert {\n",
              "      background-color: #E8F0FE;\n",
              "      border: none;\n",
              "      border-radius: 50%;\n",
              "      cursor: pointer;\n",
              "      display: none;\n",
              "      fill: #1967D2;\n",
              "      height: 32px;\n",
              "      padding: 0 0 0 0;\n",
              "      width: 32px;\n",
              "    }\n",
              "\n",
              "    .colab-df-convert:hover {\n",
              "      background-color: #E2EBFA;\n",
              "      box-shadow: 0px 1px 2px rgba(60, 64, 67, 0.3), 0px 1px 3px 1px rgba(60, 64, 67, 0.15);\n",
              "      fill: #174EA6;\n",
              "    }\n",
              "\n",
              "    [theme=dark] .colab-df-convert {\n",
              "      background-color: #3B4455;\n",
              "      fill: #D2E3FC;\n",
              "    }\n",
              "\n",
              "    [theme=dark] .colab-df-convert:hover {\n",
              "      background-color: #434B5C;\n",
              "      box-shadow: 0px 1px 3px 1px rgba(0, 0, 0, 0.15);\n",
              "      filter: drop-shadow(0px 1px 2px rgba(0, 0, 0, 0.3));\n",
              "      fill: #FFFFFF;\n",
              "    }\n",
              "  </style>\n",
              "\n",
              "      <script>\n",
              "        const buttonEl =\n",
              "          document.querySelector('#df-562a9552-554a-4b29-9cf3-5e59735117e3 button.colab-df-convert');\n",
              "        buttonEl.style.display =\n",
              "          google.colab.kernel.accessAllowed ? 'block' : 'none';\n",
              "\n",
              "        async function convertToInteractive(key) {\n",
              "          const element = document.querySelector('#df-562a9552-554a-4b29-9cf3-5e59735117e3');\n",
              "          const dataTable =\n",
              "            await google.colab.kernel.invokeFunction('convertToInteractive',\n",
              "                                                     [key], {});\n",
              "          if (!dataTable) return;\n",
              "\n",
              "          const docLinkHtml = 'Like what you see? Visit the ' +\n",
              "            '<a target=\"_blank\" href=https://colab.research.google.com/notebooks/data_table.ipynb>data table notebook</a>'\n",
              "            + ' to learn more about interactive tables.';\n",
              "          element.innerHTML = '';\n",
              "          dataTable['output_type'] = 'display_data';\n",
              "          await google.colab.output.renderOutput(dataTable, element);\n",
              "          const docLink = document.createElement('div');\n",
              "          docLink.innerHTML = docLinkHtml;\n",
              "          element.appendChild(docLink);\n",
              "        }\n",
              "      </script>\n",
              "    </div>\n",
              "  </div>\n",
              "  "
            ]
          },
          "metadata": {},
          "execution_count": 452
        }
      ],
      "source": [
        "X_train"
      ]
    },
    {
      "cell_type": "markdown",
      "source": [
        "For this assignment I am taking two machine learning models which are K Nearest neighbours and gaussian naive bayes"
      ],
      "metadata": {
        "id": "AksCw6Lvnjtb"
      },
      "id": "AksCw6Lvnjtb"
    },
    {
      "cell_type": "markdown",
      "source": [
        "## K Nearest neighbours for PD Estimation"
      ],
      "metadata": {
        "id": "m73QtIHkLEmc"
      },
      "id": "m73QtIHkLEmc"
    },
    {
      "cell_type": "markdown",
      "source": [
        "The k-nearest neighbors (KNN) algorithm is a data classification method for estimating the likelihood that a data point will become a member of one group or another based on what group the data points nearest to it belong to."
      ],
      "metadata": {
        "id": "eSNCa0ry9Ut9"
      },
      "id": "eSNCa0ry9Ut9"
    },
    {
      "cell_type": "code",
      "source": [
        "from imblearn.combine import SMOTEENN"
      ],
      "metadata": {
        "id": "ZB38xk4OjzsD"
      },
      "id": "ZB38xk4OjzsD",
      "execution_count": 453,
      "outputs": []
    },
    {
      "cell_type": "code",
      "source": [
        "first_cluster_train = X_train[X_train.Clusters==0].iloc[:,:-1]\n",
        "second_cluster_train = X_train[X_train.Clusters==1].iloc[:,:-1]"
      ],
      "metadata": {
        "id": "4Bq3vlSsLa60"
      },
      "id": "4Bq3vlSsLa60",
      "execution_count": 454,
      "outputs": []
    },
    {
      "cell_type": "code",
      "execution_count": 455,
      "id": "13beb155",
      "metadata": {
        "id": "13beb155"
      },
      "outputs": [],
      "source": [
        "X_train1 = first_cluster_train\n",
        "y_train1 = y_train[y_train.Clusters==0]['Risk']"
      ]
    },
    {
      "cell_type": "markdown",
      "source": [
        "Applying SMOTE for class imbalance"
      ],
      "metadata": {
        "id": "mSYGHRXTq4VZ"
      },
      "id": "mSYGHRXTq4VZ"
    },
    {
      "cell_type": "code",
      "source": [
        "smote = SMOTEENN(random_state=2)\n",
        "X_train1, y_train1 = smote.fit_resample(X_train1, y_train1.ravel())\n"
      ],
      "metadata": {
        "id": "5T633Eg7kv_V"
      },
      "id": "5T633Eg7kv_V",
      "execution_count": 456,
      "outputs": []
    },
    {
      "cell_type": "code",
      "source": [
        "first_cluster_test = X_test[X_test.Clusters==0].iloc[:,:-1]\n",
        "second_cluster_test = X_test[X_test.Clusters==1].iloc[:,:-1]"
      ],
      "metadata": {
        "id": "ODOG6GM-Ker-"
      },
      "id": "ODOG6GM-Ker-",
      "execution_count": 457,
      "outputs": []
    },
    {
      "cell_type": "code",
      "source": [
        "X_test1 = first_cluster_test\n",
        "y_test1 = y_test[y_test.Clusters==0]['Risk']"
      ],
      "metadata": {
        "id": "ns8CCNKOKj2k"
      },
      "id": "ns8CCNKOKj2k",
      "execution_count": 458,
      "outputs": []
    },
    {
      "cell_type": "code",
      "source": [
        "import numpy as np\n",
        "from sklearn.neighbors import KNeighborsClassifier\n",
        "from sklearn import metrics\n"
      ],
      "metadata": {
        "id": "DyDNEx37LBva"
      },
      "id": "DyDNEx37LBva",
      "execution_count": 459,
      "outputs": []
    },
    {
      "cell_type": "markdown",
      "source": [
        "In K Neighbours we have to take n_neighbours for that I have created for loop and find n_neighbours which have high acuuracy"
      ],
      "metadata": {
        "id": "-sjzPJKpougj"
      },
      "id": "-sjzPJKpougj"
    },
    {
      "cell_type": "code",
      "execution_count": 460,
      "id": "7d9447f9",
      "metadata": {
        "colab": {
          "base_uri": "https://localhost:8080/"
        },
        "id": "7d9447f9",
        "outputId": "f409d9c7-dcc8-40dc-ad8e-8536defa95f6"
      },
      "outputs": [
        {
          "output_type": "stream",
          "name": "stdout",
          "text": [
            "{1: 0.5182926829268293, 2: 0.5487804878048781, 3: 0.49390243902439024, 4: 0.5304878048780488, 5: 0.4878048780487805, 6: 0.5060975609756098, 7: 0.4878048780487805, 8: 0.5182926829268293, 9: 0.5182926829268293, 10: 0.524390243902439, 11: 0.5, 12: 0.5, 13: 0.4695121951219512, 14: 0.4817073170731707, 15: 0.4634146341463415, 16: 0.47560975609756095, 17: 0.4573170731707317, 18: 0.4573170731707317, 19: 0.45121951219512196, 20: 0.4695121951219512, 21: 0.4634146341463415, 22: 0.47560975609756095, 23: 0.45121951219512196, 24: 0.4695121951219512, 25: 0.4634146341463415}\n",
            "[0.5182926829268293, 0.5487804878048781, 0.49390243902439024, 0.5304878048780488, 0.4878048780487805, 0.5060975609756098, 0.4878048780487805, 0.5182926829268293, 0.5182926829268293, 0.524390243902439, 0.5, 0.5, 0.4695121951219512, 0.4817073170731707, 0.4634146341463415, 0.47560975609756095, 0.4573170731707317, 0.4573170731707317, 0.45121951219512196, 0.4695121951219512, 0.4634146341463415, 0.47560975609756095, 0.45121951219512196, 0.4695121951219512, 0.4634146341463415]\n"
          ]
        }
      ],
      "source": [
        "k_range = range(1,26)\n",
        "scores = {}\n",
        "scores_list = []\n",
        "for k in k_range:\n",
        "  knn = KNeighborsClassifier(n_neighbors=k)\n",
        "  knn.fit(X_train1,y_train1)\n",
        "  y_pred = knn.predict(X_test1)\n",
        "  scores[k] = metrics.accuracy_score(y_test1,y_pred)\n",
        "  scores_list.append(metrics.accuracy_score(y_test1,y_pred))\n",
        "print(scores)\n",
        "print(scores_list)\n"
      ]
    },
    {
      "cell_type": "markdown",
      "source": [
        "I am taking n_neighbours value as 4 because it has high accuracy"
      ],
      "metadata": {
        "id": "AQ0sJWwe1Z7g"
      },
      "id": "AQ0sJWwe1Z7g"
    },
    {
      "cell_type": "code",
      "source": [
        "%matplotlib inline\n",
        "import matplotlib.pyplot as plt\n",
        "plt.plot(k_range,scores_list)\n",
        "plt.xlabel('value of K for KNN')\n",
        "plt.ylabel('Testing Accuracy')"
      ],
      "metadata": {
        "colab": {
          "base_uri": "https://localhost:8080/",
          "height": 297
        },
        "id": "JWpuTiu4MRLB",
        "outputId": "a4fa0804-82c6-4d45-e5f1-f0d5ccb99f9a"
      },
      "id": "JWpuTiu4MRLB",
      "execution_count": 461,
      "outputs": [
        {
          "output_type": "execute_result",
          "data": {
            "text/plain": [
              "Text(0, 0.5, 'Testing Accuracy')"
            ]
          },
          "metadata": {},
          "execution_count": 461
        },
        {
          "output_type": "display_data",
          "data": {
            "text/plain": [
              "<Figure size 432x288 with 1 Axes>"
            ],
            "image/png": "[encoded data removed]"
          },
          "metadata": {
            "needs_background": "light"
          }
        }
      ]
    },
    {
      "cell_type": "code",
      "source": [
        "knn = KNeighborsClassifier(n_neighbors=4)\n",
        "knn.fit(X_train1,y_train1)"
      ],
      "metadata": {
        "colab": {
          "base_uri": "https://localhost:8080/"
        },
        "id": "4KlpaHSznMOE",
        "outputId": "f126470e-2d4a-46e1-ebda-e685685d6cc0"
      },
      "id": "4KlpaHSznMOE",
      "execution_count": 462,
      "outputs": [
        {
          "output_type": "execute_result",
          "data": {
            "text/plain": [
              "KNeighborsClassifier(n_neighbors=4)"
            ]
          },
          "metadata": {},
          "execution_count": 462
        }
      ]
    },
    {
      "cell_type": "code",
      "source": [
        "pred_prob1 = knn.predict(X_test1)"
      ],
      "metadata": {
        "id": "3AJG-1BnnYVz"
      },
      "id": "3AJG-1BnnYVz",
      "execution_count": 463,
      "outputs": []
    },
    {
      "cell_type": "code",
      "source": [
        "# predicted values \n",
        "print(pred_prob1)\n"
      ],
      "metadata": {
        "colab": {
          "base_uri": "https://localhost:8080/"
        },
        "id": "NGaxKBrwnYmt",
        "outputId": "9b69432e-043d-42cb-a841-68e405b6cb61"
      },
      "id": "NGaxKBrwnYmt",
      "execution_count": 464,
      "outputs": [
        {
          "output_type": "stream",
          "name": "stdout",
          "text": [
            "[0 0 1 1 0 0 1 1 1 0 0 0 0 1 0 0 1 0 0 0 1 0 1 0 1 0 1 0 0 0 1 1 1 0 1 1 1\n",
            " 1 0 1 0 0 1 1 1 0 0 0 1 0 0 1 0 1 0 0 1 0 0 1 0 1 1 0 0 1 1 1 1 0 0 1 1 0\n",
            " 0 1 0 1 1 1 1 0 0 0 1 1 0 1 0 1 0 1 1 1 1 1 1 1 0 1 1 0 0 0 0 0 0 1 0 1 1\n",
            " 0 0 0 0 1 0 0 0 0 1 1 1 1 0 1 0 1 1 0 0 0 0 1 1 0 1 1 0 0 1 0 1 0 1 0 0 0\n",
            " 1 1 1 0 1 0 1 1 0 0 1 1 0 0 1 1]\n"
          ]
        }
      ]
    },
    {
      "cell_type": "code",
      "source": [
        "# actual values\n",
        "print(y_test1.values)"
      ],
      "metadata": {
        "colab": {
          "base_uri": "https://localhost:8080/"
        },
        "id": "OpTiGNLws5hL",
        "outputId": "13e0cf4a-fb1a-4366-b453-32966dc827d6"
      },
      "id": "OpTiGNLws5hL",
      "execution_count": 465,
      "outputs": [
        {
          "output_type": "stream",
          "name": "stdout",
          "text": [
            "[1 0 0 0 0 0 0 0 0 0 1 0 0 1 0 1 0 0 0 1 0 0 0 0 1 0 0 0 0 0 0 0 0 0 1 1 0\n",
            " 1 0 0 0 0 1 0 0 0 1 0 0 0 0 0 1 0 0 0 0 1 1 0 1 1 0 0 0 0 0 1 0 0 0 0 0 0\n",
            " 0 1 0 1 1 0 0 0 0 0 0 1 0 0 0 0 0 1 1 0 0 0 0 0 1 1 1 0 0 0 0 1 1 0 0 0 1\n",
            " 0 0 0 0 1 0 1 0 0 1 0 0 0 1 0 0 0 0 0 1 1 0 1 0 1 0 0 0 0 0 0 0 0 0 0 0 0\n",
            " 0 0 0 0 0 1 1 0 0 0 1 1 1 0 0 0]\n"
          ]
        }
      ]
    },
    {
      "cell_type": "code",
      "source": [
        "from sklearn.metrics import roc_auc_score, roc_curve"
      ],
      "metadata": {
        "id": "V-Deof-NrGch"
      },
      "id": "V-Deof-NrGch",
      "execution_count": 466,
      "outputs": []
    },
    {
      "cell_type": "code",
      "source": [
        "false_pos, true_pos, _ = roc_curve(y_test1.values, pred_prob1)\n",
        "auc = roc_auc_score(y_test1, pred_prob1)\n",
        "plt.plot(false_pos, true_pos, label='AUC for cluster 1 = {:.4f}'.format(auc))\n",
        "plt.plot([0,1], [0,1],linestyle='--', label='45 degree line')\n",
        "plt.legend()\n",
        "plt.title('AUC-ROC Curve')\n",
        "plt.show()\n"
      ],
      "metadata": {
        "colab": {
          "base_uri": "https://localhost:8080/",
          "height": 281
        },
        "id": "Hlc_dqv8nOnY",
        "outputId": "7658c50e-9296-4826-f3fe-e0636795a0d1"
      },
      "id": "Hlc_dqv8nOnY",
      "execution_count": 467,
      "outputs": [
        {
          "output_type": "display_data",
          "data": {
            "text/plain": [
              "<Figure size 432x288 with 1 Axes>"
            ],
            "image/png": "[encoded data removed]"
          },
          "metadata": {
            "needs_background": "light"
          }
        }
      ]
    },
    {
      "cell_type": "markdown",
      "source": [
        "AUC - ROC curve is a performance measurement for the classification problems at various threshold settings. ROC is a probability curve and AUC represents the degree or measure of separability. It tells how much the model is capable of distinguishing between classes. Higher the AUC, the better the model is at predicting 0 classes as 0 and 1 classes as 1. From above we see AUC as 0.53 which not that good"
      ],
      "metadata": {
        "id": "J8EJz2ev2smJ"
      },
      "id": "J8EJz2ev2smJ"
    },
    {
      "cell_type": "markdown",
      "id": "dad17600",
      "metadata": {
        "id": "dad17600"
      },
      "source": [
        "In what follows, prediction analysis is conducted by creating different datasets based on clusters. For the sake of testing, the following analysis is done with test data, and results in the above figure"
      ]
    },
    {
      "cell_type": "code",
      "source": [
        "print(\"Number of mislabeled points out of a total %d points for training set: %d\" % (X_test1.shape[0],(y_test1 != pred_prob1).sum()))"
      ],
      "metadata": {
        "colab": {
          "base_uri": "https://localhost:8080/"
        },
        "id": "lgAfbhD0uJfV",
        "outputId": "f2caad44-9539-4fb9-d7e6-ebccd79c23fc"
      },
      "id": "lgAfbhD0uJfV",
      "execution_count": 468,
      "outputs": [
        {
          "output_type": "stream",
          "name": "stdout",
          "text": [
            "Number of mislabeled points out of a total 164 points for training set: 77\n"
          ]
        }
      ]
    },
    {
      "cell_type": "markdown",
      "id": "ec7c414d",
      "metadata": {
        "id": "ec7c414d"
      },
      "source": [
        "Similar to what we did with the first set of test data, we create a second set of test data to run the prediction to draw the ROC-AUC curve:"
      ]
    },
    {
      "cell_type": "code",
      "execution_count": 469,
      "id": "604a1295",
      "metadata": {
        "id": "604a1295"
      },
      "outputs": [],
      "source": [
        "X_train2 = second_cluster_train\n",
        "y_train2 = y_train[y_train.Clusters==1]['Risk']"
      ]
    },
    {
      "cell_type": "code",
      "source": [
        "smote = SMOTEENN(random_state=2)\n",
        "X_train2, y_train2 = smote.fit_resample(X_train2, y_train2.ravel())"
      ],
      "metadata": {
        "id": "En2YJBBpl6PT"
      },
      "id": "En2YJBBpl6PT",
      "execution_count": 470,
      "outputs": []
    },
    {
      "cell_type": "code",
      "source": [
        "X_test2 = second_cluster_test\n",
        "y_test2 = y_test[y_test.Clusters==1]['Risk']"
      ],
      "metadata": {
        "id": "qPLM17Ovtsf8"
      },
      "id": "qPLM17Ovtsf8",
      "execution_count": 471,
      "outputs": []
    },
    {
      "cell_type": "code",
      "source": [
        "k_range_2 = range(1,26)\n",
        "scores_2 = {}\n",
        "scores_list_2 = []\n",
        "for k in k_range:\n",
        "  knn = KNeighborsClassifier(n_neighbors=k)\n",
        "  knn.fit(X_train2,y_train2)\n",
        "  y_pred = knn.predict(X_test2)\n",
        "  scores_2[k] = metrics.accuracy_score(y_test2,y_pred)\n",
        "  scores_list_2.append(metrics.accuracy_score(y_test2,y_pred))\n",
        "print(scores_2)\n",
        "print(scores_list_2)"
      ],
      "metadata": {
        "colab": {
          "base_uri": "https://localhost:8080/"
        },
        "id": "k76qQjdWtZng",
        "outputId": "5774abe5-8bac-4e0f-cbd5-0b24a441f8d9"
      },
      "id": "k76qQjdWtZng",
      "execution_count": 472,
      "outputs": [
        {
          "output_type": "stream",
          "name": "stdout",
          "text": [
            "{1: 0.6111111111111112, 2: 0.6111111111111112, 3: 0.5833333333333334, 4: 0.5277777777777778, 5: 0.5277777777777778, 6: 0.5, 7: 0.5, 8: 0.5, 9: 0.5555555555555556, 10: 0.5555555555555556, 11: 0.6111111111111112, 12: 0.5833333333333334, 13: 0.5833333333333334, 14: 0.6111111111111112, 15: 0.5833333333333334, 16: 0.6111111111111112, 17: 0.5833333333333334, 18: 0.6111111111111112, 19: 0.6111111111111112, 20: 0.6111111111111112, 21: 0.6111111111111112, 22: 0.6111111111111112, 23: 0.6111111111111112, 24: 0.5833333333333334, 25: 0.5833333333333334}\n",
            "[0.6111111111111112, 0.6111111111111112, 0.5833333333333334, 0.5277777777777778, 0.5277777777777778, 0.5, 0.5, 0.5, 0.5555555555555556, 0.5555555555555556, 0.6111111111111112, 0.5833333333333334, 0.5833333333333334, 0.6111111111111112, 0.5833333333333334, 0.6111111111111112, 0.5833333333333334, 0.6111111111111112, 0.6111111111111112, 0.6111111111111112, 0.6111111111111112, 0.6111111111111112, 0.6111111111111112, 0.5833333333333334, 0.5833333333333334]\n"
          ]
        }
      ]
    },
    {
      "cell_type": "code",
      "source": [
        "%matplotlib inline\n",
        "import matplotlib.pyplot as plt\n",
        "plt.plot(k_range_2,scores_list_2)\n",
        "plt.xlabel('value of K for KNN')\n",
        "plt.ylabel('Testing Accuracy')"
      ],
      "metadata": {
        "colab": {
          "base_uri": "https://localhost:8080/",
          "height": 297
        },
        "id": "ErpbI8HMt3KG",
        "outputId": "b11681d4-258a-4a08-f23f-8fd2564b2bd5"
      },
      "id": "ErpbI8HMt3KG",
      "execution_count": 473,
      "outputs": [
        {
          "output_type": "execute_result",
          "data": {
            "text/plain": [
              "Text(0, 0.5, 'Testing Accuracy')"
            ]
          },
          "metadata": {},
          "execution_count": 473
        },
        {
          "output_type": "display_data",
          "data": {
            "text/plain": [
              "<Figure size 432x288 with 1 Axes>"
            ],
            "image/png": "[encoded data removed]"
          },
          "metadata": {
            "needs_background": "light"
          }
        }
      ]
    },
    {
      "cell_type": "markdown",
      "source": [
        "I am taking K value for this as 2 because it has high accuracy"
      ],
      "metadata": {
        "id": "10fcgxea6wun"
      },
      "id": "10fcgxea6wun"
    },
    {
      "cell_type": "code",
      "execution_count": 474,
      "id": "344df1de",
      "metadata": {
        "colab": {
          "base_uri": "https://localhost:8080/"
        },
        "id": "344df1de",
        "outputId": "0bfe430b-3194-4402-89e1-591543f45373"
      },
      "outputs": [
        {
          "output_type": "execute_result",
          "data": {
            "text/plain": [
              "KNeighborsClassifier(n_neighbors=2)"
            ]
          },
          "metadata": {},
          "execution_count": 474
        }
      ],
      "source": [
        "knn = KNeighborsClassifier(n_neighbors=2)\n",
        "knn.fit(X_train2,y_train2)"
      ]
    },
    {
      "cell_type": "code",
      "execution_count": 475,
      "id": "9babf1c9",
      "metadata": {
        "id": "9babf1c9"
      },
      "outputs": [],
      "source": [
        "X_test2 = second_cluster_test\n",
        "y_test2 = y_test[y_test.Clusters==1]['Risk']\n",
        "pred_prob2 = knn.predict(X_test2)"
      ]
    },
    {
      "cell_type": "code",
      "source": [
        "print(pred_prob2)"
      ],
      "metadata": {
        "colab": {
          "base_uri": "https://localhost:8080/"
        },
        "id": "rNHpHsidr2b4",
        "outputId": "abecaf2a-a97a-446c-c559-9a65a41585fb"
      },
      "id": "rNHpHsidr2b4",
      "execution_count": 476,
      "outputs": [
        {
          "output_type": "stream",
          "name": "stdout",
          "text": [
            "[0 1 0 1 1 0 0 0 0 0 0 0 0 0 0 0 1 0 0 0 0 1 0 0 1 0 1 0 0 0 0 0 0 0 0 0]\n"
          ]
        }
      ]
    },
    {
      "cell_type": "code",
      "source": [
        "print(y_test2.values)"
      ],
      "metadata": {
        "colab": {
          "base_uri": "https://localhost:8080/"
        },
        "id": "ImFI80wesvfy",
        "outputId": "2d8c03d7-9920-44b4-90fd-f24a9010eecb"
      },
      "id": "ImFI80wesvfy",
      "execution_count": 477,
      "outputs": [
        {
          "output_type": "stream",
          "name": "stdout",
          "text": [
            "[0 0 1 1 1 0 0 0 0 0 1 0 1 0 1 1 0 0 1 1 0 1 0 1 1 0 1 0 1 0 0 1 0 1 1 0]\n"
          ]
        }
      ]
    },
    {
      "cell_type": "code",
      "execution_count": 478,
      "id": "cbee2586",
      "metadata": {
        "scrolled": true,
        "colab": {
          "base_uri": "https://localhost:8080/",
          "height": 281
        },
        "id": "cbee2586",
        "outputId": "c9b688fd-87ba-48a4-93c4-29017ea3932d"
      },
      "outputs": [
        {
          "output_type": "display_data",
          "data": {
            "text/plain": [
              "<Figure size 432x288 with 1 Axes>"
            ],
            "image/png": "[encoded data removed]"
          },
          "metadata": {
            "needs_background": "light"
          }
        }
      ],
      "source": [
        "false_pos, true_pos, _ = roc_curve(y_test2.values, pred_prob2)\n",
        "auc = roc_auc_score(y_test2, pred_prob2)\n",
        "plt.plot(false_pos, true_pos, label='AUC for cluster 2 = {:.4f}'.format(auc))\n",
        "plt.plot([0,1], [0,1],linestyle='--', label='45 degree line')\n",
        "plt.legend()\n",
        "plt.title('AUC-ROC Curve')\n",
        "plt.show()\n"
      ]
    },
    {
      "cell_type": "markdown",
      "source": [
        "For this AUC-ROC curve the AUC values is 0.59 which is better than above curve "
      ],
      "metadata": {
        "id": "Kj-Urco729LJ"
      },
      "id": "Kj-Urco729LJ"
    },
    {
      "cell_type": "code",
      "source": [
        "print(\"Number of mislabeled points out of a total %d points for training set: %d\" % (X_test2.shape[0],(y_test2 != pred_prob2).sum()))"
      ],
      "metadata": {
        "colab": {
          "base_uri": "https://localhost:8080/"
        },
        "id": "rn0661hQuT3H",
        "outputId": "8d43028b-d3b3-49dc-f378-7e8d98aab023"
      },
      "id": "rn0661hQuT3H",
      "execution_count": 479,
      "outputs": [
        {
          "output_type": "stream",
          "name": "stdout",
          "text": [
            "Number of mislabeled points out of a total 36 points for training set: 14\n"
          ]
        }
      ]
    },
    {
      "cell_type": "markdown",
      "source": [
        "## Gaussian Naive Bayes "
      ],
      "metadata": {
        "id": "DUNmmNmXsxPK"
      },
      "id": "DUNmmNmXsxPK"
    },
    {
      "cell_type": "code",
      "source": [
        "\n",
        "from sklearn.naive_bayes import GaussianNB\n",
        "nb = GaussianNB()"
      ],
      "metadata": {
        "id": "9-E5Ens5tBkZ"
      },
      "id": "9-E5Ens5tBkZ",
      "execution_count": 480,
      "outputs": []
    },
    {
      "cell_type": "code",
      "source": [
        "nb.fit(X_train1,y_train1)"
      ],
      "metadata": {
        "colab": {
          "base_uri": "https://localhost:8080/"
        },
        "id": "2nwUTi5ItLYB",
        "outputId": "27c486d9-af83-4416-97de-0bcfe6e68513"
      },
      "id": "2nwUTi5ItLYB",
      "execution_count": 481,
      "outputs": [
        {
          "output_type": "execute_result",
          "data": {
            "text/plain": [
              "GaussianNB()"
            ]
          },
          "metadata": {},
          "execution_count": 481
        }
      ]
    },
    {
      "cell_type": "code",
      "source": [
        "pred_prob3 = nb.predict(X_test1)"
      ],
      "metadata": {
        "id": "zL4JAzxptUc4"
      },
      "id": "zL4JAzxptUc4",
      "execution_count": 482,
      "outputs": []
    },
    {
      "cell_type": "code",
      "source": [
        "print(pred_prob3)"
      ],
      "metadata": {
        "colab": {
          "base_uri": "https://localhost:8080/"
        },
        "id": "MJM0DE58tggc",
        "outputId": "267ccd55-2bb4-44b0-bf05-b601fcd2b058"
      },
      "id": "MJM0DE58tggc",
      "execution_count": 483,
      "outputs": [
        {
          "output_type": "stream",
          "name": "stdout",
          "text": [
            "[1 0 1 1 0 0 1 1 1 1 0 1 0 1 1 1 0 0 1 1 1 0 1 0 1 1 1 0 0 0 1 1 1 0 1 1 1\n",
            " 1 0 0 1 0 1 1 1 0 0 0 1 1 0 1 1 0 0 0 1 0 0 1 0 1 1 1 1 1 1 1 1 1 1 1 1 1\n",
            " 1 1 0 1 1 1 0 1 0 1 1 1 0 1 0 1 0 1 0 1 1 1 1 1 0 1 1 0 0 0 1 0 1 1 0 1 1\n",
            " 0 0 0 0 1 0 1 1 1 1 1 1 0 0 1 0 1 0 1 0 1 1 0 1 0 0 1 1 0 0 1 0 0 1 1 0 1\n",
            " 0 1 0 1 1 0 1 1 1 1 0 0 0 1 0 1]\n"
          ]
        }
      ]
    },
    {
      "cell_type": "code",
      "source": [
        "pred_prob3.shape"
      ],
      "metadata": {
        "colab": {
          "base_uri": "https://localhost:8080/"
        },
        "id": "z3Z1_nATD6zb",
        "outputId": "ee9ee918-bb2e-4d3d-c531-9a1e459c4879"
      },
      "id": "z3Z1_nATD6zb",
      "execution_count": 484,
      "outputs": [
        {
          "output_type": "execute_result",
          "data": {
            "text/plain": [
              "(164,)"
            ]
          },
          "metadata": {},
          "execution_count": 484
        }
      ]
    },
    {
      "cell_type": "code",
      "source": [
        "print(y_test1.values)"
      ],
      "metadata": {
        "colab": {
          "base_uri": "https://localhost:8080/"
        },
        "id": "_vNxXPAdtqrO",
        "outputId": "a46e082b-c397-4f2d-ff1d-d056dfd048ff"
      },
      "id": "_vNxXPAdtqrO",
      "execution_count": 485,
      "outputs": [
        {
          "output_type": "stream",
          "name": "stdout",
          "text": [
            "[1 0 0 0 0 0 0 0 0 0 1 0 0 1 0 1 0 0 0 1 0 0 0 0 1 0 0 0 0 0 0 0 0 0 1 1 0\n",
            " 1 0 0 0 0 1 0 0 0 1 0 0 0 0 0 1 0 0 0 0 1 1 0 1 1 0 0 0 0 0 1 0 0 0 0 0 0\n",
            " 0 1 0 1 1 0 0 0 0 0 0 1 0 0 0 0 0 1 1 0 0 0 0 0 1 1 1 0 0 0 0 1 1 0 0 0 1\n",
            " 0 0 0 0 1 0 1 0 0 1 0 0 0 1 0 0 0 0 0 1 1 0 1 0 1 0 0 0 0 0 0 0 0 0 0 0 0\n",
            " 0 0 0 0 0 1 1 0 0 0 1 1 1 0 0 0]\n"
          ]
        }
      ]
    },
    {
      "cell_type": "code",
      "source": [
        "false_pos, true_pos, _ = roc_curve(y_test1.values, pred_prob3)\n",
        "auc = roc_auc_score(y_test1, pred_prob3)\n",
        "plt.plot(false_pos, true_pos, label='AUC for cluster 1 = {:.4f}'.format(auc))\n",
        "plt.plot([0,1], [0,1],linestyle='--', label='45 degree line')\n",
        "plt.legend()\n",
        "plt.title('AUC-ROC Curve')\n",
        "plt.show()"
      ],
      "metadata": {
        "colab": {
          "base_uri": "https://localhost:8080/",
          "height": 281
        },
        "id": "JaQ3UNDBtv3k",
        "outputId": "d09e5753-9fe2-4416-f0d9-bbba04916b8f"
      },
      "id": "JaQ3UNDBtv3k",
      "execution_count": 486,
      "outputs": [
        {
          "output_type": "display_data",
          "data": {
            "text/plain": [
              "<Figure size 432x288 with 1 Axes>"
            ],
            "image/png": "[encoded data removed]"
          },
          "metadata": {
            "needs_background": "light"
          }
        }
      ]
    },
    {
      "cell_type": "markdown",
      "source": [
        "The AUC-Roc value for this curve is 0.50 which is also not good"
      ],
      "metadata": {
        "id": "CcQ7znnD5V8l"
      },
      "id": "CcQ7znnD5V8l"
    },
    {
      "cell_type": "code",
      "source": [
        "gaussianNbscore = metrics.accuracy_score(y_test1,pred_prob3)"
      ],
      "metadata": {
        "id": "4AqNwP8Nt3vN"
      },
      "id": "4AqNwP8Nt3vN",
      "execution_count": 487,
      "outputs": []
    },
    {
      "cell_type": "code",
      "source": [
        "print(gaussianNbscore)"
      ],
      "metadata": {
        "colab": {
          "base_uri": "https://localhost:8080/"
        },
        "id": "BvxFMHEPufbs",
        "outputId": "aa9ee86e-d952-4377-d05e-31e03260bba9"
      },
      "id": "BvxFMHEPufbs",
      "execution_count": 488,
      "outputs": [
        {
          "output_type": "stream",
          "name": "stdout",
          "text": [
            "0.45121951219512196\n"
          ]
        }
      ]
    },
    {
      "cell_type": "code",
      "source": [
        "print(\"Number of mislabeled points out of a total %d points for training set: %d\" % (X_test1.shape[0],(y_test1 != pred_prob3).sum()))"
      ],
      "metadata": {
        "colab": {
          "base_uri": "https://localhost:8080/"
        },
        "id": "nvrVQCzZuirp",
        "outputId": "3ff9cd83-0f48-40d5-c939-9d50c95bd709"
      },
      "id": "nvrVQCzZuirp",
      "execution_count": 489,
      "outputs": [
        {
          "output_type": "stream",
          "name": "stdout",
          "text": [
            "Number of mislabeled points out of a total 164 points for training set: 90\n"
          ]
        }
      ]
    },
    {
      "cell_type": "code",
      "source": [
        "nb.fit(X_train2,y_train2)"
      ],
      "metadata": {
        "colab": {
          "base_uri": "https://localhost:8080/"
        },
        "id": "ACkhFmQ0vqy5",
        "outputId": "44c20aff-1185-40bd-ce06-822fcba31af5"
      },
      "id": "ACkhFmQ0vqy5",
      "execution_count": 490,
      "outputs": [
        {
          "output_type": "execute_result",
          "data": {
            "text/plain": [
              "GaussianNB()"
            ]
          },
          "metadata": {},
          "execution_count": 490
        }
      ]
    },
    {
      "cell_type": "code",
      "source": [
        "pred_prob4 = nb.predict(X_test2)"
      ],
      "metadata": {
        "id": "RmumW4A6Cfo3"
      },
      "id": "RmumW4A6Cfo3",
      "execution_count": 491,
      "outputs": []
    },
    {
      "cell_type": "code",
      "source": [
        "print(pred_prob4)"
      ],
      "metadata": {
        "colab": {
          "base_uri": "https://localhost:8080/"
        },
        "id": "_KesL2PTCry2",
        "outputId": "c5a33f65-1341-4cb7-ff86-6b438a7db4cb"
      },
      "id": "_KesL2PTCry2",
      "execution_count": 492,
      "outputs": [
        {
          "output_type": "stream",
          "name": "stdout",
          "text": [
            "[0 0 0 0 0 0 0 1 0 0 0 0 0 0 0 0 0 0 0 1 0 0 0 1 1 0 0 0 0 0 0 1 0 0 1 0]\n"
          ]
        }
      ]
    },
    {
      "cell_type": "code",
      "source": [
        "print(y_test2.values)"
      ],
      "metadata": {
        "colab": {
          "base_uri": "https://localhost:8080/"
        },
        "id": "IU8uj0rxCw9Z",
        "outputId": "9b21caff-9796-4cad-9a1c-5ed0b381bf5a"
      },
      "id": "IU8uj0rxCw9Z",
      "execution_count": 493,
      "outputs": [
        {
          "output_type": "stream",
          "name": "stdout",
          "text": [
            "[0 0 1 1 1 0 0 0 0 0 1 0 1 0 1 1 0 0 1 1 0 1 0 1 1 0 1 0 1 0 0 1 0 1 1 0]\n"
          ]
        }
      ]
    },
    {
      "cell_type": "code",
      "source": [
        "false_pos, true_pos, _ = roc_curve(y_test2.values, pred_prob4)\n",
        "auc = roc_auc_score(y_test2, pred_prob4)\n",
        "plt.plot(false_pos, true_pos, label='AUC for cluster 1 = {:.4f}'.format(auc))\n",
        "plt.plot([0,1], [0,1],linestyle='--', label='45 degree line')\n",
        "plt.legend()\n",
        "plt.title('AUC-ROC Curve')\n",
        "plt.show()"
      ],
      "metadata": {
        "colab": {
          "base_uri": "https://localhost:8080/",
          "height": 281
        },
        "id": "F4XkM0W1C1kJ",
        "outputId": "9f2fa5d5-4a6f-40fb-d581-b0e662a917be"
      },
      "id": "F4XkM0W1C1kJ",
      "execution_count": 494,
      "outputs": [
        {
          "output_type": "display_data",
          "data": {
            "text/plain": [
              "<Figure size 432x288 with 1 Axes>"
            ],
            "image/png": "[encoded data removed]"
          },
          "metadata": {
            "needs_background": "light"
          }
        }
      ]
    },
    {
      "cell_type": "markdown",
      "source": [
        "The AUC-ROC value for this curve is 0.62 which is better from above"
      ],
      "metadata": {
        "id": "au91k7T15wpD"
      },
      "id": "au91k7T15wpD"
    },
    {
      "cell_type": "code",
      "source": [
        "gaussianNbscore2 = metrics.accuracy_score(y_test2,pred_prob4)"
      ],
      "metadata": {
        "id": "sfCi7JqCC-aP"
      },
      "id": "sfCi7JqCC-aP",
      "execution_count": 495,
      "outputs": []
    },
    {
      "cell_type": "code",
      "source": [
        "print(gaussianNbscore2)"
      ],
      "metadata": {
        "colab": {
          "base_uri": "https://localhost:8080/"
        },
        "id": "30B329ZGDFQ-",
        "outputId": "c1f24e13-2dc5-4cfc-fecf-4d71d3db2ec9"
      },
      "id": "30B329ZGDFQ-",
      "execution_count": 496,
      "outputs": [
        {
          "output_type": "stream",
          "name": "stdout",
          "text": [
            "0.6388888888888888\n"
          ]
        }
      ]
    },
    {
      "cell_type": "code",
      "source": [
        "print(\"Number of mislabeled points out of a total %d points for training set: %d\" % (X_test2.shape[0],(y_test2 != pred_prob4).sum()))"
      ],
      "metadata": {
        "colab": {
          "base_uri": "https://localhost:8080/"
        },
        "id": "37nPLc6aDKOo",
        "outputId": "95be56e2-fd8f-493d-f1e9-2c576713d5e4"
      },
      "id": "37nPLc6aDKOo",
      "execution_count": 497,
      "outputs": [
        {
          "output_type": "stream",
          "name": "stdout",
          "text": [
            "Number of mislabeled points out of a total 36 points for training set: 13\n"
          ]
        }
      ]
    },
    {
      "cell_type": "code",
      "source": [],
      "metadata": {
        "id": "K1GEu88KDksA"
      },
      "id": "K1GEu88KDksA",
      "execution_count": 497,
      "outputs": []
    }
  ],
  "metadata": {
    "kernelspec": {
      "display_name": "Python 3 (ipykernel)",
      "language": "python",
      "name": "python3"
    },
    "language_info": {
      "codemirror_mode": {
        "name": "ipython",
        "version": 3
      },
      "file_extension": ".py",
      "mimetype": "text/x-python",
      "name": "python",
      "nbconvert_exporter": "python",
      "pygments_lexer": "ipython3",
      "version": "3.9.7"
    },
    "latex_envs": {
      "LaTeX_envs_menu_present": true,
      "autoclose": false,
      "autocomplete": true,
      "bibliofile": "biblio.bib",
      "cite_by": "apalike",
      "current_citInitial": 1,
      "eqLabelWithNumbers": true,
      "eqNumInitial": 1,
      "hotkeys": {
        "equation": "Ctrl-E",
        "itemize": "Ctrl-I"
      },
      "labels_anchors": false,
      "latex_user_defs": false,
      "report_style_numbering": false,
      "user_envs_cfg": false
    },
    "toc": {
      "base_numbering": 1,
      "nav_menu": {},
      "number_sections": true,
      "sideBar": true,
      "skip_h1_title": false,
      "title_cell": "Table of Contents",
      "title_sidebar": "Contents",
      "toc_cell": false,
      "toc_position": {},
      "toc_section_display": true,
      "toc_window_display": false
    },
    "colab": {
      "provenance": []
    }
  },
  "nbformat": 4,
  "nbformat_minor": 5
}