{
 "cells": [
  {
   "cell_type": "markdown",
   "id": "f1a21dfa",
   "metadata": {},
   "source": [
    "# Assignment-2\n",
    "Due date: Oct. 3"
   ]
  },
  {
   "cell_type": "markdown",
   "id": "b0c432fc",
   "metadata": {},
   "source": [
    "In this assignment, you are working at a hypothetical bank called `InvRes` Bank offering consulting service to its customers. Your first aim is to find out the risk level of these stocks relative to the market index.\n",
    "\n",
    "\n",
    "\n",
    "To accomplish this task, you will use Capital Asset Pricing Model (CAPM), which dates back to 1960’s, yet still powerful tool in finance due to its intuitive and easy-to-apply nature. As it is completely white-box model, it makes it easy to understand and explain. "
   ]
  },
  {
   "cell_type": "markdown",
   "id": "b72060eb",
   "metadata": {},
   "source": [
    "Once you estimate the slope coefficient (beta) and intercept term (alpha) of the CAPM model, you will be able to assess if the asset is risky compared to market. Then, your next task is to find out the stock with best risk-return relationship. To do that, you are required to employ the following ratios:\n",
    "\n",
    "• Sharpe ratio\n",
    "\n",
    "• Treynor ratio"
   ]
  },
  {
   "cell_type": "markdown",
   "id": "94723035",
   "metadata": {},
   "source": [
    "You can pick any two stocks and market index other than those we have in the class."
   ]
  },
  {
   "cell_type": "markdown",
   "id": "81bb9e36",
   "metadata": {},
   "source": [
    "This assignment will be divided into 4 milestones.\n",
    "\n",
    "1. Accessing the data and obtain daily risk-free rate. Besides, analyze data via summary statistic. (25 pts)\n",
    "\n",
    "2. Examine the data through visualization and correlation. Calculate returns of the stocks and market. (25 pts)\n",
    "\n",
    "3. Run Capital Asset Pricing Model and interpret the results. (25 pts)\n",
    "\n",
    "4. Calculate Sharpe and Treynor measures. Compare and interpret the results and conclude. (25 pts)\n"
   ]
  },
  {
   "cell_type": "code",
   "execution_count": 1,
   "id": "6c583b0d",
   "metadata": {},
   "outputs": [],
   "source": [
    "import pandas as pd\n",
    "import matplotlib.pyplot as plt\n",
    "import numpy as np\n",
    "import datetime\n",
    "import seaborn as sns\n",
    "import warnings\n",
    "import yfinance as yf\n",
    "import seaborn as sns; sns.set()\n",
    "yf.pdr_override() \n",
    "%matplotlib inline\n",
    "warnings.filterwarnings('ignore')"
   ]
  },
  {
   "cell_type": "code",
   "execution_count": 2,
   "id": "0ba5a1b0",
   "metadata": {},
   "outputs": [
    {
     "name": "stdout",
     "output_type": "stream",
     "text": [
      "Requirement already satisfied: yfinance in c:\\users\\sreek\\anaconda3\\lib\\site-packages (0.1.74)\n",
      "Requirement already satisfied: numpy>=1.15 in c:\\users\\sreek\\anaconda3\\lib\\site-packages (from yfinance) (1.21.5)\n",
      "Requirement already satisfied: multitasking>=0.0.7 in c:\\users\\sreek\\anaconda3\\lib\\site-packages (from yfinance) (0.0.11)\n",
      "Requirement already satisfied: lxml>=4.5.1 in c:\\users\\sreek\\anaconda3\\lib\\site-packages (from yfinance) (4.8.0)\n",
      "Requirement already satisfied: requests>=2.26 in c:\\users\\sreek\\anaconda3\\lib\\site-packages (from yfinance) (2.27.1)\n",
      "Requirement already satisfied: pandas>=0.24.0 in c:\\users\\sreek\\anaconda3\\lib\\site-packages (from yfinance) (1.4.2)\n",
      "Requirement already satisfied: pytz>=2020.1 in c:\\users\\sreek\\anaconda3\\lib\\site-packages (from pandas>=0.24.0->yfinance) (2021.3)\n",
      "Requirement already satisfied: python-dateutil>=2.8.1 in c:\\users\\sreek\\anaconda3\\lib\\site-packages (from pandas>=0.24.0->yfinance) (2.8.2)\n",
      "Requirement already satisfied: six>=1.5 in c:\\users\\sreek\\anaconda3\\lib\\site-packages (from python-dateutil>=2.8.1->pandas>=0.24.0->yfinance) (1.16.0)\n",
      "Requirement already satisfied: idna<4,>=2.5 in c:\\users\\sreek\\anaconda3\\lib\\site-packages (from requests>=2.26->yfinance) (3.3)\n",
      "Requirement already satisfied: charset-normalizer~=2.0.0 in c:\\users\\sreek\\anaconda3\\lib\\site-packages (from requests>=2.26->yfinance) (2.0.4)\n",
      "Requirement already satisfied: certifi>=2017.4.17 in c:\\users\\sreek\\anaconda3\\lib\\site-packages (from requests>=2.26->yfinance) (2021.10.8)\n",
      "Requirement already satisfied: urllib3<1.27,>=1.21.1 in c:\\users\\sreek\\anaconda3\\lib\\site-packages (from requests>=2.26->yfinance) (1.26.9)\n"
     ]
    }
   ],
   "source": [
    "! pip install yfinance"
   ]
  },
  {
   "cell_type": "code",
   "execution_count": 4,
   "id": "4b00f73f",
   "metadata": {},
   "outputs": [
    {
     "name": "stdout",
     "output_type": "stream",
     "text": [
      "[*********************100%***********************]  3 of 3 completed\n"
     ]
    }
   ],
   "source": [
    "stocks = ['NFLX','PYPL','^GSPC']\n",
    "start = datetime.datetime(2021,1,1)\n",
    "end = datetime.datetime(2021,4,1)\n",
    "stock_price = yf.download(stocks,start=start,end = end,interval='1d')"
   ]
  },
  {
   "cell_type": "code",
   "execution_count": 5,
   "id": "22720468",
   "metadata": {},
   "outputs": [
    {
     "data": {
      "text/html": [
       "<div>\n",
       "<style scoped>\n",
       "    .dataframe tbody tr th:only-of-type {\n",
       "        vertical-align: middle;\n",
       "    }\n",
       "\n",
       "    .dataframe tbody tr th {\n",
       "        vertical-align: top;\n",
       "    }\n",
       "\n",
       "    .dataframe thead tr th {\n",
       "        text-align: left;\n",
       "    }\n",
       "\n",
       "    .dataframe thead tr:last-of-type th {\n",
       "        text-align: right;\n",
       "    }\n",
       "</style>\n",
       "<table border=\"1\" class=\"dataframe\">\n",
       "  <thead>\n",
       "    <tr>\n",
       "      <th></th>\n",
       "      <th colspan=\"3\" halign=\"left\">Adj Close</th>\n",
       "      <th colspan=\"3\" halign=\"left\">Close</th>\n",
       "      <th colspan=\"3\" halign=\"left\">High</th>\n",
       "      <th colspan=\"3\" halign=\"left\">Low</th>\n",
       "      <th colspan=\"3\" halign=\"left\">Open</th>\n",
       "      <th colspan=\"3\" halign=\"left\">Volume</th>\n",
       "    </tr>\n",
       "    <tr>\n",
       "      <th></th>\n",
       "      <th>NFLX</th>\n",
       "      <th>PYPL</th>\n",
       "      <th>^GSPC</th>\n",
       "      <th>NFLX</th>\n",
       "      <th>PYPL</th>\n",
       "      <th>^GSPC</th>\n",
       "      <th>NFLX</th>\n",
       "      <th>PYPL</th>\n",
       "      <th>^GSPC</th>\n",
       "      <th>NFLX</th>\n",
       "      <th>PYPL</th>\n",
       "      <th>^GSPC</th>\n",
       "      <th>NFLX</th>\n",
       "      <th>PYPL</th>\n",
       "      <th>^GSPC</th>\n",
       "      <th>NFLX</th>\n",
       "      <th>PYPL</th>\n",
       "      <th>^GSPC</th>\n",
       "    </tr>\n",
       "    <tr>\n",
       "      <th>Date</th>\n",
       "      <th></th>\n",
       "      <th></th>\n",
       "      <th></th>\n",
       "      <th></th>\n",
       "      <th></th>\n",
       "      <th></th>\n",
       "      <th></th>\n",
       "      <th></th>\n",
       "      <th></th>\n",
       "      <th></th>\n",
       "      <th></th>\n",
       "      <th></th>\n",
       "      <th></th>\n",
       "      <th></th>\n",
       "      <th></th>\n",
       "      <th></th>\n",
       "      <th></th>\n",
       "      <th></th>\n",
       "    </tr>\n",
       "  </thead>\n",
       "  <tbody>\n",
       "    <tr>\n",
       "      <th>2021-01-04</th>\n",
       "      <td>522.859985</td>\n",
       "      <td>231.919998</td>\n",
       "      <td>3700.649902</td>\n",
       "      <td>522.859985</td>\n",
       "      <td>231.919998</td>\n",
       "      <td>3700.649902</td>\n",
       "      <td>540.799988</td>\n",
       "      <td>237.996994</td>\n",
       "      <td>3769.989990</td>\n",
       "      <td>515.090027</td>\n",
       "      <td>227.535004</td>\n",
       "      <td>3662.709961</td>\n",
       "      <td>539.000000</td>\n",
       "      <td>237.800003</td>\n",
       "      <td>3764.610107</td>\n",
       "      <td>4444400</td>\n",
       "      <td>8148700</td>\n",
       "      <td>5006680000</td>\n",
       "    </tr>\n",
       "    <tr>\n",
       "      <th>2021-01-05</th>\n",
       "      <td>520.799988</td>\n",
       "      <td>234.910004</td>\n",
       "      <td>3726.860107</td>\n",
       "      <td>520.799988</td>\n",
       "      <td>234.910004</td>\n",
       "      <td>3726.860107</td>\n",
       "      <td>526.780029</td>\n",
       "      <td>235.639999</td>\n",
       "      <td>3737.830078</td>\n",
       "      <td>515.890015</td>\n",
       "      <td>229.800003</td>\n",
       "      <td>3695.070068</td>\n",
       "      <td>521.549988</td>\n",
       "      <td>230.470001</td>\n",
       "      <td>3698.020020</td>\n",
       "      <td>3133900</td>\n",
       "      <td>5047800</td>\n",
       "      <td>4582620000</td>\n",
       "    </tr>\n",
       "    <tr>\n",
       "      <th>2021-01-06</th>\n",
       "      <td>500.489990</td>\n",
       "      <td>226.830002</td>\n",
       "      <td>3748.139893</td>\n",
       "      <td>500.489990</td>\n",
       "      <td>226.830002</td>\n",
       "      <td>3748.139893</td>\n",
       "      <td>513.099976</td>\n",
       "      <td>232.490005</td>\n",
       "      <td>3783.040039</td>\n",
       "      <td>499.500000</td>\n",
       "      <td>225.701996</td>\n",
       "      <td>3705.340088</td>\n",
       "      <td>511.970001</td>\n",
       "      <td>228.940002</td>\n",
       "      <td>3712.199951</td>\n",
       "      <td>5346200</td>\n",
       "      <td>9211700</td>\n",
       "      <td>6049970000</td>\n",
       "    </tr>\n",
       "    <tr>\n",
       "      <th>2021-01-07</th>\n",
       "      <td>508.890015</td>\n",
       "      <td>235.039993</td>\n",
       "      <td>3803.790039</td>\n",
       "      <td>508.890015</td>\n",
       "      <td>235.039993</td>\n",
       "      <td>3803.790039</td>\n",
       "      <td>516.440002</td>\n",
       "      <td>235.600006</td>\n",
       "      <td>3811.550049</td>\n",
       "      <td>506.420013</td>\n",
       "      <td>229.220001</td>\n",
       "      <td>3764.709961</td>\n",
       "      <td>508.279999</td>\n",
       "      <td>229.460007</td>\n",
       "      <td>3764.709961</td>\n",
       "      <td>3686400</td>\n",
       "      <td>7107900</td>\n",
       "      <td>5080870000</td>\n",
       "    </tr>\n",
       "    <tr>\n",
       "      <th>2021-01-08</th>\n",
       "      <td>510.399994</td>\n",
       "      <td>242.460007</td>\n",
       "      <td>3824.679932</td>\n",
       "      <td>510.399994</td>\n",
       "      <td>242.460007</td>\n",
       "      <td>3824.679932</td>\n",
       "      <td>513.239990</td>\n",
       "      <td>242.910004</td>\n",
       "      <td>3826.689941</td>\n",
       "      <td>504.510010</td>\n",
       "      <td>236.069000</td>\n",
       "      <td>3783.600098</td>\n",
       "      <td>511.309998</td>\n",
       "      <td>237.429993</td>\n",
       "      <td>3815.050049</td>\n",
       "      <td>2973900</td>\n",
       "      <td>6767700</td>\n",
       "      <td>4764180000</td>\n",
       "    </tr>\n",
       "  </tbody>\n",
       "</table>\n",
       "</div>"
      ],
      "text/plain": [
       "             Adj Close                                Close              \\\n",
       "                  NFLX        PYPL        ^GSPC        NFLX        PYPL   \n",
       "Date                                                                      \n",
       "2021-01-04  522.859985  231.919998  3700.649902  522.859985  231.919998   \n",
       "2021-01-05  520.799988  234.910004  3726.860107  520.799988  234.910004   \n",
       "2021-01-06  500.489990  226.830002  3748.139893  500.489990  226.830002   \n",
       "2021-01-07  508.890015  235.039993  3803.790039  508.890015  235.039993   \n",
       "2021-01-08  510.399994  242.460007  3824.679932  510.399994  242.460007   \n",
       "\n",
       "                               High                                  Low  \\\n",
       "                  ^GSPC        NFLX        PYPL        ^GSPC        NFLX   \n",
       "Date                                                                       \n",
       "2021-01-04  3700.649902  540.799988  237.996994  3769.989990  515.090027   \n",
       "2021-01-05  3726.860107  526.780029  235.639999  3737.830078  515.890015   \n",
       "2021-01-06  3748.139893  513.099976  232.490005  3783.040039  499.500000   \n",
       "2021-01-07  3803.790039  516.440002  235.600006  3811.550049  506.420013   \n",
       "2021-01-08  3824.679932  513.239990  242.910004  3826.689941  504.510010   \n",
       "\n",
       "                                           Open                           \\\n",
       "                  PYPL        ^GSPC        NFLX        PYPL        ^GSPC   \n",
       "Date                                                                       \n",
       "2021-01-04  227.535004  3662.709961  539.000000  237.800003  3764.610107   \n",
       "2021-01-05  229.800003  3695.070068  521.549988  230.470001  3698.020020   \n",
       "2021-01-06  225.701996  3705.340088  511.970001  228.940002  3712.199951   \n",
       "2021-01-07  229.220001  3764.709961  508.279999  229.460007  3764.709961   \n",
       "2021-01-08  236.069000  3783.600098  511.309998  237.429993  3815.050049   \n",
       "\n",
       "             Volume                       \n",
       "               NFLX     PYPL       ^GSPC  \n",
       "Date                                      \n",
       "2021-01-04  4444400  8148700  5006680000  \n",
       "2021-01-05  3133900  5047800  4582620000  \n",
       "2021-01-06  5346200  9211700  6049970000  \n",
       "2021-01-07  3686400  7107900  5080870000  \n",
       "2021-01-08  2973900  6767700  4764180000  "
      ]
     },
     "execution_count": 5,
     "metadata": {},
     "output_type": "execute_result"
    }
   ],
   "source": [
    "stock_price.head()"
   ]
  },
  {
   "cell_type": "code",
   "execution_count": 6,
   "id": "db0ec897",
   "metadata": {},
   "outputs": [],
   "source": [
    "stock_price = stock_price['Close']"
   ]
  },
  {
   "cell_type": "code",
   "execution_count": 7,
   "id": "831588a4",
   "metadata": {},
   "outputs": [
    {
     "data": {
      "text/html": [
       "<div>\n",
       "<style scoped>\n",
       "    .dataframe tbody tr th:only-of-type {\n",
       "        vertical-align: middle;\n",
       "    }\n",
       "\n",
       "    .dataframe tbody tr th {\n",
       "        vertical-align: top;\n",
       "    }\n",
       "\n",
       "    .dataframe thead th {\n",
       "        text-align: right;\n",
       "    }\n",
       "</style>\n",
       "<table border=\"1\" class=\"dataframe\">\n",
       "  <thead>\n",
       "    <tr style=\"text-align: right;\">\n",
       "      <th></th>\n",
       "      <th>NFLX</th>\n",
       "      <th>PYPL</th>\n",
       "      <th>^GSPC</th>\n",
       "    </tr>\n",
       "    <tr>\n",
       "      <th>Date</th>\n",
       "      <th></th>\n",
       "      <th></th>\n",
       "      <th></th>\n",
       "    </tr>\n",
       "  </thead>\n",
       "  <tbody>\n",
       "    <tr>\n",
       "      <th>2021-01-04</th>\n",
       "      <td>522.859985</td>\n",
       "      <td>231.919998</td>\n",
       "      <td>3700.649902</td>\n",
       "    </tr>\n",
       "    <tr>\n",
       "      <th>2021-01-05</th>\n",
       "      <td>520.799988</td>\n",
       "      <td>234.910004</td>\n",
       "      <td>3726.860107</td>\n",
       "    </tr>\n",
       "    <tr>\n",
       "      <th>2021-01-06</th>\n",
       "      <td>500.489990</td>\n",
       "      <td>226.830002</td>\n",
       "      <td>3748.139893</td>\n",
       "    </tr>\n",
       "    <tr>\n",
       "      <th>2021-01-07</th>\n",
       "      <td>508.890015</td>\n",
       "      <td>235.039993</td>\n",
       "      <td>3803.790039</td>\n",
       "    </tr>\n",
       "    <tr>\n",
       "      <th>2021-01-08</th>\n",
       "      <td>510.399994</td>\n",
       "      <td>242.460007</td>\n",
       "      <td>3824.679932</td>\n",
       "    </tr>\n",
       "  </tbody>\n",
       "</table>\n",
       "</div>"
      ],
      "text/plain": [
       "                  NFLX        PYPL        ^GSPC\n",
       "Date                                           \n",
       "2021-01-04  522.859985  231.919998  3700.649902\n",
       "2021-01-05  520.799988  234.910004  3726.860107\n",
       "2021-01-06  500.489990  226.830002  3748.139893\n",
       "2021-01-07  508.890015  235.039993  3803.790039\n",
       "2021-01-08  510.399994  242.460007  3824.679932"
      ]
     },
     "execution_count": 7,
     "metadata": {},
     "output_type": "execute_result"
    }
   ],
   "source": [
    "stock_price.head()"
   ]
  },
  {
   "cell_type": "code",
   "execution_count": 8,
   "id": "f2a2271c",
   "metadata": {},
   "outputs": [
    {
     "data": {
      "text/html": [
       "<div>\n",
       "<style scoped>\n",
       "    .dataframe tbody tr th:only-of-type {\n",
       "        vertical-align: middle;\n",
       "    }\n",
       "\n",
       "    .dataframe tbody tr th {\n",
       "        vertical-align: top;\n",
       "    }\n",
       "\n",
       "    .dataframe thead th {\n",
       "        text-align: right;\n",
       "    }\n",
       "</style>\n",
       "<table border=\"1\" class=\"dataframe\">\n",
       "  <thead>\n",
       "    <tr style=\"text-align: right;\">\n",
       "      <th></th>\n",
       "      <th>NFLX</th>\n",
       "      <th>PYPL</th>\n",
       "      <th>^GSPC</th>\n",
       "    </tr>\n",
       "  </thead>\n",
       "  <tbody>\n",
       "    <tr>\n",
       "      <th>count</th>\n",
       "      <td>61.000000</td>\n",
       "      <td>61.000000</td>\n",
       "      <td>61.000000</td>\n",
       "    </tr>\n",
       "    <tr>\n",
       "      <th>mean</th>\n",
       "      <td>530.436068</td>\n",
       "      <td>252.514509</td>\n",
       "      <td>3865.706899</td>\n",
       "    </tr>\n",
       "    <tr>\n",
       "      <th>std</th>\n",
       "      <td>22.795208</td>\n",
       "      <td>19.487768</td>\n",
       "      <td>71.221421</td>\n",
       "    </tr>\n",
       "    <tr>\n",
       "      <th>min</th>\n",
       "      <td>493.329987</td>\n",
       "      <td>226.089996</td>\n",
       "      <td>3700.649902</td>\n",
       "    </tr>\n",
       "    <tr>\n",
       "      <th>25%</th>\n",
       "      <td>511.290009</td>\n",
       "      <td>239.050003</td>\n",
       "      <td>3811.149902</td>\n",
       "    </tr>\n",
       "    <tr>\n",
       "      <th>50%</th>\n",
       "      <td>524.030029</td>\n",
       "      <td>244.899994</td>\n",
       "      <td>3875.439941</td>\n",
       "    </tr>\n",
       "    <tr>\n",
       "      <th>75%</th>\n",
       "      <td>548.219971</td>\n",
       "      <td>265.000000</td>\n",
       "      <td>3915.590088</td>\n",
       "    </tr>\n",
       "    <tr>\n",
       "      <th>max</th>\n",
       "      <td>586.340027</td>\n",
       "      <td>304.790009</td>\n",
       "      <td>3974.540039</td>\n",
       "    </tr>\n",
       "  </tbody>\n",
       "</table>\n",
       "</div>"
      ],
      "text/plain": [
       "             NFLX        PYPL        ^GSPC\n",
       "count   61.000000   61.000000    61.000000\n",
       "mean   530.436068  252.514509  3865.706899\n",
       "std     22.795208   19.487768    71.221421\n",
       "min    493.329987  226.089996  3700.649902\n",
       "25%    511.290009  239.050003  3811.149902\n",
       "50%    524.030029  244.899994  3875.439941\n",
       "75%    548.219971  265.000000  3915.590088\n",
       "max    586.340027  304.790009  3974.540039"
      ]
     },
     "execution_count": 8,
     "metadata": {},
     "output_type": "execute_result"
    }
   ],
   "source": [
    "stock_price.describe()"
   ]
  },
  {
   "cell_type": "code",
   "execution_count": 9,
   "id": "2220c3f6",
   "metadata": {},
   "outputs": [],
   "source": [
    "stock_price = stock_price.rename({'^GSPC' :'GSPC'},  axis='columns')"
   ]
  },
  {
   "cell_type": "code",
   "execution_count": 10,
   "id": "84a800bb",
   "metadata": {},
   "outputs": [
    {
     "data": {
      "text/html": [
       "<div>\n",
       "<style scoped>\n",
       "    .dataframe tbody tr th:only-of-type {\n",
       "        vertical-align: middle;\n",
       "    }\n",
       "\n",
       "    .dataframe tbody tr th {\n",
       "        vertical-align: top;\n",
       "    }\n",
       "\n",
       "    .dataframe thead th {\n",
       "        text-align: right;\n",
       "    }\n",
       "</style>\n",
       "<table border=\"1\" class=\"dataframe\">\n",
       "  <thead>\n",
       "    <tr style=\"text-align: right;\">\n",
       "      <th></th>\n",
       "      <th>NFLX</th>\n",
       "      <th>PYPL</th>\n",
       "      <th>GSPC</th>\n",
       "    </tr>\n",
       "    <tr>\n",
       "      <th>Date</th>\n",
       "      <th></th>\n",
       "      <th></th>\n",
       "      <th></th>\n",
       "    </tr>\n",
       "  </thead>\n",
       "  <tbody>\n",
       "    <tr>\n",
       "      <th>2021-01-04</th>\n",
       "      <td>522.859985</td>\n",
       "      <td>231.919998</td>\n",
       "      <td>3700.649902</td>\n",
       "    </tr>\n",
       "    <tr>\n",
       "      <th>2021-01-05</th>\n",
       "      <td>520.799988</td>\n",
       "      <td>234.910004</td>\n",
       "      <td>3726.860107</td>\n",
       "    </tr>\n",
       "    <tr>\n",
       "      <th>2021-01-06</th>\n",
       "      <td>500.489990</td>\n",
       "      <td>226.830002</td>\n",
       "      <td>3748.139893</td>\n",
       "    </tr>\n",
       "    <tr>\n",
       "      <th>2021-01-07</th>\n",
       "      <td>508.890015</td>\n",
       "      <td>235.039993</td>\n",
       "      <td>3803.790039</td>\n",
       "    </tr>\n",
       "    <tr>\n",
       "      <th>2021-01-08</th>\n",
       "      <td>510.399994</td>\n",
       "      <td>242.460007</td>\n",
       "      <td>3824.679932</td>\n",
       "    </tr>\n",
       "  </tbody>\n",
       "</table>\n",
       "</div>"
      ],
      "text/plain": [
       "                  NFLX        PYPL         GSPC\n",
       "Date                                           \n",
       "2021-01-04  522.859985  231.919998  3700.649902\n",
       "2021-01-05  520.799988  234.910004  3726.860107\n",
       "2021-01-06  500.489990  226.830002  3748.139893\n",
       "2021-01-07  508.890015  235.039993  3803.790039\n",
       "2021-01-08  510.399994  242.460007  3824.679932"
      ]
     },
     "execution_count": 10,
     "metadata": {},
     "output_type": "execute_result"
    }
   ],
   "source": [
    "stock_price.head()"
   ]
  },
  {
   "cell_type": "code",
   "execution_count": 12,
   "id": "114d5fcc",
   "metadata": {},
   "outputs": [
    {
     "name": "stdout",
     "output_type": "stream",
     "text": [
      "Collecting fredapi\n",
      "  Downloading fredapi-0.5.0-py3-none-any.whl (11 kB)\n",
      "Requirement already satisfied: pandas in c:\\users\\sreek\\anaconda3\\lib\\site-packages (from fredapi) (1.4.2)\n",
      "Requirement already satisfied: python-dateutil>=2.8.1 in c:\\users\\sreek\\anaconda3\\lib\\site-packages (from pandas->fredapi) (2.8.2)\n",
      "Requirement already satisfied: numpy>=1.18.5 in c:\\users\\sreek\\anaconda3\\lib\\site-packages (from pandas->fredapi) (1.21.5)\n",
      "Requirement already satisfied: pytz>=2020.1 in c:\\users\\sreek\\anaconda3\\lib\\site-packages (from pandas->fredapi) (2021.3)\n",
      "Requirement already satisfied: six>=1.5 in c:\\users\\sreek\\anaconda3\\lib\\site-packages (from python-dateutil>=2.8.1->pandas->fredapi) (1.16.0)\n",
      "Installing collected packages: fredapi\n",
      "Successfully installed fredapi-0.5.0\n"
     ]
    }
   ],
   "source": [
    "!pip3 install fredapi"
   ]
  },
  {
   "cell_type": "code",
   "execution_count": 13,
   "id": "2d91da1c",
   "metadata": {},
   "outputs": [],
   "source": [
    "from fredapi import Fred\n",
    "fred = Fred(api_key ='cd037e5c13d2e276da9d01df08b9c108') # my Api key "
   ]
  },
  {
   "cell_type": "code",
   "execution_count": 14,
   "id": "499e20d4",
   "metadata": {},
   "outputs": [
    {
     "data": {
      "text/html": [
       "<div>\n",
       "<style scoped>\n",
       "    .dataframe tbody tr th:only-of-type {\n",
       "        vertical-align: middle;\n",
       "    }\n",
       "\n",
       "    .dataframe tbody tr th {\n",
       "        vertical-align: top;\n",
       "    }\n",
       "\n",
       "    .dataframe thead th {\n",
       "        text-align: right;\n",
       "    }\n",
       "</style>\n",
       "<table border=\"1\" class=\"dataframe\">\n",
       "  <thead>\n",
       "    <tr style=\"text-align: right;\">\n",
       "      <th></th>\n",
       "      <th>frequency</th>\n",
       "      <th>frequency_short</th>\n",
       "      <th>id</th>\n",
       "      <th>last_updated</th>\n",
       "      <th>notes</th>\n",
       "      <th>observation_end</th>\n",
       "      <th>observation_start</th>\n",
       "      <th>popularity</th>\n",
       "      <th>realtime_end</th>\n",
       "      <th>realtime_start</th>\n",
       "      <th>seasonal_adjustment</th>\n",
       "      <th>seasonal_adjustment_short</th>\n",
       "      <th>title</th>\n",
       "      <th>units</th>\n",
       "      <th>units_short</th>\n",
       "    </tr>\n",
       "    <tr>\n",
       "      <th>series id</th>\n",
       "      <th></th>\n",
       "      <th></th>\n",
       "      <th></th>\n",
       "      <th></th>\n",
       "      <th></th>\n",
       "      <th></th>\n",
       "      <th></th>\n",
       "      <th></th>\n",
       "      <th></th>\n",
       "      <th></th>\n",
       "      <th></th>\n",
       "      <th></th>\n",
       "      <th></th>\n",
       "      <th></th>\n",
       "      <th></th>\n",
       "    </tr>\n",
       "  </thead>\n",
       "  <tbody>\n",
       "    <tr>\n",
       "      <th>DGS3MO</th>\n",
       "      <td>Daily</td>\n",
       "      <td>D</td>\n",
       "      <td>DGS3MO</td>\n",
       "      <td>2022-09-28 15:23:10-05:00</td>\n",
       "      <td>For further information regarding treasury con...</td>\n",
       "      <td>2022-09-27</td>\n",
       "      <td>1981-09-01</td>\n",
       "      <td>72</td>\n",
       "      <td>2022-09-28</td>\n",
       "      <td>2022-09-28</td>\n",
       "      <td>Not Seasonally Adjusted</td>\n",
       "      <td>NSA</td>\n",
       "      <td>Market Yield on U.S. Treasury Securities at 3-...</td>\n",
       "      <td>Percent</td>\n",
       "      <td>%</td>\n",
       "    </tr>\n",
       "  </tbody>\n",
       "</table>\n",
       "</div>"
      ],
      "text/plain": [
       "          frequency frequency_short      id              last_updated  \\\n",
       "series id                                                               \n",
       "DGS3MO        Daily               D  DGS3MO 2022-09-28 15:23:10-05:00   \n",
       "\n",
       "                                                       notes observation_end  \\\n",
       "series id                                                                      \n",
       "DGS3MO     For further information regarding treasury con...      2022-09-27   \n",
       "\n",
       "          observation_start popularity realtime_end realtime_start  \\\n",
       "series id                                                            \n",
       "DGS3MO           1981-09-01         72   2022-09-28     2022-09-28   \n",
       "\n",
       "               seasonal_adjustment seasonal_adjustment_short  \\\n",
       "series id                                                      \n",
       "DGS3MO     Not Seasonally Adjusted                       NSA   \n",
       "\n",
       "                                                       title    units  \\\n",
       "series id                                                               \n",
       "DGS3MO     Market Yield on U.S. Treasury Securities at 3-...  Percent   \n",
       "\n",
       "          units_short  \n",
       "series id              \n",
       "DGS3MO              %  "
      ]
     },
     "execution_count": 14,
     "metadata": {},
     "output_type": "execute_result"
    }
   ],
   "source": [
    "fred.search('DGS3MO')"
   ]
  },
  {
   "cell_type": "code",
   "execution_count": 15,
   "id": "9b5b7440",
   "metadata": {},
   "outputs": [
    {
     "data": {
      "text/plain": [
       "1981-09-01    17.01\n",
       "1981-09-02    16.65\n",
       "1981-09-03    16.96\n",
       "1981-09-04    16.64\n",
       "1981-09-07      NaN\n",
       "              ...  \n",
       "2022-09-21     3.31\n",
       "2022-09-22     3.29\n",
       "2022-09-23     3.24\n",
       "2022-09-26     3.39\n",
       "2022-09-27     3.35\n",
       "Length: 10716, dtype: float64"
      ]
     },
     "execution_count": 15,
     "metadata": {},
     "output_type": "execute_result"
    }
   ],
   "source": [
    "risk_free = fred.get_series('DGS3MO')\n",
    "risk_free"
   ]
  },
  {
   "cell_type": "code",
   "execution_count": 19,
   "id": "dd0aab21",
   "metadata": {},
   "outputs": [
    {
     "data": {
      "image/png": "[encoded data removed]",
      "text/plain": [
       "<Figure size 432x288 with 1 Axes>"
      ]
     },
     "metadata": {
      "needs_background": "light"
     },
     "output_type": "display_data"
    }
   ],
   "source": [
    "stock_price.loc[:,['NFLX','PYPL']].plot()\n",
    "plt.title('stock prices')\n",
    "plt.xlabel('Date')\n",
    "plt.show()\n"
   ]
  },
  {
   "cell_type": "code",
   "execution_count": 20,
   "id": "38fa4f5f",
   "metadata": {},
   "outputs": [
    {
     "data": {
      "text/html": [
       "<div>\n",
       "<style scoped>\n",
       "    .dataframe tbody tr th:only-of-type {\n",
       "        vertical-align: middle;\n",
       "    }\n",
       "\n",
       "    .dataframe tbody tr th {\n",
       "        vertical-align: top;\n",
       "    }\n",
       "\n",
       "    .dataframe thead th {\n",
       "        text-align: right;\n",
       "    }\n",
       "</style>\n",
       "<table border=\"1\" class=\"dataframe\">\n",
       "  <thead>\n",
       "    <tr style=\"text-align: right;\">\n",
       "      <th></th>\n",
       "      <th>NFLX</th>\n",
       "      <th>PYPL</th>\n",
       "      <th>GSPC</th>\n",
       "    </tr>\n",
       "  </thead>\n",
       "  <tbody>\n",
       "    <tr>\n",
       "      <th>NFLX</th>\n",
       "      <td>1.000000</td>\n",
       "      <td>0.621473</td>\n",
       "      <td>0.186057</td>\n",
       "    </tr>\n",
       "    <tr>\n",
       "      <th>PYPL</th>\n",
       "      <td>0.621473</td>\n",
       "      <td>1.000000</td>\n",
       "      <td>0.437677</td>\n",
       "    </tr>\n",
       "    <tr>\n",
       "      <th>GSPC</th>\n",
       "      <td>0.186057</td>\n",
       "      <td>0.437677</td>\n",
       "      <td>1.000000</td>\n",
       "    </tr>\n",
       "  </tbody>\n",
       "</table>\n",
       "</div>"
      ],
      "text/plain": [
       "          NFLX      PYPL      GSPC\n",
       "NFLX  1.000000  0.621473  0.186057\n",
       "PYPL  0.621473  1.000000  0.437677\n",
       "GSPC  0.186057  0.437677  1.000000"
      ]
     },
     "execution_count": 20,
     "metadata": {},
     "output_type": "execute_result"
    }
   ],
   "source": [
    "stock_price.corr()"
   ]
  },
  {
   "cell_type": "code",
   "execution_count": 21,
   "id": "11e7c4ba",
   "metadata": {},
   "outputs": [],
   "source": [
    "returns = stock_price.pct_change()\n",
    "returns.dropna(inplace=True)"
   ]
  },
  {
   "cell_type": "code",
   "execution_count": 23,
   "id": "ecaa6f42",
   "metadata": {},
   "outputs": [],
   "source": [
    "risk_free = risk_free['2021-01-01':'2021-04-01']\n",
    "risk_free = risk_free/90 \n",
    "risk_free.dropna(inplace=True)"
   ]
  },
  {
   "cell_type": "code",
   "execution_count": 24,
   "id": "8d8bf9f7",
   "metadata": {},
   "outputs": [
    {
     "data": {
      "image/png": "[encoded data removed]",
      "text/plain": [
       "<Figure size 432x288 with 1 Axes>"
      ]
     },
     "metadata": {
      "needs_background": "light"
     },
     "output_type": "display_data"
    }
   ],
   "source": [
    "plt.plot(risk_free)\n",
    "plt.title('Risk Free Rate')\n",
    "plt.xlabel('Date')\n",
    "plt.xticks(rotation=90)\n",
    "plt.show()"
   ]
  },
  {
   "cell_type": "code",
   "execution_count": 25,
   "id": "0d67d29a",
   "metadata": {},
   "outputs": [
    {
     "data": {
      "text/plain": [
       "Index(['NFLX', 'PYPL', 'GSPC'], dtype='object')"
      ]
     },
     "execution_count": 25,
     "metadata": {},
     "output_type": "execute_result"
    }
   ],
   "source": [
    "returns.columns"
   ]
  },
  {
   "cell_type": "code",
   "execution_count": 26,
   "id": "6b10467f",
   "metadata": {},
   "outputs": [],
   "source": [
    "for i in returns.columns:\n",
    "    returns[f'excess_return_{i}'] = returns[i] - risk_free"
   ]
  },
  {
   "cell_type": "code",
   "execution_count": 27,
   "id": "f02d3134",
   "metadata": {},
   "outputs": [
    {
     "data": {
      "text/html": [
       "<div>\n",
       "<style scoped>\n",
       "    .dataframe tbody tr th:only-of-type {\n",
       "        vertical-align: middle;\n",
       "    }\n",
       "\n",
       "    .dataframe tbody tr th {\n",
       "        vertical-align: top;\n",
       "    }\n",
       "\n",
       "    .dataframe thead th {\n",
       "        text-align: right;\n",
       "    }\n",
       "</style>\n",
       "<table border=\"1\" class=\"dataframe\">\n",
       "  <thead>\n",
       "    <tr style=\"text-align: right;\">\n",
       "      <th></th>\n",
       "      <th>NFLX</th>\n",
       "      <th>PYPL</th>\n",
       "      <th>GSPC</th>\n",
       "      <th>excess_return_NFLX</th>\n",
       "      <th>excess_return_PYPL</th>\n",
       "      <th>excess_return_GSPC</th>\n",
       "    </tr>\n",
       "    <tr>\n",
       "      <th>Date</th>\n",
       "      <th></th>\n",
       "      <th></th>\n",
       "      <th></th>\n",
       "      <th></th>\n",
       "      <th></th>\n",
       "      <th></th>\n",
       "    </tr>\n",
       "  </thead>\n",
       "  <tbody>\n",
       "    <tr>\n",
       "      <th>2021-01-05</th>\n",
       "      <td>-0.003940</td>\n",
       "      <td>0.012892</td>\n",
       "      <td>0.007083</td>\n",
       "      <td>-0.003951</td>\n",
       "      <td>0.012881</td>\n",
       "      <td>0.007071</td>\n",
       "    </tr>\n",
       "    <tr>\n",
       "      <th>2021-01-06</th>\n",
       "      <td>-0.038998</td>\n",
       "      <td>-0.034396</td>\n",
       "      <td>0.005710</td>\n",
       "      <td>-0.039009</td>\n",
       "      <td>-0.034407</td>\n",
       "      <td>0.005699</td>\n",
       "    </tr>\n",
       "    <tr>\n",
       "      <th>2021-01-07</th>\n",
       "      <td>0.016784</td>\n",
       "      <td>0.036194</td>\n",
       "      <td>0.014847</td>\n",
       "      <td>0.016772</td>\n",
       "      <td>0.036183</td>\n",
       "      <td>0.014836</td>\n",
       "    </tr>\n",
       "    <tr>\n",
       "      <th>2021-01-08</th>\n",
       "      <td>0.002967</td>\n",
       "      <td>0.031569</td>\n",
       "      <td>0.005492</td>\n",
       "      <td>0.002957</td>\n",
       "      <td>0.031559</td>\n",
       "      <td>0.005482</td>\n",
       "    </tr>\n",
       "    <tr>\n",
       "      <th>2021-01-11</th>\n",
       "      <td>-0.022139</td>\n",
       "      <td>-0.020457</td>\n",
       "      <td>-0.006555</td>\n",
       "      <td>-0.022149</td>\n",
       "      <td>-0.020467</td>\n",
       "      <td>-0.006565</td>\n",
       "    </tr>\n",
       "  </tbody>\n",
       "</table>\n",
       "</div>"
      ],
      "text/plain": [
       "                NFLX      PYPL      GSPC  excess_return_NFLX  \\\n",
       "Date                                                           \n",
       "2021-01-05 -0.003940  0.012892  0.007083           -0.003951   \n",
       "2021-01-06 -0.038998 -0.034396  0.005710           -0.039009   \n",
       "2021-01-07  0.016784  0.036194  0.014847            0.016772   \n",
       "2021-01-08  0.002967  0.031569  0.005492            0.002957   \n",
       "2021-01-11 -0.022139 -0.020457 -0.006555           -0.022149   \n",
       "\n",
       "            excess_return_PYPL  excess_return_GSPC  \n",
       "Date                                                \n",
       "2021-01-05            0.012881            0.007071  \n",
       "2021-01-06           -0.034407            0.005699  \n",
       "2021-01-07            0.036183            0.014836  \n",
       "2021-01-08            0.031559            0.005482  \n",
       "2021-01-11           -0.020467           -0.006565  "
      ]
     },
     "execution_count": 27,
     "metadata": {},
     "output_type": "execute_result"
    }
   ],
   "source": [
    "returns.head()"
   ]
  },
  {
   "cell_type": "markdown",
   "id": "85346eba",
   "metadata": {},
   "source": [
    "Running CAPM"
   ]
  },
  {
   "cell_type": "code",
   "execution_count": 28,
   "id": "11f61736",
   "metadata": {},
   "outputs": [],
   "source": [
    "import statsmodels.api as sm"
   ]
  },
  {
   "cell_type": "code",
   "execution_count": 36,
   "id": "32537914",
   "metadata": {},
   "outputs": [],
   "source": [
    "y_nflx = returns['excess_return_NFLX']\n",
    "X = returns['excess_return_GSPC']\n"
   ]
  },
  {
   "cell_type": "code",
   "execution_count": 37,
   "id": "60350358",
   "metadata": {},
   "outputs": [
    {
     "data": {
      "text/plain": [
       "Date\n",
       "2021-01-05   -0.003951\n",
       "2021-01-06   -0.039009\n",
       "2021-01-07    0.016772\n",
       "2021-01-08    0.002957\n",
       "2021-01-11   -0.022149\n",
       "Name: excess_return_NFLX, dtype: float64"
      ]
     },
     "execution_count": 37,
     "metadata": {},
     "output_type": "execute_result"
    }
   ],
   "source": [
    "y_nflx.head() "
   ]
  },
  {
   "cell_type": "code",
   "execution_count": 38,
   "id": "b411f343",
   "metadata": {},
   "outputs": [
    {
     "data": {
      "text/plain": [
       "Date\n",
       "2021-01-05    0.007071\n",
       "2021-01-06    0.005699\n",
       "2021-01-07    0.014836\n",
       "2021-01-08    0.005482\n",
       "2021-01-11   -0.006565\n",
       "Name: excess_return_GSPC, dtype: float64"
      ]
     },
     "execution_count": 38,
     "metadata": {},
     "output_type": "execute_result"
    }
   ],
   "source": [
    "X.head()"
   ]
  },
  {
   "cell_type": "code",
   "execution_count": 42,
   "id": "1446508c",
   "metadata": {},
   "outputs": [
    {
     "data": {
      "text/html": [
       "<div>\n",
       "<style scoped>\n",
       "    .dataframe tbody tr th:only-of-type {\n",
       "        vertical-align: middle;\n",
       "    }\n",
       "\n",
       "    .dataframe tbody tr th {\n",
       "        vertical-align: top;\n",
       "    }\n",
       "\n",
       "    .dataframe thead th {\n",
       "        text-align: right;\n",
       "    }\n",
       "</style>\n",
       "<table border=\"1\" class=\"dataframe\">\n",
       "  <thead>\n",
       "    <tr style=\"text-align: right;\">\n",
       "      <th></th>\n",
       "      <th>excess_return_GSPC</th>\n",
       "      <th>const</th>\n",
       "    </tr>\n",
       "    <tr>\n",
       "      <th>Date</th>\n",
       "      <th></th>\n",
       "      <th></th>\n",
       "    </tr>\n",
       "  </thead>\n",
       "  <tbody>\n",
       "    <tr>\n",
       "      <th>2021-01-05</th>\n",
       "      <td>0.007071</td>\n",
       "      <td>1.0</td>\n",
       "    </tr>\n",
       "    <tr>\n",
       "      <th>2021-01-06</th>\n",
       "      <td>0.005699</td>\n",
       "      <td>1.0</td>\n",
       "    </tr>\n",
       "    <tr>\n",
       "      <th>2021-01-07</th>\n",
       "      <td>0.014836</td>\n",
       "      <td>1.0</td>\n",
       "    </tr>\n",
       "    <tr>\n",
       "      <th>2021-01-08</th>\n",
       "      <td>0.005482</td>\n",
       "      <td>1.0</td>\n",
       "    </tr>\n",
       "    <tr>\n",
       "      <th>2021-01-11</th>\n",
       "      <td>-0.006565</td>\n",
       "      <td>1.0</td>\n",
       "    </tr>\n",
       "  </tbody>\n",
       "</table>\n",
       "</div>"
      ],
      "text/plain": [
       "            excess_return_GSPC  const\n",
       "Date                                 \n",
       "2021-01-05            0.007071    1.0\n",
       "2021-01-06            0.005699    1.0\n",
       "2021-01-07            0.014836    1.0\n",
       "2021-01-08            0.005482    1.0\n",
       "2021-01-11           -0.006565    1.0"
      ]
     },
     "execution_count": 42,
     "metadata": {},
     "output_type": "execute_result"
    }
   ],
   "source": [
    "X = sm.add_constant(X, prepend=False)\n",
    "X.head()"
   ]
  },
  {
   "cell_type": "code",
   "execution_count": 45,
   "id": "a21cf22a",
   "metadata": {},
   "outputs": [],
   "source": [
    "capm_nflx = sm.OLS(y_nflx,X)\n",
    "capm_nflx\n",
    "capm_result_nflx = capm_nflx.fit()"
   ]
  },
  {
   "cell_type": "code",
   "execution_count": 46,
   "id": "3ad31a8f",
   "metadata": {},
   "outputs": [
    {
     "data": {
      "text/html": [
       "<table class=\"simpletable\">\n",
       "<caption>OLS Regression Results</caption>\n",
       "<tr>\n",
       "  <th>Dep. Variable:</th>    <td>excess_return_NFLX</td> <th>  R-squared:         </th> <td>   0.292</td>\n",
       "</tr>\n",
       "<tr>\n",
       "  <th>Model:</th>                    <td>OLS</td>        <th>  Adj. R-squared:    </th> <td>   0.280</td>\n",
       "</tr>\n",
       "<tr>\n",
       "  <th>Method:</th>              <td>Least Squares</td>   <th>  F-statistic:       </th> <td>   23.92</td>\n",
       "</tr>\n",
       "<tr>\n",
       "  <th>Date:</th>              <td>Wed, 28 Sep 2022</td>  <th>  Prob (F-statistic):</th> <td>8.34e-06</td>\n",
       "</tr>\n",
       "<tr>\n",
       "  <th>Time:</th>                  <td>23:09:38</td>      <th>  Log-Likelihood:    </th> <td>  135.24</td>\n",
       "</tr>\n",
       "<tr>\n",
       "  <th>No. Observations:</th>       <td>    60</td>       <th>  AIC:               </th> <td>  -266.5</td>\n",
       "</tr>\n",
       "<tr>\n",
       "  <th>Df Residuals:</th>           <td>    58</td>       <th>  BIC:               </th> <td>  -262.3</td>\n",
       "</tr>\n",
       "<tr>\n",
       "  <th>Df Model:</th>               <td>     1</td>       <th>                     </th>     <td> </td>   \n",
       "</tr>\n",
       "<tr>\n",
       "  <th>Covariance Type:</th>       <td>nonrobust</td>     <th>                     </th>     <td> </td>   \n",
       "</tr>\n",
       "</table>\n",
       "<table class=\"simpletable\">\n",
       "<tr>\n",
       "           <td></td>             <th>coef</th>     <th>std err</th>      <th>t</th>      <th>P>|t|</th>  <th>[0.025</th>    <th>0.975]</th>  \n",
       "</tr>\n",
       "<tr>\n",
       "  <th>excess_return_GSPC</th> <td>    1.6674</td> <td>    0.341</td> <td>    4.891</td> <td> 0.000</td> <td>    0.985</td> <td>    2.350</td>\n",
       "</tr>\n",
       "<tr>\n",
       "  <th>const</th>              <td>   -0.0017</td> <td>    0.003</td> <td>   -0.492</td> <td> 0.625</td> <td>   -0.008</td> <td>    0.005</td>\n",
       "</tr>\n",
       "</table>\n",
       "<table class=\"simpletable\">\n",
       "<tr>\n",
       "  <th>Omnibus:</th>       <td>69.692</td> <th>  Durbin-Watson:     </th> <td>   2.086</td> \n",
       "</tr>\n",
       "<tr>\n",
       "  <th>Prob(Omnibus):</th> <td> 0.000</td> <th>  Jarque-Bera (JB):  </th> <td> 758.494</td> \n",
       "</tr>\n",
       "<tr>\n",
       "  <th>Skew:</th>          <td> 3.083</td> <th>  Prob(JB):          </th> <td>1.97e-165</td>\n",
       "</tr>\n",
       "<tr>\n",
       "  <th>Kurtosis:</th>      <td>19.290</td> <th>  Cond. No.          </th> <td>    102.</td> \n",
       "</tr>\n",
       "</table><br/><br/>Notes:<br/>[1] Standard Errors assume that the covariance matrix of the errors is correctly specified."
      ],
      "text/plain": [
       "<class 'statsmodels.iolib.summary.Summary'>\n",
       "\"\"\"\n",
       "                            OLS Regression Results                            \n",
       "==============================================================================\n",
       "Dep. Variable:     excess_return_NFLX   R-squared:                       0.292\n",
       "Model:                            OLS   Adj. R-squared:                  0.280\n",
       "Method:                 Least Squares   F-statistic:                     23.92\n",
       "Date:                Wed, 28 Sep 2022   Prob (F-statistic):           8.34e-06\n",
       "Time:                        23:09:38   Log-Likelihood:                 135.24\n",
       "No. Observations:                  60   AIC:                            -266.5\n",
       "Df Residuals:                      58   BIC:                            -262.3\n",
       "Df Model:                           1                                         \n",
       "Covariance Type:            nonrobust                                         \n",
       "======================================================================================\n",
       "                         coef    std err          t      P>|t|      [0.025      0.975]\n",
       "--------------------------------------------------------------------------------------\n",
       "excess_return_GSPC     1.6674      0.341      4.891      0.000       0.985       2.350\n",
       "const                 -0.0017      0.003     -0.492      0.625      -0.008       0.005\n",
       "==============================================================================\n",
       "Omnibus:                       69.692   Durbin-Watson:                   2.086\n",
       "Prob(Omnibus):                  0.000   Jarque-Bera (JB):              758.494\n",
       "Skew:                           3.083   Prob(JB):                    1.97e-165\n",
       "Kurtosis:                      19.290   Cond. No.                         102.\n",
       "==============================================================================\n",
       "\n",
       "Notes:\n",
       "[1] Standard Errors assume that the covariance matrix of the errors is correctly specified.\n",
       "\"\"\""
      ]
     },
     "execution_count": 46,
     "metadata": {},
     "output_type": "execute_result"
    }
   ],
   "source": [
    "capm_result_nflx.summary()"
   ]
  },
  {
   "cell_type": "markdown",
   "id": "74dbbb98",
   "metadata": {},
   "source": [
    "1) from above we can say that as p value is equal to zero we can reject the null hypothesis and can say that there is relation between excess return of netfix and excess return of market which is S&P 500.\n",
    "2) from above we have beta magnitude of 1.6674 from which we can say that for every  1-unit increase in S&P-500 results in an increase of 1.6674 in Netflix return.\n",
    "3) We have R-squared value as 0.292 which indicates that excess return of S & P 500 explains only 29.2% of changes in the dependent variable which is execess return of netflix."
   ]
  },
  {
   "cell_type": "code",
   "execution_count": 59,
   "id": "c1ec7c8c",
   "metadata": {},
   "outputs": [],
   "source": [
    "y_pypl = returns['excess_return_PYPL']\n",
    "X = returns['excess_return_GSPC']\n"
   ]
  },
  {
   "cell_type": "code",
   "execution_count": 60,
   "id": "8f100442",
   "metadata": {},
   "outputs": [
    {
     "data": {
      "text/html": [
       "<div>\n",
       "<style scoped>\n",
       "    .dataframe tbody tr th:only-of-type {\n",
       "        vertical-align: middle;\n",
       "    }\n",
       "\n",
       "    .dataframe tbody tr th {\n",
       "        vertical-align: top;\n",
       "    }\n",
       "\n",
       "    .dataframe thead th {\n",
       "        text-align: right;\n",
       "    }\n",
       "</style>\n",
       "<table border=\"1\" class=\"dataframe\">\n",
       "  <thead>\n",
       "    <tr style=\"text-align: right;\">\n",
       "      <th></th>\n",
       "      <th>excess_return_GSPC</th>\n",
       "      <th>const</th>\n",
       "    </tr>\n",
       "    <tr>\n",
       "      <th>Date</th>\n",
       "      <th></th>\n",
       "      <th></th>\n",
       "    </tr>\n",
       "  </thead>\n",
       "  <tbody>\n",
       "    <tr>\n",
       "      <th>2021-01-05</th>\n",
       "      <td>0.007071</td>\n",
       "      <td>1.0</td>\n",
       "    </tr>\n",
       "    <tr>\n",
       "      <th>2021-01-06</th>\n",
       "      <td>0.005699</td>\n",
       "      <td>1.0</td>\n",
       "    </tr>\n",
       "    <tr>\n",
       "      <th>2021-01-07</th>\n",
       "      <td>0.014836</td>\n",
       "      <td>1.0</td>\n",
       "    </tr>\n",
       "    <tr>\n",
       "      <th>2021-01-08</th>\n",
       "      <td>0.005482</td>\n",
       "      <td>1.0</td>\n",
       "    </tr>\n",
       "    <tr>\n",
       "      <th>2021-01-11</th>\n",
       "      <td>-0.006565</td>\n",
       "      <td>1.0</td>\n",
       "    </tr>\n",
       "  </tbody>\n",
       "</table>\n",
       "</div>"
      ],
      "text/plain": [
       "            excess_return_GSPC  const\n",
       "Date                                 \n",
       "2021-01-05            0.007071    1.0\n",
       "2021-01-06            0.005699    1.0\n",
       "2021-01-07            0.014836    1.0\n",
       "2021-01-08            0.005482    1.0\n",
       "2021-01-11           -0.006565    1.0"
      ]
     },
     "execution_count": 60,
     "metadata": {},
     "output_type": "execute_result"
    }
   ],
   "source": [
    "X = sm.add_constant(X, prepend=False)\n",
    "X.head()"
   ]
  },
  {
   "cell_type": "code",
   "execution_count": 61,
   "id": "8be17241",
   "metadata": {},
   "outputs": [],
   "source": [
    "capm_pypl = sm.OLS(y_pypl,X)\n",
    "capm_result_pypl = capm_pypl.fit()"
   ]
  },
  {
   "cell_type": "code",
   "execution_count": 62,
   "id": "51e0dbd4",
   "metadata": {},
   "outputs": [
    {
     "data": {
      "text/html": [
       "<table class=\"simpletable\">\n",
       "<caption>OLS Regression Results</caption>\n",
       "<tr>\n",
       "  <th>Dep. Variable:</th>    <td>excess_return_PYPL</td> <th>  R-squared:         </th> <td>   0.497</td>\n",
       "</tr>\n",
       "<tr>\n",
       "  <th>Model:</th>                    <td>OLS</td>        <th>  Adj. R-squared:    </th> <td>   0.488</td>\n",
       "</tr>\n",
       "<tr>\n",
       "  <th>Method:</th>              <td>Least Squares</td>   <th>  F-statistic:       </th> <td>   57.27</td>\n",
       "</tr>\n",
       "<tr>\n",
       "  <th>Date:</th>              <td>Wed, 28 Sep 2022</td>  <th>  Prob (F-statistic):</th> <td>3.25e-10</td>\n",
       "</tr>\n",
       "<tr>\n",
       "  <th>Time:</th>                  <td>23:54:59</td>      <th>  Log-Likelihood:    </th> <td>  143.98</td>\n",
       "</tr>\n",
       "<tr>\n",
       "  <th>No. Observations:</th>       <td>    60</td>       <th>  AIC:               </th> <td>  -284.0</td>\n",
       "</tr>\n",
       "<tr>\n",
       "  <th>Df Residuals:</th>           <td>    58</td>       <th>  BIC:               </th> <td>  -279.8</td>\n",
       "</tr>\n",
       "<tr>\n",
       "  <th>Df Model:</th>               <td>     1</td>       <th>                     </th>     <td> </td>   \n",
       "</tr>\n",
       "<tr>\n",
       "  <th>Covariance Type:</th>       <td>nonrobust</td>     <th>                     </th>     <td> </td>   \n",
       "</tr>\n",
       "</table>\n",
       "<table class=\"simpletable\">\n",
       "<tr>\n",
       "           <td></td>             <th>coef</th>     <th>std err</th>      <th>t</th>      <th>P>|t|</th>  <th>[0.025</th>    <th>0.975]</th>  \n",
       "</tr>\n",
       "<tr>\n",
       "  <th>excess_return_GSPC</th> <td>    2.2302</td> <td>    0.295</td> <td>    7.568</td> <td> 0.000</td> <td>    1.640</td> <td>    2.820</td>\n",
       "</tr>\n",
       "<tr>\n",
       "  <th>const</th>              <td>   -0.0015</td> <td>    0.003</td> <td>   -0.514</td> <td> 0.609</td> <td>   -0.007</td> <td>    0.004</td>\n",
       "</tr>\n",
       "</table>\n",
       "<table class=\"simpletable\">\n",
       "<tr>\n",
       "  <th>Omnibus:</th>       <td> 0.527</td> <th>  Durbin-Watson:     </th> <td>   1.788</td>\n",
       "</tr>\n",
       "<tr>\n",
       "  <th>Prob(Omnibus):</th> <td> 0.769</td> <th>  Jarque-Bera (JB):  </th> <td>   0.644</td>\n",
       "</tr>\n",
       "<tr>\n",
       "  <th>Skew:</th>          <td>-0.050</td> <th>  Prob(JB):          </th> <td>   0.725</td>\n",
       "</tr>\n",
       "<tr>\n",
       "  <th>Kurtosis:</th>      <td> 2.502</td> <th>  Cond. No.          </th> <td>    102.</td>\n",
       "</tr>\n",
       "</table><br/><br/>Notes:<br/>[1] Standard Errors assume that the covariance matrix of the errors is correctly specified."
      ],
      "text/plain": [
       "<class 'statsmodels.iolib.summary.Summary'>\n",
       "\"\"\"\n",
       "                            OLS Regression Results                            \n",
       "==============================================================================\n",
       "Dep. Variable:     excess_return_PYPL   R-squared:                       0.497\n",
       "Model:                            OLS   Adj. R-squared:                  0.488\n",
       "Method:                 Least Squares   F-statistic:                     57.27\n",
       "Date:                Wed, 28 Sep 2022   Prob (F-statistic):           3.25e-10\n",
       "Time:                        23:54:59   Log-Likelihood:                 143.98\n",
       "No. Observations:                  60   AIC:                            -284.0\n",
       "Df Residuals:                      58   BIC:                            -279.8\n",
       "Df Model:                           1                                         \n",
       "Covariance Type:            nonrobust                                         \n",
       "======================================================================================\n",
       "                         coef    std err          t      P>|t|      [0.025      0.975]\n",
       "--------------------------------------------------------------------------------------\n",
       "excess_return_GSPC     2.2302      0.295      7.568      0.000       1.640       2.820\n",
       "const                 -0.0015      0.003     -0.514      0.609      -0.007       0.004\n",
       "==============================================================================\n",
       "Omnibus:                        0.527   Durbin-Watson:                   1.788\n",
       "Prob(Omnibus):                  0.769   Jarque-Bera (JB):                0.644\n",
       "Skew:                          -0.050   Prob(JB):                        0.725\n",
       "Kurtosis:                       2.502   Cond. No.                         102.\n",
       "==============================================================================\n",
       "\n",
       "Notes:\n",
       "[1] Standard Errors assume that the covariance matrix of the errors is correctly specified.\n",
       "\"\"\""
      ]
     },
     "execution_count": 62,
     "metadata": {},
     "output_type": "execute_result"
    }
   ],
   "source": [
    "capm_result_pypl.summary()"
   ]
  },
  {
   "cell_type": "markdown",
   "id": "453fe3dc",
   "metadata": {},
   "source": [
    "1) from above we can say that as p value is equal to zero we can reject the null hypothesis and can say that there is relation between excess return of paypal and excess return of market which is S&P 500.\n",
    "2) from above we have beta magnitude of 1.6674 from which we can say that for every  1-unit increase in S&P-500 results in an increase of 2.2302 in paypal return.\n",
    "3) We have R-squared value as 0.292 which indicates that excess return of S & P 500 explains only 49.97% of changes in the dependent variable which is execess return of paypal."
   ]
  },
  {
   "cell_type": "markdown",
   "id": "840e8031",
   "metadata": {},
   "source": [
    "## Compare the Performance"
   ]
  },
  {
   "cell_type": "code",
   "execution_count": 64,
   "id": "a09addeb",
   "metadata": {},
   "outputs": [],
   "source": [
    "import matplotlib.pyplot as plt"
   ]
  },
  {
   "cell_type": "code",
   "execution_count": 65,
   "id": "fea47280",
   "metadata": {},
   "outputs": [
    {
     "data": {
      "text/plain": [
       "[1.6673774332796902, 2.2301990542591077]"
      ]
     },
     "execution_count": 65,
     "metadata": {},
     "output_type": "execute_result"
    }
   ],
   "source": [
    "betas = [capm_result_nflx.params[0],\n",
    "         capm_result_pypl.params[0]]\n",
    "betas"
   ]
  },
  {
   "cell_type": "code",
   "execution_count": 66,
   "id": "e12d71a1",
   "metadata": {},
   "outputs": [],
   "source": [
    "def SML(rf, ret, beta):\n",
    "    asset_ret = [rf + (rm - rf) * i for i in betas]\n",
    "    plt.plot(betas, asset_ret)\n",
    "    plt.xlabel('Asset Beta')\n",
    "    plt.ylabel('Asset Return')\n",
    "    plt.title('SML')\n",
    "    plt.plot(1, ret, 'ro')"
   ]
  },
  {
   "cell_type": "code",
   "execution_count": 67,
   "id": "88d039ac",
   "metadata": {},
   "outputs": [],
   "source": [
    "rf = risk_free.mean()\n",
    "rm = returns['GSPC'].mean()"
   ]
  },
  {
   "cell_type": "code",
   "execution_count": 68,
   "id": "45969b38",
   "metadata": {},
   "outputs": [
    {
     "data": {
      "image/png": "[encoded data removed]",
      "text/plain": [
       "<Figure size 432x288 with 1 Axes>"
      ]
     },
     "metadata": {
      "needs_background": "light"
     },
     "output_type": "display_data"
    }
   ],
   "source": [
    "SML(rf,rm,betas)"
   ]
  },
  {
   "cell_type": "markdown",
   "id": "9605816b",
   "metadata": {},
   "source": [
    "Given the beta, if the stock locates below the SML, this implies that stock has a higher return per unit of risk assumed. Hence, it can be concluded that the stock is overvalued and decide to sell the stock. Conversely, if the stock locates above the SML, stock has a lower return per unit of risk assumed, which is considered to be undervalued and buying a stock would be wise choice. "
   ]
  },
  {
   "cell_type": "markdown",
   "id": "38b0fb14",
   "metadata": {},
   "source": [
    "## sharp ratio"
   ]
  },
  {
   "cell_type": "code",
   "execution_count": 71,
   "id": "bdbd2a11",
   "metadata": {},
   "outputs": [],
   "source": [
    "def sharpe(stocks,rf,n_assets):\n",
    "    sharpe_ratios = {}\n",
    "    for i,j in zip(stocks,range(n_assets)):\n",
    "        sharpe_ratios[i] = returns.iloc[:,j].mean()-rf/np.std(returns.iloc[:,j])\n",
    "    return sharpe_ratios"
   ]
  },
  {
   "cell_type": "code",
   "execution_count": 82,
   "id": "fcdbfdfa",
   "metadata": {},
   "outputs": [
    {
     "data": {
      "text/plain": [
       "{'NFLX': 0.00019005307450175517, 'PYPL': 0.0010435070478811896}"
      ]
     },
     "execution_count": 82,
     "metadata": {},
     "output_type": "execute_result"
    }
   ],
   "source": [
    "stocks = returns.columns[:2]\n",
    "sharpe_ratios=sharpe(stocks,rf,2)\n",
    "sharpe_ratios"
   ]
  },
  {
   "cell_type": "markdown",
   "id": "d04f2034",
   "metadata": {},
   "source": [
    "from above we can see that the sharpe ratio for paypal is greater so we can say that investment in paypal is advisable considering the risk"
   ]
  },
  {
   "cell_type": "markdown",
   "id": "fd8657c6",
   "metadata": {},
   "source": [
    "## Treynor ratio"
   ]
  },
  {
   "cell_type": "code",
   "execution_count": 75,
   "id": "11db5d91",
   "metadata": {},
   "outputs": [],
   "source": [
    "df_betas = pd.DataFrame(betas)"
   ]
  },
  {
   "cell_type": "code",
   "execution_count": 77,
   "id": "da25bc21",
   "metadata": {},
   "outputs": [],
   "source": [
    "df_betas.columns = ['betas']"
   ]
  },
  {
   "cell_type": "code",
   "execution_count": 79,
   "id": "7bab2fee",
   "metadata": {},
   "outputs": [],
   "source": [
    "df_betas.index = returns.columns[:2]"
   ]
  },
  {
   "cell_type": "code",
   "execution_count": 80,
   "id": "480c26d9",
   "metadata": {},
   "outputs": [
    {
     "data": {
      "text/html": [
       "<div>\n",
       "<style scoped>\n",
       "    .dataframe tbody tr th:only-of-type {\n",
       "        vertical-align: middle;\n",
       "    }\n",
       "\n",
       "    .dataframe tbody tr th {\n",
       "        vertical-align: top;\n",
       "    }\n",
       "\n",
       "    .dataframe thead th {\n",
       "        text-align: right;\n",
       "    }\n",
       "</style>\n",
       "<table border=\"1\" class=\"dataframe\">\n",
       "  <thead>\n",
       "    <tr style=\"text-align: right;\">\n",
       "      <th></th>\n",
       "      <th>betas</th>\n",
       "    </tr>\n",
       "  </thead>\n",
       "  <tbody>\n",
       "    <tr>\n",
       "      <th>NFLX</th>\n",
       "      <td>1.667377</td>\n",
       "    </tr>\n",
       "    <tr>\n",
       "      <th>PYPL</th>\n",
       "      <td>2.230199</td>\n",
       "    </tr>\n",
       "  </tbody>\n",
       "</table>\n",
       "</div>"
      ],
      "text/plain": [
       "         betas\n",
       "NFLX  1.667377\n",
       "PYPL  2.230199"
      ]
     },
     "execution_count": 80,
     "metadata": {},
     "output_type": "execute_result"
    }
   ],
   "source": [
    "df_betas"
   ]
  },
  {
   "cell_type": "code",
   "execution_count": 81,
   "id": "2e2dcc40",
   "metadata": {},
   "outputs": [],
   "source": [
    "def treynor(stocks, rf, n_assets):\n",
    "    treynor_ratios = {}\n",
    "    for i, j in enumerate(stocks):\n",
    "        treynor_ratios[j] = returns.iloc[:, i].mean() - rf / df_betas['betas'][j]\n",
    "    return treynor_ratios"
   ]
  },
  {
   "cell_type": "code",
   "execution_count": 83,
   "id": "6fc6b7a8",
   "metadata": {},
   "outputs": [
    {
     "data": {
      "text/plain": [
       "{'NFLX': 0.00039341154838743944, 'PYPL': 0.0012426909779305049}"
      ]
     },
     "execution_count": 83,
     "metadata": {},
     "output_type": "execute_result"
    }
   ],
   "source": [
    "treynor(stocks, rf, 2)"
   ]
  },
  {
   "cell_type": "markdown",
   "id": "355ca04d",
   "metadata": {},
   "source": [
    "from treynor ratio aslo we can see that paypal has highest value so we can consider that it is advisable to invest on paypal."
   ]
  },
  {
   "cell_type": "code",
   "execution_count": null,
   "id": "ddf5cc27",
   "metadata": {},
   "outputs": [],
   "source": []
  }
 ],
 "metadata": {
  "kernelspec": {
   "display_name": "Python 3 (ipykernel)",
   "language": "python",
   "name": "python3"
  },
  "language_info": {
   "codemirror_mode": {
    "name": "ipython",
    "version": 3
   },
   "file_extension": ".py",
   "mimetype": "text/x-python",
   "name": "python",
   "nbconvert_exporter": "python",
   "pygments_lexer": "ipython3",
   "version": "3.9.12"
  },
  "latex_envs": {
   "LaTeX_envs_menu_present": true,
   "autoclose": false,
   "autocomplete": true,
   "bibliofile": "biblio.bib",
   "cite_by": "apalike",
   "current_citInitial": 1,
   "eqLabelWithNumbers": true,
   "eqNumInitial": 1,
   "hotkeys": {
    "equation": "Ctrl-E",
    "itemize": "Ctrl-I"
   },
   "labels_anchors": false,
   "latex_user_defs": false,
   "report_style_numbering": false,
   "user_envs_cfg": false
  },
  "toc": {
   "base_numbering": 1,
   "nav_menu": {},
   "number_sections": false,
   "sideBar": true,
   "skip_h1_title": false,
   "title_cell": "Table of Contents",
   "title_sidebar": "Contents",
   "toc_cell": false,
   "toc_position": {},
   "toc_section_display": true,
   "toc_window_display": false
  }
 },
 "nbformat": 4,
 "nbformat_minor": 5
}
